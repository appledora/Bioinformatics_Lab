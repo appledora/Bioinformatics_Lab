{
 "metadata": {
  "language_info": {
   "codemirror_mode": {
    "name": "ipython",
    "version": 3
   },
   "file_extension": ".py",
   "mimetype": "text/x-python",
   "name": "python",
   "nbconvert_exporter": "python",
   "pygments_lexer": "ipython3",
   "version": "3.6.9-final"
  },
  "orig_nbformat": 2,
  "kernelspec": {
   "name": "python36964bit96b38543bc524d45aa4022ceee87892b",
   "display_name": "Python 3.6.9 64-bit",
   "language": "python"
  }
 },
 "nbformat": 4,
 "nbformat_minor": 2,
 "cells": [
  {
   "source": [
    "### (1A) Compute the Number of Times a Pattern Appears in a Text"
   ],
   "cell_type": "markdown",
   "metadata": {}
  },
  {
   "cell_type": "code",
   "execution_count": 1,
   "metadata": {},
   "outputs": [
    {
     "output_type": "stream",
     "name": "stdout",
     "text": [
      "2\n"
     ]
    }
   ],
   "source": [
    "def pattern_frequency(text, pattern):\n",
    "    count = 0;\n",
    "    for i in range (len(text)-len(pattern) + 1):\n",
    "        if text[i:i+len(pattern)] == pattern: \n",
    "            count+=1\n",
    "\n",
    "    return count\n",
    "print(pattern_frequency(\"GGACTTACTGACGTACG\", \"ACT\"))"
   ]
  },
  {
   "source": [
    "### (1B) Find the Most Frequent Words in a String"
   ],
   "cell_type": "markdown",
   "metadata": {}
  },
  {
   "cell_type": "code",
   "execution_count": 2,
   "metadata": {},
   "outputs": [
    {
     "output_type": "execute_result",
     "data": {
      "text/plain": [
       "['TGG']"
      ]
     },
     "metadata": {},
     "execution_count": 2
    }
   ],
   "source": [
    "from collections import Counter\n",
    "def most_frequent_pattern(text,n) :\n",
    "    subs = Counter(text[i:i+n] for i in range(len(text)-n+1))\n",
    "    max_value = max(subs.values())\n",
    "    return sorted(key for key, value in subs.items() if           value == max_value)\n",
    "\n",
    "most_frequent_pattern(\"TGGTAGCGACGTTGGTCCCGCCGCTTGAGAATCTGGATGAACATAAGCTCCCACTTGGCTTATTCAGAGAACTGGTCAACACTTGTCTCTCCCAGCCAGGTCTGACCACCGGGCAACTTTTAGAGCACTATCGTGGTACAAATAATGCTGCCAC\",3)"
   ]
  },
  {
   "source": [
    "### (1C) Find the Reverse Complement of a DNA String"
   ],
   "cell_type": "markdown",
   "metadata": {}
  },
  {
   "cell_type": "code",
   "execution_count": 21,
   "metadata": {},
   "outputs": [
    {
     "output_type": "execute_result",
     "data": {
      "text/plain": [
       "'GTGTGT'"
      ]
     },
     "metadata": {},
     "execution_count": 21
    }
   ],
   "source": [
    "def reverse_complement(text):\n",
    "    text = text[::-1]\n",
    "    switcher = {\n",
    "        \"A\" : \"T\",\n",
    "        \"T\" : \"A\",\n",
    "        \"G\" : \"C\",\n",
    "        \"C\" : \"G\"}\n",
    "    rev = \"\"\n",
    "    for i in range(len(text)):\n",
    "        # print(switcher.get(text[i]), end = \"\")\n",
    "        rev+=switcher.get(text[i])\n",
    "    return rev \n",
    "reverse_complement(\"ACACAC\") "
   ]
  },
  {
   "source": [
    "### (1D) Find All Occurrences of a Pattern in a String "
   ],
   "cell_type": "markdown",
   "metadata": {}
  },
  {
   "cell_type": "code",
   "execution_count": 4,
   "metadata": {},
   "outputs": [
    {
     "output_type": "stream",
     "name": "stdout",
     "text": [
      "[1, 3, 9]\n"
     ]
    }
   ],
   "source": [
    "def all_pattern_occurance(pattern,text):\n",
    "    print([i for i in range(len(text)) if text.startswith(pattern, i)])\n",
    "\n",
    "all_pattern_occurance(\"ATAT\",\"GATATATGCATATACTT\")"
   ]
  },
  {
   "source": [
    "### (1E) Find Patterns Forming Clumps in a String"
   ],
   "cell_type": "markdown",
   "metadata": {}
  },
  {
   "cell_type": "code",
   "execution_count": 6,
   "metadata": {},
   "outputs": [
    {
     "output_type": "stream",
     "name": "stdout",
     "text": [
      "{'CGACA', 'AATGT', 'GAAGA'}\n"
     ]
    }
   ],
   "source": [
    "def different_patterns(text,n) :\n",
    "    subs = dict(Counter(text[i:i+n] for i in range(len(text)-n+1)).items())\n",
    "    return subs\n",
    "\n",
    "\n",
    "def clump_finding(genome,k,L,t):\n",
    "    listy = {}\n",
    "    listy = set()\n",
    "    for i in range(len(genome) - L):\n",
    "        window =  genome[i:i+L]\n",
    "        patterns = different_patterns(window,k)\n",
    "        for p in patterns:\n",
    "            if(int(patterns[p]) >= t):\n",
    "                listy.add(p)\n",
    "    print(listy)\n",
    "\n",
    "clump_finding(\"CGGACTCGACAGATGTGAAGAAATGTGAAGACTGAGTGAAGAGAAGAGGAAACACGACACGACATTGCGACATAATGTACGAATGTAATGTGCCTATGGC\", 5, 75, 4)"
   ]
  },
  {
   "source": [
    "### (1F) Find a Position in a Genome Minimizing the Skew"
   ],
   "cell_type": "markdown",
   "metadata": {}
  },
  {
   "cell_type": "code",
   "execution_count": 9,
   "metadata": {},
   "outputs": [
    {
     "output_type": "stream",
     "name": "stdout",
     "text": [
      "8 10 "
     ]
    }
   ],
   "source": [
    "\n",
    "def skew(genome):\n",
    "    val = 0;\n",
    "    track = []\n",
    "    track.append(0)\n",
    "    for i in genome:\n",
    "        if i == \"G\":\n",
    "            val += 1\n",
    "        elif i == \"C\":\n",
    "            val -=1\n",
    "        track.append(val)\n",
    "    return track\n",
    "\n",
    "def skew_minima(genome):\n",
    "    track = skew(genome)\n",
    "    idx_list = []\n",
    "    # print(track)\n",
    "    minima = min(track)\n",
    "    for i in range(len(track)):\n",
    "        if (track[i] == minima):\n",
    "            idx_list.append(i)\n",
    "    for i in idx_list:\n",
    "        print(i,end=\" \")\n",
    "skew_minima(\"GAGCCACCGCGATA\")"
   ]
  },
  {
   "source": [
    "### (1G) Compute the Hamming Distance Between Two Strings"
   ],
   "cell_type": "markdown",
   "metadata": {}
  },
  {
   "cell_type": "code",
   "execution_count": 10,
   "metadata": {},
   "outputs": [
    {
     "output_type": "execute_result",
     "data": {
      "text/plain": [
       "3"
      ]
     },
     "metadata": {},
     "execution_count": 10
    }
   ],
   "source": [
    "def HammingDistance(p, q):\n",
    "    count = 0\n",
    "    for (i,j) in zip(p,q):\n",
    "        if i != j:\n",
    "            count += 1\n",
    "    return count\n",
    "HammingDistance(\"GGGCCGTTGGT\",\"GGACCGTTGAC\")"
   ]
  },
  {
   "source": [
    "### (1H) Find All Approximate Occurrences of a Pattern in a String"
   ],
   "cell_type": "markdown",
   "metadata": {}
  },
  {
   "cell_type": "code",
   "execution_count": 11,
   "metadata": {},
   "outputs": [
    {
     "output_type": "execute_result",
     "data": {
      "text/plain": [
       "[6, 7, 26, 27, 78]"
      ]
     },
     "metadata": {},
     "execution_count": 11
    }
   ],
   "source": [
    "def ApproximatePatternMatching(Pattern, Text, d):\n",
    "    positions = []\n",
    "    patterns_list = []\n",
    "    for i in range(len(Text)-len(Pattern)+1):\n",
    "        Pattern_ = Text[i:i+len(Pattern)]\n",
    "        if HammingDistance(Pattern_, Pattern) <= d:\n",
    "            positions.append(i)\n",
    "            patterns_list.append(Pattern_)\n",
    "\n",
    "    return positions\n",
    "\n",
    "ApproximatePatternMatching(\"ATTCTGGA\",\"CGCCCGAATCCAGAACGCATTCCCATATTTCGGGACCACTGGCCTCCACGGTACGGACGTCAATCAAATGCCTAGCGGCTTGTGGTTTCTCCTACGCTCC\",3)"
   ]
  },
  {
   "source": [
    "### (1I) Find the Most Frequent Words with Mismatches in a String "
   ],
   "cell_type": "markdown",
   "metadata": {}
  },
  {
   "cell_type": "code",
   "execution_count": 15,
   "metadata": {},
   "outputs": [
    {
     "output_type": "execute_result",
     "data": {
      "text/plain": [
       "['ATGC', 'ATGT', 'GATG']"
      ]
     },
     "metadata": {},
     "execution_count": 15
    }
   ],
   "source": [
    "def SymbolToNumber(symbol):\n",
    "    if symbol=='A':\n",
    "        return 0\n",
    "    elif symbol=='C':\n",
    "        return 1\n",
    "    elif symbol=='G':\n",
    "        return 2\n",
    "    else:\n",
    "        return 3\n",
    "    \n",
    "def PatternToNumber(pattern):\n",
    "    if pattern=='':\n",
    "        return 0\n",
    "    symbol=pattern[-1]\n",
    "    prefix=pattern[:-1]\n",
    "    return 4*PatternToNumber(prefix)+SymbolToNumber(symbol)\n",
    "\n",
    "def NumberToPattern(index, k):\n",
    "    table = {0:'A', 1:'C', 2:'G', 3:'T'}\n",
    "    if k == 1:\n",
    "        # print(\"ret for k: \",k ,\" index : \",int(index) , \" => \" ,table[int(index)])\n",
    "        return table[int(index)]\n",
    "    prefixIndex = index / 4\n",
    "    r = index % 4\n",
    "    prefixPattern = NumberToPattern(prefixIndex, k-1)\n",
    "    symbol = table[int(r)]\n",
    "    # print(\"ret for k: \",k ,\" index : \",int(index) , \" => \" , prefixPattern + symbol)\n",
    "    return prefixPattern + symbol\n",
    "\n",
    "def NeighborhoodofString(pattern, d):\n",
    "    if d == 0:\n",
    "        return [pattern]\n",
    "    if len(pattern) == 1:\n",
    "        return ['A', 'C', 'G', 'T']\n",
    "    neighborhood = []\n",
    "    sufneigh =NeighborhoodofString(pattern[1:],d)\n",
    "    for x in sufneigh:\n",
    "        if HammingDistance(pattern[1:],x) < d:\n",
    "            neighborhood.extend(['A'+x, 'C'+x, 'G'+x, 'T'+x])\n",
    "        else:\n",
    "            neighborhood.append(pattern[0] + x)\n",
    "    return neighborhood\n",
    "\n",
    "def most_frequent_approximate_pattern(Text, k,d):\n",
    "    frequencyArray = []\n",
    "    max_approx_pattern = [] \n",
    "    for i in range(4**k):\n",
    "        frequencyArray.append(0)\n",
    "    for i in range(len(Text) - k+1):\n",
    "        pattern = Text[i: i+k]\n",
    "        neighborhood_p = NeighborhoodofString(pattern,d)\n",
    "        for neighbor in neighborhood_p:\n",
    "            index_n = PatternToNumber(neighbor)\n",
    "            frequencyArray[index_n] = frequencyArray[index_n] + 1\n",
    "    maxima = max(frequencyArray)\n",
    "\n",
    "    for i in range(len(frequencyArray)):\n",
    "        if (frequencyArray[i] == maxima):\n",
    "            text = NumberToPattern(i,k)\n",
    "            max_approx_pattern.append(text)\n",
    "    return max_approx_pattern\n",
    "\n",
    "most_frequent_approximate_pattern(\"ACGTTGCATGTCGCATGATGCATGAGAGCT\", 4, 1)"
   ]
  },
  {
   "source": [
    "### (1J) Find Frequent Words with Mismatches and Reverse Complements"
   ],
   "cell_type": "markdown",
   "metadata": {}
  },
  {
   "cell_type": "code",
   "execution_count": 22,
   "metadata": {},
   "outputs": [
    {
     "output_type": "execute_result",
     "data": {
      "text/plain": [
       "['ACAT', 'ATGT']"
      ]
     },
     "metadata": {},
     "execution_count": 22
    }
   ],
   "source": [
    "def most_frequent_pattern_with_reverse_complement(Text, k, d):\n",
    "    freq_array = []\n",
    "    max_approx_pattern = []\n",
    "    for i in range(4**k):\n",
    "        freq_array.append(0)\n",
    "    \n",
    "    for i in range(len(Text)-k+1):\n",
    "        pattern = Text[i:i+k]\n",
    "        neighborhood_p = NeighborhoodofString(pattern,d)\n",
    "        pattern_ = reverse_complement(pattern)\n",
    "        neighborhood_p_ = NeighborhoodofString(pattern_,d)\n",
    "\n",
    "        for neighbor in neighborhood_p:\n",
    "            if HammingDistance(pattern,neighbor) <=d:\n",
    "                index = PatternToNumber(neighbor)\n",
    "                freq_array[index] = freq_array[index]+1\n",
    "\n",
    "        for neighbor in neighborhood_p_:\n",
    "            if HammingDistance(pattern_,neighbor) <=d:\n",
    "                index = PatternToNumber(neighbor)\n",
    "                freq_array[index] = freq_array[index]+1\n",
    "    maxima = max(freq_array)\n",
    "\n",
    "    for i in range(len(freq_array)):\n",
    "        if (freq_array[i] == maxima):\n",
    "            text = NumberToPattern(i,k)\n",
    "            max_approx_pattern.append(text)\n",
    "\n",
    "    return max_approx_pattern\n",
    "\n",
    "most_frequent_pattern_with_reverse_complement(\"ACGTTGCATGTCGCATGATGCATGAGAGCT\",4,1)"
   ]
  },
  {
   "source": [
    "### (1K) Generate the Frequency Array of a String"
   ],
   "cell_type": "markdown",
   "metadata": {}
  },
  {
   "cell_type": "code",
   "execution_count": 23,
   "metadata": {},
   "outputs": [
    {
     "output_type": "stream",
     "name": "stdout",
     "text": [
      "2 1 0 0 0 0 2 2 1 2 1 0 0 1 1 0 "
     ]
    }
   ],
   "source": [
    "def FrequenceArray(sequence, k):\n",
    "    FrequencyArray = []\n",
    "    for i in range(4**k):\n",
    "        FrequencyArray.append(0)\n",
    "    for i in range(len(sequence) - k + 1):\n",
    "        kmer = sequence[i:i+k]\n",
    "        index = PatternToNumber(kmer) #This is for hashing the kmer sequence\n",
    "        # print(\"FA : \" , FrequencyArray[index])\n",
    "        FrequencyArray[index] = FrequencyArray[index] + 1\n",
    "    return FrequencyArray\n",
    "res = FrequenceArray(\"ACGCGGCTCTGAAA\",2)\n",
    "\n",
    "for i in res :\n",
    "    print(i, end=\" \")"
   ]
  },
  {
   "source": [
    "### (1L) Implement PATTERNTONUMBER"
   ],
   "cell_type": "markdown",
   "metadata": {}
  },
  {
   "cell_type": "code",
   "execution_count": 24,
   "metadata": {},
   "outputs": [
    {
     "output_type": "execute_result",
     "data": {
      "text/plain": [
       "11"
      ]
     },
     "metadata": {},
     "execution_count": 24
    }
   ],
   "source": [
    "def SymbolToNumber(symbol):\n",
    "    if symbol=='A':\n",
    "        return 0\n",
    "    elif symbol=='C':\n",
    "        return 1\n",
    "    elif symbol=='G':\n",
    "        return 2\n",
    "    else:\n",
    "        return 3\n",
    "    \n",
    "def PatternToNumber(pattern):\n",
    "    if pattern=='':\n",
    "        return 0\n",
    "    symbol=pattern[-1]\n",
    "    prefix=pattern[:-1]\n",
    "    return 4*PatternToNumber(prefix)+SymbolToNumber(symbol)\n",
    "\n",
    "PatternToNumber(\"AGT\")"
   ]
  },
  {
   "source": [
    "### (1M) Implement NUMBERTOPATTERN"
   ],
   "cell_type": "markdown",
   "metadata": {}
  },
  {
   "cell_type": "code",
   "execution_count": 25,
   "metadata": {},
   "outputs": [
    {
     "output_type": "execute_result",
     "data": {
      "text/plain": [
       "'AGTC'"
      ]
     },
     "metadata": {},
     "execution_count": 25
    }
   ],
   "source": [
    "def NumberToPattern(index, k):\n",
    "    table = {0:'A', 1:'C', 2:'G', 3:'T'}\n",
    "    if k == 1:\n",
    "        # print(\"ret for k: \",k ,\" index : \",int(index) , \" => \" ,table[int(index)])\n",
    "        return table[int(index)]\n",
    "    prefixIndex = index / 4\n",
    "    r = index % 4\n",
    "    prefixPattern = NumberToPattern(prefixIndex, k-1)\n",
    "    symbol = table[int(r)]\n",
    "    # print(\"ret for k: \",k ,\" index : \",int(index) , \" => \" , prefixPattern + symbol)\n",
    "    return prefixPattern + symbol\n",
    "\n",
    "NumberToPattern(45,4)"
   ]
  },
  {
   "source": [
    "### (1N) Generate the d-Neighborhood of a String"
   ],
   "cell_type": "markdown",
   "metadata": {}
  },
  {
   "cell_type": "code",
   "execution_count": 28,
   "metadata": {},
   "outputs": [
    {
     "output_type": "execute_result",
     "data": {
      "text/plain": [
       "['ACA', 'ACC', 'AAG', 'ACG', 'CCG', 'GCG', 'TCG', 'AGG', 'ATG', 'ACT']"
      ]
     },
     "metadata": {},
     "execution_count": 28
    }
   ],
   "source": [
    "def NeighborhoodofString(pattern, d):\n",
    "    if d == 0:\n",
    "        return [pattern]\n",
    "    if len(pattern) == 1:\n",
    "        return ['A', 'C', 'G', 'T']\n",
    "    neighborhood = []\n",
    "    sufneigh =NeighborhoodofString(pattern[1:],d)\n",
    "    for x in sufneigh:\n",
    "        if HammingDistance(pattern[1:],x) < d:\n",
    "            neighborhood.extend(['A'+x, 'C'+x, 'G'+x, 'T'+x])\n",
    "        else:\n",
    "            neighborhood.append(pattern[0] + x)\n",
    "    return neighborhood\n",
    "\n",
    "NeighborhoodofString(\"ACG\",1)\n"
   ]
  },
  {
   "cell_type": "code",
   "execution_count": null,
   "metadata": {},
   "outputs": [],
   "source": []
  }
 ]
}