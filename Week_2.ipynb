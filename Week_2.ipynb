{
 "metadata": {
  "language_info": {
   "codemirror_mode": {
    "name": "ipython",
    "version": 3
   },
   "file_extension": ".py",
   "mimetype": "text/x-python",
   "name": "python",
   "nbconvert_exporter": "python",
   "pygments_lexer": "ipython3",
   "version": "3.6.9-final"
  },
  "orig_nbformat": 2,
  "kernelspec": {
   "name": "python36964bit96b38543bc524d45aa4022ceee87892b",
   "display_name": "Python 3.6.9 64-bit",
   "language": "python"
  }
 },
 "nbformat": 4,
 "nbformat_minor": 2,
 "cells": [
  {
   "source": [
    "## Helper Utils\n",
    "\n"
   ],
   "cell_type": "markdown",
   "metadata": {
    "tags": []
   }
  },
  {
   "cell_type": "code",
   "execution_count": 1,
   "metadata": {},
   "outputs": [],
   "source": [
    "import string\n",
    "import itertools\n",
    "def generate_strings(length):\n",
    "    chars = [\"A\",\"C\",\"G\",\"T\"]\n",
    "    return (\"\".join(item) for item in itertools.product(chars, repeat=length))\n",
    "\n",
    "def getKmers(s, k):\n",
    "    for i in range(1 + len(s) - k):\n",
    "        yield s[i:i+k]\n",
    "def HammingDistance(p, q):\n",
    "    count = 0\n",
    "    for (i,j) in zip(p,q):\n",
    "        if i != j:\n",
    "            count += 1\n",
    "    return count\n",
    "def NeighborhoodofString(pattern, d):\n",
    "    if d == 0:\n",
    "        return [pattern]\n",
    "    if len(pattern) == 1:\n",
    "        return ['A', 'C', 'G', 'T']\n",
    "    neighborhood = []\n",
    "    sufneigh =NeighborhoodofString(pattern[1:],d)\n",
    "    for x in sufneigh:\n",
    "        if HammingDistance(pattern[1:],x) < d:\n",
    "            neighborhood.extend(['A'+x, 'C'+x, 'G'+x, 'T'+x])\n",
    "        else:\n",
    "            neighborhood.append(pattern[0] + x)\n",
    "    return neighborhood"
   ]
  },
  {
   "source": [
    "## Motif Enumeration\n",
    "A (k,d) motif is a k-mer that appears in each string with at most d mismatches"
   ],
   "cell_type": "markdown",
   "metadata": {}
  },
  {
   "cell_type": "code",
   "execution_count": 2,
   "metadata": {},
   "outputs": [],
   "source": [
    "def motifEnumeration(k, d, DNA):\n",
    "    pattern = set()\n",
    "    for combo in generate_strings(k): #gets combinations\n",
    "        if all(any(HammingDistance(combo, pat) <= d for pat in getKmers(string, k)) for string in DNA):\n",
    "            pattern.add(combo)\n",
    "    return pattern \n",
    "\n"
   ]
  },
  {
   "source": [
    "## Calculate Entropy of profile-matrix\n"
   ],
   "cell_type": "markdown",
   "metadata": {}
  },
  {
   "cell_type": "code",
   "execution_count": 3,
   "metadata": {},
   "outputs": [
    {
     "output_type": "error",
     "ename": "NameError",
     "evalue": "name 'profile' is not defined",
     "traceback": [
      "\u001b[0;31m---------------------------------------------------------------------------\u001b[0m",
      "\u001b[0;31mNameError\u001b[0m                                 Traceback (most recent call last)",
      "\u001b[0;32m<ipython-input-3-5a9e50a05302>\u001b[0m in \u001b[0;36m<module>\u001b[0;34m\u001b[0m\n\u001b[1;32m      1\u001b[0m \u001b[0;32mimport\u001b[0m \u001b[0mmath\u001b[0m\u001b[0;34m\u001b[0m\u001b[0;34m\u001b[0m\u001b[0m\n\u001b[1;32m      2\u001b[0m \u001b[0mtotal_entropy\u001b[0m \u001b[0;34m=\u001b[0m \u001b[0;36m0.0\u001b[0m\u001b[0;34m\u001b[0m\u001b[0;34m\u001b[0m\u001b[0m\n\u001b[0;32m----> 3\u001b[0;31m \u001b[0;32mfor\u001b[0m \u001b[0mkey\u001b[0m\u001b[0;34m,\u001b[0m \u001b[0mvalues\u001b[0m \u001b[0;32min\u001b[0m \u001b[0mprofile\u001b[0m\u001b[0;34m.\u001b[0m\u001b[0mitems\u001b[0m\u001b[0;34m(\u001b[0m\u001b[0;34m)\u001b[0m\u001b[0;34m:\u001b[0m\u001b[0;34m\u001b[0m\u001b[0;34m\u001b[0m\u001b[0m\n\u001b[0m\u001b[1;32m      4\u001b[0m     \u001b[0;32mfor\u001b[0m \u001b[0mvalue\u001b[0m \u001b[0;32min\u001b[0m \u001b[0mvalues\u001b[0m\u001b[0;34m:\u001b[0m\u001b[0;34m\u001b[0m\u001b[0;34m\u001b[0m\u001b[0m\n\u001b[1;32m      5\u001b[0m         \u001b[0;32mif\u001b[0m \u001b[0mvalue\u001b[0m \u001b[0;34m>\u001b[0m \u001b[0;36m0\u001b[0m\u001b[0;34m:\u001b[0m\u001b[0;34m\u001b[0m\u001b[0;34m\u001b[0m\u001b[0m\n",
      "\u001b[0;31mNameError\u001b[0m: name 'profile' is not defined"
     ]
    }
   ],
   "source": [
    "\n",
    "import math\n",
    "total_entropy = 0.0\n",
    "for key, values in profile.items():\n",
    "    for value in values:\n",
    "        if value > 0:\n",
    "            total_entropy += abs(value * math.log(value, 2))\n",
    "        else:\n",
    "            continue\n",
    "print(total_entropy)"
   ]
  },
  {
   "source": [
    "## Get motifs from pattern and dna strings"
   ],
   "cell_type": "markdown",
   "metadata": {}
  },
  {
   "cell_type": "code",
   "execution_count": 4,
   "metadata": {},
   "outputs": [],
   "source": [
    "def get_motifs(pattern, dnas):\n",
    "    k = len(pattern)\n",
    "    n = len(dnas[0])  # <== assuming that all strings in 'dnas' are of same length\n",
    "    motifs_loc = []\n",
    "    for string in dnas:\n",
    "        distance = None\n",
    "        min_distance = None\n",
    "        min_kmer_loc = None\n",
    "        for i in range(n - k +1):\n",
    "            if i == 0:\n",
    "                min_distance = hamming_distance(pattern, string[i : i+k])  \n",
    "                min_kmer_loc = i\n",
    "            else:\n",
    "                distance = hamming_distance(pattern, string[i : i+k])\n",
    "                if min_distance >= distance:\n",
    "                    min_distance = distance\n",
    "                    min_kmer_loc = i\n",
    "        motifs_loc.append(min_kmer_loc)\n",
    "    motifs = [dnas[i][motifs_loc[i] : motifs_loc[i]+k] for i in range(len(motifs_loc))]\n",
    "\n",
    "    return motifs"
   ]
  },
  {
   "source": [
    "## Get motif from profile Matrix"
   ],
   "cell_type": "markdown",
   "metadata": {}
  },
  {
   "cell_type": "code",
   "execution_count": 16,
   "metadata": {},
   "outputs": [],
   "source": [
    "def MotifFromProfile(Dna, k, profile):\n",
    "    motifs=[]\n",
    "    for i in range(len(Dna)):\n",
    "        motifs.append(ProfileMostProbableKmer(Dna[i],k,profile))\n",
    "    return motifs"
   ]
  },
  {
   "source": [
    "## Implement Median String "
   ],
   "cell_type": "markdown",
   "metadata": {}
  },
  {
   "cell_type": "code",
   "execution_count": 5,
   "metadata": {},
   "outputs": [],
   "source": [
    "def DiffBetweenPatternandStrings(pattern, dna):\n",
    "    k =  len(pattern)\n",
    "    diff = 0;\n",
    "    for d in dna:\n",
    "        ham_distance = 2 ** 31\n",
    "        for i in range (len(d) - k + 1):\n",
    "            pattern_ = d[i : i+k]\n",
    "            if (HammingDistance(pattern,pattern_) < ham_distance):\n",
    "                ham_distance = HammingDistance(pattern,pattern_)\n",
    "        diff = diff + ham_distance\n",
    "\n",
    "    return diff\n",
    "\n",
    "def MedianString(dna, k) :\n",
    "    diff = 2 ** 31 \n",
    "    kmers = generate_strings(k)\n",
    "    median = \"\"\n",
    "    for kmer in kmers:\n",
    "        temp_diff =  DiffBetweenPatternandStrings(kmer, dna)\n",
    "        if (temp_diff < diff) :\n",
    "            diff =  temp_diff\n",
    "            median = kmer\n",
    "\n",
    "    return median"
   ]
  },
  {
   "source": [
    "## Probability of motif being generated from a profile-matrix"
   ],
   "cell_type": "markdown",
   "metadata": {}
  },
  {
   "cell_type": "code",
   "execution_count": 6,
   "metadata": {},
   "outputs": [],
   "source": [
    "def calculateProbability(pattern, profile_mat):\n",
    "    temp_pr = 1.0\n",
    "    for j in range(len(pattern)):\n",
    "        if(pattern[j] == \"A\"):\n",
    "            temp_pr  = temp_pr * profile_mat [\"A\"][j]\n",
    "        elif(pattern[j] == \"C\"):\n",
    "            temp_pr  = temp_pr * profile_mat [\"C\"][j]\n",
    "        elif(pattern[j] == \"G\"):\n",
    "            temp_pr  = temp_pr * profile_mat [\"G\"][j]\n",
    "        elif(pattern[j] == \"T\"):\n",
    "            temp_pr  = temp_pr * profile_mat [\"T\"][j]\n",
    "    return temp_pr\n"
   ]
  },
  {
   "source": [],
   "cell_type": "markdown",
   "metadata": {}
  },
  {
   "cell_type": "code",
   "execution_count": 204,
   "metadata": {},
   "outputs": [
    {
     "output_type": "stream",
     "name": "stdout",
     "text": [
      "0.00405\n"
     ]
    }
   ],
   "source": [
    "print(calculateProbability(\"TCGGTA\",{\"A\": [0.4, 0.3, 0.0, 0.1, 0.0, 0.9],\n",
    "\n",
    "\"C\": [0.2, 0.3, 0.0, 0.4, 0.0, 0.1],\n",
    "\n",
    "\"G\": [0.1, 0.3, 1.0, 0.1, 0.5, 0.0],\n",
    "\n",
    "\"T\": [0.3, 0.1, 0.0, 0.4, 0.5, 0.0]}))"
   ]
  },
  {
   "source": [
    "## Profile-most probable k-mer\n",
    "Given a profile matrix `Profile`, we can evaluate the probability of every k-mer in a string\n",
    "`Text` and find a `Profile-most probable k-mer in Text`, i.e., a k-mer that was most likely to\n",
    "have been generated by Profile among all k-mers in Text. <br/>\n",
    "The probability `Pr(ACGGGGATTACC|Profile)` that Profile\n",
    "generates `ACGGGGATTACC` is computed by simply multiplying the highlighted entries\n",
    "in the profile matrix.<br/>\n",
    "**Sample Input:**\n",
    "\n",
    "ACCTGTTTATTGCCTAAGTTCCGAACAAACCCAATATAGCCCGAGGGCCT <br/>\n",
    "5<br/>\n",
    "0.2 0.2 0.3 0.2 0.3<br/>\n",
    "0.4 0.3 0.1 0.5 0.1<br/>\n",
    "0.3 0.3 0.5 0.2 0.4<br/>\n",
    "0.1 0.2 0.1 0.1 0.2<br/>\n",
    "**Sample Output:**\n",
    "\n",
    "CCGAG"
   ],
   "cell_type": "markdown",
   "metadata": {}
  },
  {
   "cell_type": "code",
   "execution_count": 7,
   "metadata": {},
   "outputs": [],
   "source": [
    "\n",
    "def ProfileMostProbableKmer(text, k, profile):\n",
    "    max_p = -1\n",
    "    most_probable_kmer = ''\n",
    "    for i in range(len(text)-k+1):\n",
    "        pattern = text[i: i+k]\n",
    "        p = calculateProbability(pattern, profile)\n",
    "        if p > max_p:\n",
    "            max_p = p\n",
    "            most_probable_kmer = text[i:i+k]            \n",
    "    return most_probable_kmer\n",
    "\n",
    "# print(\"mostkmer:\",profile_most_probable_kmer(k_,text_))"
   ]
  },
  {
   "source": [
    "## Profile randomly generated Kmer"
   ],
   "cell_type": "markdown",
   "metadata": {}
  },
  {
   "cell_type": "code",
   "execution_count": 20,
   "metadata": {},
   "outputs": [],
   "source": [
    "def Profile_randomly_generated_kmer(Text,k,Profile):\n",
    "    su\n",
    "    for i in range(len(Text) - k + 1):\n",
    "\n",
    "    return kmer"
   ]
  },
  {
   "source": [
    "## Score Matrix"
   ],
   "cell_type": "markdown",
   "metadata": {}
  },
  {
   "cell_type": "code",
   "execution_count": 8,
   "metadata": {},
   "outputs": [],
   "source": [
    "def Count(Motifs):\n",
    "    count = {} # initializing the count dictionary\n",
    "    k = len(Motifs[0])\n",
    "    count = {'A':[0]*k,'C':[0]*k,'G':[0]*k,'T':[0]*k}\n",
    "    \n",
    "    t = len(Motifs)\n",
    "    for i in range(t):\n",
    "        for j in range(k):\n",
    "            symbol = Motifs[i][j]\n",
    "            count[symbol][j] += 1\n",
    "    return count\n",
    "\n"
   ]
  },
  {
   "source": [
    "## Score Matrix with pseudocounts"
   ],
   "cell_type": "markdown",
   "metadata": {}
  },
  {
   "cell_type": "code",
   "execution_count": 174,
   "metadata": {},
   "outputs": [],
   "source": [
    "def CountWithPseudo(Motifs):\n",
    "    count = {}\n",
    "    k = len(Motifs[0])\n",
    "    for symbol in \"ACGT\":\n",
    "        count[symbol] = []\n",
    "        for j in range(k):\n",
    "            count[symbol].append(1)\n",
    "    t = len(Motifs)\n",
    "    for i in range(t):\n",
    "        for j in range(k):\n",
    "            symbol = Motifs[i][j]\n",
    "            count[symbol][j] += 1 \n",
    "    return count"
   ]
  },
  {
   "source": [
    "## Calculate score of motif matrix"
   ],
   "cell_type": "markdown",
   "metadata": {}
  },
  {
   "cell_type": "code",
   "execution_count": 9,
   "metadata": {},
   "outputs": [],
   "source": [
    "def Score(Motifs):\n",
    "    # Insert code here\n",
    "    consensus = Consensus(Motifs) #consensus string\n",
    "    counts = Count(Motifs) # count matrix\n",
    "    score = len(Motifs)*len(consensus) \n",
    "    i = 0\n",
    "    for symbol in consensus:  \n",
    "        score -= counts[symbol][i] \n",
    "        i += 1\n",
    "    return score "
   ]
  },
  {
   "source": [
    "## Calculate consensus string from motif-matrix"
   ],
   "cell_type": "markdown",
   "metadata": {}
  },
  {
   "cell_type": "code",
   "execution_count": 10,
   "metadata": {},
   "outputs": [],
   "source": [
    "def Consensus(Motifs):\n",
    "    k = len(Motifs[0])\n",
    "    count = Count(Motifs)\n",
    "    consensus = \"\"\n",
    "    for j in range(k):\n",
    "        m = 0\n",
    "        frequentSymbol = \"\"\n",
    "        for symbol in \"ACGT\":\n",
    "            if count[symbol][j] > m:\n",
    "                m = count[symbol][j]\n",
    "                frequentSymbol = symbol\n",
    "        consensus += frequentSymbol\n",
    "    return consensus"
   ]
  },
  {
   "source": [
    "## Make profile-matrix"
   ],
   "cell_type": "markdown",
   "metadata": {}
  },
  {
   "cell_type": "code",
   "execution_count": 12,
   "metadata": {},
   "outputs": [],
   "source": [
    "def Profile(Motifs):\n",
    "    t = len(Motifs)\n",
    "    k = len(Motifs[0])\n",
    "    profile = Count(Motifs)\n",
    "    for i in profile:  \n",
    "        for j in range(k):\n",
    "            profile[i][j] = profile[i][j]//t   \n",
    "    return profile"
   ]
  },
  {
   "source": [
    "## Make profile-matrix using Laplace's rule of succession"
   ],
   "cell_type": "markdown",
   "metadata": {}
  },
  {
   "cell_type": "code",
   "execution_count": 13,
   "metadata": {},
   "outputs": [],
   "source": [
    "def ProfileWithPseudoCount(Motifs,pseudocount):\n",
    "    t = len(Motifs)\n",
    "    k = len(Motifs[0])\n",
    "    count = CountWithPseudo(Motifs)\n",
    "    profile = {}\n",
    "    for letter in count.keys():\n",
    "        profile[letter] = [float(x)/ (t+ (pseudocount*4)) for x in count[letter]]\n",
    "    return profile  "
   ]
  },
  {
   "source": [
    "## Greedy Motif Search Problem"
   ],
   "cell_type": "markdown",
   "metadata": {}
  },
  {
   "cell_type": "code",
   "execution_count": 14,
   "metadata": {},
   "outputs": [],
   "source": [
    "def GreedyMotifSearch(Dna, k, t):\n",
    "    BestMotifs = []\n",
    "    for i in range(0, t):\n",
    "        BestMotifs.append(Dna[i][0:k]) # first k-mers from each of the dna strings\n",
    "    \n",
    "    n = len(Dna[0]) \n",
    "    for i in range(n-k+1):\n",
    "        Motifs = []\n",
    "        Motifs.append(Dna[0][i:i+k])\n",
    "        for j in range(1, t):\n",
    "            P = Profile(Motifs[0:j]) # successively calculates profile matrix by adding one string per iteration\n",
    "            Motifs.append(ProfileMostProbableKmer(Dna[j], k, P))\n",
    "    \n",
    "        if Score(Motifs) < Score(BestMotifs):\n",
    "            BestMotifs = Motifs\n",
    "    return BestMotifs"
   ]
  },
  {
   "source": [
    "## Greedy Motif Search with pseudocounts"
   ],
   "cell_type": "markdown",
   "metadata": {}
  },
  {
   "cell_type": "code",
   "execution_count": 15,
   "metadata": {},
   "outputs": [],
   "source": [
    "def GreedyMotifSearchWithPseudocounts(Dna, k, t, pseudocount):\n",
    "    BestMotifs = []\n",
    "    for i in range(0, t):\n",
    "        BestMotifs.append(Dna[i][0:k]) \n",
    "    \n",
    "    n = len(Dna[0]) \n",
    "    for i in range(n-k+1):\n",
    "        Motifs = []\n",
    "        Motifs.append(Dna[0][i:i+k])\n",
    "        for j in range(1, t):\n",
    "            P = ProfileWithPseudoCount(Motifs[0:j],pseudocount) \n",
    "            Motifs.append(ProfileMostProbableKmer(Dna[j], k, P))\n",
    "    \n",
    "        if Score(Motifs) < Score(BestMotifs):\n",
    "            BestMotifs = Motifs\n",
    "    return BestMotifs\n"
   ]
  },
  {
   "source": [
    "## Generate random k-mer motifs"
   ],
   "cell_type": "markdown",
   "metadata": {}
  },
  {
   "cell_type": "code",
   "execution_count": 18,
   "metadata": {},
   "outputs": [],
   "source": [
    "def RandomMotifs(Dna, k):\n",
    "    result = []\n",
    "    for string in Dna:\n",
    "        index = random.randint(0, len(string) - k)\n",
    "        result.append(string[index:index + k])\n",
    "    return result"
   ]
  },
  {
   "source": [
    "## Randomized Motif Search"
   ],
   "cell_type": "markdown",
   "metadata": {}
  },
  {
   "cell_type": "code",
   "execution_count": 17,
   "metadata": {},
   "outputs": [],
   "source": [
    "def RandomizedMotifSearch(Dna,k, t):\n",
    "    motifs = RandomMotifs(Dna,k)\n",
    "    bestMotifs = motifs\n",
    "    while True:\n",
    "        profile_mat = Profile(motifs)\n",
    "        motifs = MotifFromProfile(Dna,k,profile_mat)\n",
    "        if Score(motifs) < Score(bestMotifs):\n",
    "            bestMotifs = motifs\n",
    "        else:\n",
    "            return bestMotifs"
   ]
  },
  {
   "source": [
    "## Gibbs Sampler"
   ],
   "cell_type": "markdown",
   "metadata": {}
  },
  {
   "cell_type": "code",
   "execution_count": null,
   "metadata": {},
   "outputs": [],
   "source": [
    "import numpy as np\n",
    "def GibbsSampler(Dna,k,t):\n",
    "    motifs = RandomMotifs(Dna,k)\n",
    "    bestMotifs = motifs\n",
    "    for run in range(250):\n",
    "        i = np.random.randint(t)\n",
    "        motifs_except_ith = np.delete(motifs,i)\n",
    "        profile_mat = Profile(motifs_except_ith)\n",
    "        motifs[i] = Profile_randomly_generated_kmer(Dna[i],k,profile_mat)\n",
    "        if Score(motifs) < Score(bestMotifs):\n",
    "            bestMotifs = motifs\n",
    "    return bestMotifs"
   ]
  },
  {
   "cell_type": "code",
   "execution_count": 2,
   "metadata": {},
   "outputs": [
    {
     "output_type": "error",
     "ename": "ValueError",
     "evalue": "invalid literal for int() with base 10: ''",
     "traceback": [
      "\u001b[0;31m---------------------------------------------------------------------------\u001b[0m",
      "\u001b[0;31mValueError\u001b[0m                                Traceback (most recent call last)",
      "\u001b[0;32m<ipython-input-2-84f37e239385>\u001b[0m in \u001b[0;36m<module>\u001b[0;34m\u001b[0m\n\u001b[1;32m      1\u001b[0m \u001b[0;32mif\u001b[0m \u001b[0m__name__\u001b[0m \u001b[0;34m==\u001b[0m \u001b[0;34m\"__main__\"\u001b[0m\u001b[0;34m:\u001b[0m\u001b[0;34m\u001b[0m\u001b[0;34m\u001b[0m\u001b[0m\n\u001b[0;32m----> 2\u001b[0;31m     \u001b[0mk\u001b[0m\u001b[0;34m,\u001b[0m\u001b[0mt\u001b[0m \u001b[0;34m=\u001b[0m \u001b[0;34m[\u001b[0m\u001b[0mint\u001b[0m\u001b[0;34m(\u001b[0m\u001b[0ma\u001b[0m\u001b[0;34m)\u001b[0m \u001b[0;32mfor\u001b[0m \u001b[0ma\u001b[0m \u001b[0;32min\u001b[0m \u001b[0minput\u001b[0m\u001b[0;34m(\u001b[0m\u001b[0;34m)\u001b[0m\u001b[0;34m.\u001b[0m\u001b[0mstrip\u001b[0m\u001b[0;34m(\u001b[0m\u001b[0;34m)\u001b[0m\u001b[0;34m.\u001b[0m\u001b[0msplit\u001b[0m\u001b[0;34m(\u001b[0m\u001b[0;34m\" \"\u001b[0m\u001b[0;34m)\u001b[0m\u001b[0;34m]\u001b[0m\u001b[0;34m\u001b[0m\u001b[0;34m\u001b[0m\u001b[0m\n\u001b[0m\u001b[1;32m      3\u001b[0m     \u001b[0mDna\u001b[0m \u001b[0;34m=\u001b[0m \u001b[0;34m[\u001b[0m\u001b[0;34m]\u001b[0m\u001b[0;34m\u001b[0m\u001b[0;34m\u001b[0m\u001b[0m\n\u001b[1;32m      4\u001b[0m     \u001b[0;32mfor\u001b[0m \u001b[0m_\u001b[0m \u001b[0;32min\u001b[0m \u001b[0mrange\u001b[0m\u001b[0;34m(\u001b[0m\u001b[0mt\u001b[0m\u001b[0;34m)\u001b[0m\u001b[0;34m:\u001b[0m\u001b[0;34m\u001b[0m\u001b[0;34m\u001b[0m\u001b[0m\n\u001b[1;32m      5\u001b[0m         \u001b[0mDna\u001b[0m\u001b[0;34m.\u001b[0m\u001b[0mappend\u001b[0m\u001b[0;34m(\u001b[0m\u001b[0minput\u001b[0m\u001b[0;34m(\u001b[0m\u001b[0;34m)\u001b[0m\u001b[0;34m)\u001b[0m\u001b[0;34m\u001b[0m\u001b[0;34m\u001b[0m\u001b[0m\n",
      "\u001b[0;32m<ipython-input-2-84f37e239385>\u001b[0m in \u001b[0;36m<listcomp>\u001b[0;34m(.0)\u001b[0m\n\u001b[1;32m      1\u001b[0m \u001b[0;32mif\u001b[0m \u001b[0m__name__\u001b[0m \u001b[0;34m==\u001b[0m \u001b[0;34m\"__main__\"\u001b[0m\u001b[0;34m:\u001b[0m\u001b[0;34m\u001b[0m\u001b[0;34m\u001b[0m\u001b[0m\n\u001b[0;32m----> 2\u001b[0;31m     \u001b[0mk\u001b[0m\u001b[0;34m,\u001b[0m\u001b[0mt\u001b[0m \u001b[0;34m=\u001b[0m \u001b[0;34m[\u001b[0m\u001b[0mint\u001b[0m\u001b[0;34m(\u001b[0m\u001b[0ma\u001b[0m\u001b[0;34m)\u001b[0m \u001b[0;32mfor\u001b[0m \u001b[0ma\u001b[0m \u001b[0;32min\u001b[0m \u001b[0minput\u001b[0m\u001b[0;34m(\u001b[0m\u001b[0;34m)\u001b[0m\u001b[0;34m.\u001b[0m\u001b[0mstrip\u001b[0m\u001b[0;34m(\u001b[0m\u001b[0;34m)\u001b[0m\u001b[0;34m.\u001b[0m\u001b[0msplit\u001b[0m\u001b[0;34m(\u001b[0m\u001b[0;34m\" \"\u001b[0m\u001b[0;34m)\u001b[0m\u001b[0;34m]\u001b[0m\u001b[0;34m\u001b[0m\u001b[0;34m\u001b[0m\u001b[0m\n\u001b[0m\u001b[1;32m      3\u001b[0m     \u001b[0mDna\u001b[0m \u001b[0;34m=\u001b[0m \u001b[0;34m[\u001b[0m\u001b[0;34m]\u001b[0m\u001b[0;34m\u001b[0m\u001b[0;34m\u001b[0m\u001b[0m\n\u001b[1;32m      4\u001b[0m     \u001b[0;32mfor\u001b[0m \u001b[0m_\u001b[0m \u001b[0;32min\u001b[0m \u001b[0mrange\u001b[0m\u001b[0;34m(\u001b[0m\u001b[0mt\u001b[0m\u001b[0;34m)\u001b[0m\u001b[0;34m:\u001b[0m\u001b[0;34m\u001b[0m\u001b[0;34m\u001b[0m\u001b[0m\n\u001b[1;32m      5\u001b[0m         \u001b[0mDna\u001b[0m\u001b[0;34m.\u001b[0m\u001b[0mappend\u001b[0m\u001b[0;34m(\u001b[0m\u001b[0minput\u001b[0m\u001b[0;34m(\u001b[0m\u001b[0;34m)\u001b[0m\u001b[0;34m)\u001b[0m\u001b[0;34m\u001b[0m\u001b[0;34m\u001b[0m\u001b[0m\n",
      "\u001b[0;31mValueError\u001b[0m: invalid literal for int() with base 10: ''"
     ]
    }
   ],
   "source": [
    "if __name__ == \"__main__\":\n",
    "    k,t = [int(a) for a in input().strip().split(\" \")]\n",
    "    Dna = []\n",
    "    for _ in range(t):\n",
    "        Dna.append(input())\n",
    "\n",
    "    N = 250\n",
    "    BestMotifs = RandomizedMotifSearch(Dna, k, t)\n",
    "    for i in range(N):\n",
    "        m = RandomizedMotifSearch(Dna, k, t)\n",
    "        if score(m) < score(BestMotifs):\n",
    "            BestMotifs = m\n",
    "\n",
    "    for i in BestMotifs:\n",
    "        print(i)"
   ]
  }
 ]
}