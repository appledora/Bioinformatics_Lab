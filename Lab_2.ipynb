{
 "metadata": {
  "language_info": {
   "codemirror_mode": {
    "name": "ipython",
    "version": 3
   },
   "file_extension": ".py",
   "mimetype": "text/x-python",
   "name": "python",
   "nbconvert_exporter": "python",
   "pygments_lexer": "ipython3",
   "version": "3.6.9-final"
  },
  "orig_nbformat": 2,
  "kernelspec": {
   "name": "python36964bit96b38543bc524d45aa4022ceee87892b",
   "display_name": "Python 3.6.9 64-bit"
  }
 },
 "nbformat": 4,
 "nbformat_minor": 2,
 "cells": [
  {
   "source": [
    "## Reverse Complement "
   ],
   "cell_type": "markdown",
   "metadata": {}
  },
  {
   "cell_type": "code",
   "execution_count": 1,
   "metadata": {},
   "outputs": [
    {
     "output_type": "execute_result",
     "data": {
      "text/plain": "&#39;ACCGGGTTTT&#39;"
     },
     "metadata": {},
     "execution_count": 1
    }
   ],
   "source": [
    "def reverse_complement(text):\n",
    "    text = text[::-1]\n",
    "    rev = \"\"\n",
    "    switcher = {\n",
    "        \"A\" : \"T\",\n",
    "        \"T\" : \"A\",\n",
    "        \"G\" : \"C\",\n",
    "        \"C\" : \"G\"}\n",
    "    for i in range(len(text)):\n",
    "        rev+=switcher.get(text[i])\n",
    "\n",
    "    return rev\n",
    "\n",
    "reverse_complement(\"AAAACCCGGT\")"
   ]
  },
  {
   "source": [
    "## Hamming Distance"
   ],
   "cell_type": "markdown",
   "metadata": {}
  },
  {
   "cell_type": "code",
   "execution_count": 2,
   "metadata": {},
   "outputs": [
    {
     "output_type": "execute_result",
     "data": {
      "text/plain": "3"
     },
     "metadata": {},
     "execution_count": 2
    }
   ],
   "source": [
    "def HammingDistance(p, q):\n",
    "    count = 0\n",
    "    for (i,j) in zip(p,q):\n",
    "        if i != j:\n",
    "            count += 1\n",
    "    return count\n",
    "HammingDistance(\"GGGCCGTTGGT\",\"GGACCGTTGAC\")"
   ]
  },
  {
   "source": [
    "## Pattern to Number"
   ],
   "cell_type": "markdown",
   "metadata": {}
  },
  {
   "cell_type": "code",
   "execution_count": 3,
   "metadata": {},
   "outputs": [
    {
     "output_type": "execute_result",
     "data": {
      "text/plain": "11"
     },
     "metadata": {},
     "execution_count": 3
    }
   ],
   "source": [
    "def SymbolToNumber(symbol):\n",
    "    if symbol=='A':\n",
    "        return 0\n",
    "    elif symbol=='C':\n",
    "        return 1\n",
    "    elif symbol=='G':\n",
    "        return 2\n",
    "    else:\n",
    "        return 3\n",
    "    \n",
    "def PatternToNumber(pattern):\n",
    "    if pattern=='':\n",
    "        return 0\n",
    "    symbol=pattern[-1]\n",
    "    prefix=pattern[:-1]\n",
    "    return 4*PatternToNumber(prefix)+SymbolToNumber(symbol)\n",
    "\n",
    "PatternToNumber(\"AGT\")"
   ]
  },
  {
   "source": [
    "## Number to Patterns"
   ],
   "cell_type": "markdown",
   "metadata": {}
  },
  {
   "cell_type": "code",
   "execution_count": 4,
   "metadata": {},
   "outputs": [
    {
     "output_type": "execute_result",
     "data": {
      "text/plain": "&#39;AGTC&#39;"
     },
     "metadata": {},
     "execution_count": 4
    }
   ],
   "source": [
    "def NumberToPattern(index, k):\n",
    "    table = {0:'A', 1:'C', 2:'G', 3:'T'}\n",
    "    if k == 1:\n",
    "        # print(\"ret for k: \",k ,\" index : \",int(index) , \" => \" ,table[int(index)])\n",
    "        return table[int(index)]\n",
    "    prefixIndex = index / 4\n",
    "    r = index % 4\n",
    "    prefixPattern = NumberToPattern(prefixIndex, k-1)\n",
    "    symbol = table[int(r)]\n",
    "    # print(\"ret for k: \",k ,\" index : \",int(index) , \" => \" , prefixPattern + symbol)\n",
    "    return prefixPattern + symbol\n",
    "\n",
    "NumberToPattern(45,4)"
   ]
  },
  {
   "source": [
    "## Approximate Pattern Matching"
   ],
   "cell_type": "markdown",
   "metadata": {}
  },
  {
   "cell_type": "code",
   "execution_count": 7,
   "metadata": {},
   "outputs": [
    {
     "output_type": "execute_result",
     "data": {
      "text/plain": "[6, 7, 26, 27, 78]"
     },
     "metadata": {},
     "execution_count": 7
    }
   ],
   "source": [
    "def ApproximatePatternMatching(Pattern, Text, d):\n",
    "    positions = []\n",
    "    patterns_list = []\n",
    "    for i in range(len(Text)-len(Pattern)+1):\n",
    "        Pattern_ = Text[i:i+len(Pattern)]\n",
    "        if HammingDistance(Pattern_, Pattern) <= d:\n",
    "            positions.append(i)\n",
    "            patterns_list.append(Pattern_)\n",
    "\n",
    "    return positions\n",
    "\n",
    "ApproximatePatternMatching(\"ATTCTGGA\",\"CGCCCGAATCCAGAACGCATTCCCATATTTCGGGACCACTGGCCTCCACGGTACGGACGTCAATCAAATGCCTAGCGGCTTGTGGTTTCTCCTACGCTCC\",3)"
   ]
  },
  {
   "source": [
    "## Frequent Words with mismatches"
   ],
   "cell_type": "markdown",
   "metadata": {}
  },
  {
   "cell_type": "code",
   "execution_count": 8,
   "metadata": {},
   "outputs": [
    {
     "output_type": "execute_result",
     "data": {
      "text/plain": "[&#39;ATGC&#39;, &#39;ATGT&#39;, &#39;GATG&#39;]"
     },
     "metadata": {},
     "execution_count": 8
    }
   ],
   "source": [
    "def NeighborhoodofString(pattern, d):\n",
    "    if d == 0:\n",
    "        return [pattern]\n",
    "    if len(pattern) == 1:\n",
    "        return ['A', 'C', 'G', 'T']\n",
    "    neighborhood = []\n",
    "    sufneigh =NeighborhoodofString(pattern[1:],d)\n",
    "    for x in sufneigh:\n",
    "        if HammingDistance(pattern[1:],x) < d:\n",
    "            neighborhood.extend(['A'+x, 'C'+x, 'G'+x, 'T'+x])\n",
    "        else:\n",
    "            neighborhood.append(pattern[0] + x)\n",
    "    return neighborhood\n",
    "\n",
    "def most_frequent_approximate_pattern(Text, k,d):\n",
    "    frequencyArray = []\n",
    "    max_approx_pattern = [] \n",
    "    for i in range(4**k):\n",
    "        frequencyArray.append(0)\n",
    "    for i in range(len(Text) - k+1):\n",
    "        pattern = Text[i: i+k]\n",
    "        neighborhood_p = NeighborhoodofString(pattern,d)\n",
    "        for neighbor in neighborhood_p:\n",
    "            index_n = PatternToNumber(neighbor)\n",
    "            frequencyArray[index_n] = frequencyArray[index_n] + 1\n",
    "    maxima = max(frequencyArray)\n",
    "\n",
    "    for i in range(len(frequencyArray)):\n",
    "        if (frequencyArray[i] == maxima):\n",
    "            text = NumberToPattern(i,k)\n",
    "            max_approx_pattern.append(text)\n",
    "    return max_approx_pattern\n",
    "\n",
    "most_frequent_approximate_pattern(\"ACGTTGCATGTCGCATGATGCATGAGAGCT\", 4, 1)"
   ]
  },
  {
   "source": [
    "## Frequent Words with Mismatches and Reverse Complements Problem "
   ],
   "cell_type": "markdown",
   "metadata": {}
  },
  {
   "cell_type": "code",
   "execution_count": 9,
   "metadata": {},
   "outputs": [
    {
     "output_type": "execute_result",
     "data": {
      "text/plain": "[&#39;ACAT&#39;, &#39;ATGT&#39;]"
     },
     "metadata": {},
     "execution_count": 9
    }
   ],
   "source": [
    "\n",
    "\n",
    "def most_frequent_pattern_with_reverse_complement(Text, k, d):\n",
    "    freq_array = []\n",
    "    max_approx_pattern = []\n",
    "    for i in range(4**k):\n",
    "        freq_array.append(0)\n",
    "    \n",
    "    for i in range(len(Text)-k+1):\n",
    "        pattern = Text[i:i+k]\n",
    "        neighborhood_p = NeighborhoodofString(pattern,d)\n",
    "        pattern_ = reverse_complement(pattern)\n",
    "        neighborhood_p_ = NeighborhoodofString(pattern_,d)\n",
    "\n",
    "        for neighbor in neighborhood_p:\n",
    "            if HammingDistance(pattern,neighbor) <=d:\n",
    "                index = PatternToNumber(neighbor)\n",
    "                freq_array[index] = freq_array[index]+1\n",
    "\n",
    "        for neighbor in neighborhood_p_:\n",
    "            if HammingDistance(pattern_,neighbor) <=d:\n",
    "                index = PatternToNumber(neighbor)\n",
    "                freq_array[index] = freq_array[index]+1\n",
    "    maxima = max(freq_array)\n",
    "\n",
    "    for i in range(len(freq_array)):\n",
    "        if (freq_array[i] == maxima):\n",
    "            text = NumberToPattern(i,k)\n",
    "            max_approx_pattern.append(text)\n",
    "\n",
    "    return max_approx_pattern\n",
    "\n",
    "most_frequent_pattern_with_reverse_complement(\"ACGTTGCATGTCGCATGATGCATGAGAGCT\",4,1)\n"
   ]
  }
 ]
}