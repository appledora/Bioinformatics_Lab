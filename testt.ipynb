{
 "cells": [
  {
   "cell_type": "code",
   "execution_count": 39,
   "metadata": {},
   "outputs": [],
   "source": [
    "def patternCount(s, p):\n",
    "    count = 0\n",
    "    for i in range(len(s) - len(p)+1):\n",
    "        # print(s[i:i+len(p)],\"-------\", p)\n",
    "        if (s[i:i+len(p)] == p):\n",
    "            count+=1\n",
    "    # print(\"=>\",count)\n",
    "    return count\n"
   ]
  },
  {
   "cell_type": "code",
   "execution_count": 42,
   "metadata": {},
   "outputs": [
    {
     "output_type": "stream",
     "name": "stdout",
     "text": [
      "{'CCC'}\n{'TGG'}\n"
     ]
    }
   ],
   "source": [
    "def FrequentWords(s, k):\n",
    "    count = [0]*len(s)\n",
    "    frequentPatterns = set()\n",
    "    for i in range(len(s) - k+1):\n",
    "        # print(\"i: \", i)\n",
    "        pat = s[i:i+k]\n",
    "        # print(pat)\n",
    "        count[i] = patternCount(s, pat)\n",
    "    maxCount = max(count)\n",
    "    # print(count)\n",
    "    # print(maxCount)\n",
    "    for i in range(len(s) - k+1) :\n",
    "        if count[i] == maxCount:\n",
    "            frequentPatterns.add(s[i:i+k])\n",
    "    return frequentPatterns\n",
    "\n",
    "print(FrequentWords(\"AACCTGTCCCACCCC\", 3))\n",
    "print(FrequentWords(\"TGGTAGCGACGTTGGTCCCGCCGCTTGAGAATCTGGATGAACATAAGCTCCCACTTGGCTTATTCAGAGAACTGGTCAACACTTGTCTCTCCCAGCCAGGTCTGACCACCGGGCAACTTTTAGAGCACTATCGTGGTACAAATAATGCTGCCAC\",3))"
   ]
  },
  {
   "cell_type": "code",
   "execution_count": 131,
   "metadata": {},
   "outputs": [
    {
     "output_type": "execute_result",
     "data": {
      "text/plain": [
       "'GCAT'"
      ]
     },
     "metadata": {},
     "execution_count": 131
    }
   ],
   "source": [
    "def reverseComplement(s) :\n",
    "    s = s[::-1]\n",
    "    switcher = {\n",
    "        \"A\" : \"T\",\n",
    "        \"T\" : \"A\",\n",
    "        \"G\" : \"C\",\n",
    "        \"C\" : \"G\"\n",
    "    }\n",
    "    rev = \"\"\n",
    "    for i in range(len(s)):\n",
    "        rev+= switcher.get(s[i])\n",
    "    return rev\n",
    "reverseComplement(\"ATGC\")"
   ]
  },
  {
   "cell_type": "code",
   "execution_count": 62,
   "metadata": {},
   "outputs": [
    {
     "output_type": "execute_result",
     "data": {
      "text/plain": [
       "[1, 3, 9]"
      ]
     },
     "metadata": {},
     "execution_count": 62
    }
   ],
   "source": [
    "def allOccurance(s,p):\n",
    "    return [i for i in range(len(s)- len(p)+1) if s.startswith(p,i)]\n",
    "\n",
    "allOccurance(\"GATATATGCATATACTT\",\"ATAT\")"
   ]
  },
  {
   "cell_type": "code",
   "execution_count": 54,
   "metadata": {},
   "outputs": [
    {
     "output_type": "execute_result",
     "data": {
      "text/plain": [
       "{'AATGT', 'CGACA', 'GAAGA'}"
      ]
     },
     "metadata": {},
     "execution_count": 54
    }
   ],
   "source": [
    "def kmerFrequency(s, k,t):\n",
    "    kmers_map = dict()\n",
    "    for i in range(len(s) - k +1):\n",
    "        pat = s[i:i+k]\n",
    "        if pat not in kmers_map: \n",
    "            freq = patternCount(s, pat)\n",
    "            if freq >= t :\n",
    "                kmers_map[pat] = freq\n",
    "    return kmers_map\n",
    "\n",
    "def clumpFinding(g, L, k, t):\n",
    "    clumpers = set()\n",
    "    for i in range(len(g) - L +1):\n",
    "        window = g[i:i+L]\n",
    "        freq_map = kmerFrequency(window, k,t)\n",
    "        for c in freq_map:\n",
    "            clumpers.add(c)\n",
    "    return clumpers\n",
    "\n",
    "clumpFinding(\"CGGACTCGACAGATGTGAAGAAATGTGAAGACTGAGTGAAGAGAAGAGGAAACACGACACGACATTGCGACATAATGTACGAATGTAATGTGCCTATGGC\",  75,5, 4)"
   ]
  },
  {
   "cell_type": "code",
   "execution_count": 59,
   "metadata": {},
   "outputs": [
    {
     "output_type": "stream",
     "name": "stdout",
     "text": [
      "8  \n10  \n"
     ]
    }
   ],
   "source": [
    "def skewArray(s):\n",
    "    skew_array = []\n",
    "    count = 0\n",
    "    for i in s:\n",
    "        if i == \"G\":\n",
    "            count+=1\n",
    "        if i == \"C\":\n",
    "            count-=1\n",
    "        skew_array.append(count)\n",
    "\n",
    "    return skew_array\n",
    "\n",
    "def skew_minima(s):\n",
    "    skew_array = skewArray(s)\n",
    "    minima = min(skew_array)\n",
    "    for i in range(len(skew_array)):\n",
    "        if skew_array[i] == minima:\n",
    "            print(i+1,\" \")\n",
    "skew_minima(\"GAGCCACCGCGATA\")"
   ]
  },
  {
   "cell_type": "code",
   "execution_count": 60,
   "metadata": {},
   "outputs": [],
   "source": [
    "def HammingDistance(s,ss):\n",
    "    count = 0\n",
    "\n",
    "    for (i,j) in zip(s,ss):\n",
    "            if i!= j:\n",
    "                count+=1\n",
    "    return count"
   ]
  },
  {
   "cell_type": "code",
   "execution_count": 64,
   "metadata": {},
   "outputs": [
    {
     "output_type": "execute_result",
     "data": {
      "text/plain": [
       "[7, 8, 27, 28, 79]"
      ]
     },
     "metadata": {},
     "execution_count": 64
    }
   ],
   "source": [
    "def approxPatternMatchNaive(s,p,d):\n",
    "    pos = []\n",
    "\n",
    "    for i in range(len(s)-len(p) +1):\n",
    "        pat = s[i:i+len(p)]\n",
    "        if HammingDistance(pat,p) <=d:\n",
    "            pos.append(i+1)\n",
    "    \n",
    "    return pos\n",
    "\n",
    "approxPatternMatchNaive(\"CGCCCGAATCCAGAACGCATTCCCATATTTCGGGACCACTGGCCTCCACGGTACGGACGTCAATCAAATGCCTAGCGGCTTGTGGTTTCTCCTACGCTCC\",\"ATTCTGGA\",3)"
   ]
  },
  {
   "cell_type": "code",
   "execution_count": 76,
   "metadata": {},
   "outputs": [
    {
     "output_type": "execute_result",
     "data": {
      "text/plain": [
       "11"
      ]
     },
     "metadata": {},
     "execution_count": 76
    }
   ],
   "source": [
    "def symbolTonumber (char):\n",
    "    switcher = {\n",
    "        \"A\" : 0,\n",
    "        \"C\" : 1,\n",
    "        \"G\" : 2,\n",
    "        \"T\" : 3\n",
    "    }\n",
    "\n",
    "    return switcher.get(char)\n",
    "\n",
    "def patternToNumber(pattern) : \n",
    "    if pattern=='':\n",
    "        return 0\n",
    "    char=pattern[-1]\n",
    "    prefix = pattern[:-1]\n",
    "    return 4* patternToNumber(prefix) + symbolTonumber(char)\n",
    "\n",
    "\n",
    "patternToNumber(\"AGT\")"
   ]
  },
  {
   "cell_type": "code",
   "execution_count": 126,
   "metadata": {},
   "outputs": [
    {
     "output_type": "execute_result",
     "data": {
      "text/plain": [
       "'AGTC'"
      ]
     },
     "metadata": {},
     "execution_count": 126
    }
   ],
   "source": [
    "def NumberToPattern(index, k):\n",
    "    table = {0:'A', 1:'C', 2:'G', 3:'T'}\n",
    "    if k == 1:\n",
    "        return table.get(int(index))\n",
    "    prefixIndex = index / 4\n",
    "    r = index % 4\n",
    "    prefixPattern = NumberToPattern(prefixIndex, k-1)\n",
    "    symbol = table.get(int(r))\n",
    "    return prefixPattern + symbol\n",
    "\n",
    "NumberToPattern(45,4)"
   ]
  },
  {
   "cell_type": "code",
   "execution_count": 90,
   "metadata": {},
   "outputs": [
    {
     "output_type": "execute_result",
     "data": {
      "text/plain": [
       "[2, 1, 0, 0, 0, 0, 2, 2, 1, 2, 1, 0, 0, 1, 1, 0]"
      ]
     },
     "metadata": {},
     "execution_count": 90
    }
   ],
   "source": [
    "def GenerateFrequencyArray(s, k):\n",
    "    freq_array = [0] * 4**k \n",
    "\n",
    "    for i in range(len(s) - k+1):\n",
    "        pat = s[i:i+k]\n",
    "        patTonum = patternToNumber(pat)\n",
    "        freq_array[patTonum] = freq_array[patTonum]+1\n",
    "    \n",
    "    return freq_array\n",
    "    \n",
    "GenerateFrequencyArray(\"ACGCGGCTCTGAAA\",2)"
   ]
  },
  {
   "cell_type": "code",
   "execution_count": 91,
   "metadata": {},
   "outputs": [],
   "source": [
    "def fasterFrequentWords(s,k):\n",
    "    freq_words = set()\n",
    "    freq_array = GenerateFrequencyArray(s,k)\n",
    "    maxima = max(freq_array)\n",
    "    for i in range(len(4**k)):\n",
    "        if freq_array[i] == maxima:\n",
    "            p = numberToPattern(i)\n",
    "            freq_words.add(p)\n",
    "    return freq_words"
   ]
  },
  {
   "cell_type": "code",
   "execution_count": 99,
   "metadata": {},
   "outputs": [
    {
     "output_type": "execute_result",
     "data": {
      "text/plain": [
       "['ACA', 'AAG', 'AGG', 'ATG', 'ACG', 'GCG', 'TCG', 'CCG', 'ACT', 'ACC']"
      ]
     },
     "metadata": {},
     "execution_count": 99
    }
   ],
   "source": [
    "def NeighborhoodOfString(pattern,d):\n",
    "\n",
    "    if d == 0 :\n",
    "        return [pattern]\n",
    "    if len(pattern) == 1 :\n",
    "        return [\"A\",\"G\",\"T\",\"C\"]\n",
    "\n",
    "    neighbors = []\n",
    "    suffixNeighbors = NeighborhoodOfString(pattern[1:], d)\n",
    "    for n in suffixNeighbors :\n",
    "        if HammingDistance(pattern[1:], n) < d :\n",
    "            neighbors.extend([\"A\" + n , \"G\" + n, \"T\" +n, \"C\" +n])\n",
    "        else :\n",
    "            neighbors.append(pattern[0]+n)\n",
    "    \n",
    "    return neighbors\n",
    "        \n",
    "NeighborhoodOfString(\"ACG\",1)\n"
   ]
  },
  {
   "cell_type": "code",
   "execution_count": 130,
   "metadata": {},
   "outputs": [
    {
     "output_type": "execute_result",
     "data": {
      "text/plain": [
       "['ATGC', 'ATGT', 'GATG']"
      ]
     },
     "metadata": {},
     "execution_count": 130
    }
   ],
   "source": [
    "\n",
    "def frequentApproximateWords(s,k,d):\n",
    "    freq_array = [0]* 4**k\n",
    "    freq_words = []\n",
    "    for i in range(len(s) - k +1):\n",
    "        pat = s[i:i+k]\n",
    "        patNeighbors = NeighborhoodOfString(pat, d)\n",
    "        # print(patNeighbors)\n",
    "        for n in patNeighbors :\n",
    "            hashIndex = patternToNumber(n)\n",
    "            freq_array[hashIndex] = freq_array[hashIndex] + 1\n",
    "    # print(freq_array)\n",
    "    maxima = max(freq_array)\n",
    "    for i in range(4**k):\n",
    "        if (freq_array[i] == maxima) :\n",
    "            valHash = NumberToPattern(i,k)\n",
    "            freq_words.append(valHash)\n",
    "    \n",
    "    return freq_words\n",
    "frequentApproximateWords(\"ACGTTGCATGTCGCATGATGCATGAGAGCT\", 4, 1)"
   ]
  },
  {
   "cell_type": "code",
   "execution_count": 132,
   "metadata": {},
   "outputs": [
    {
     "output_type": "execute_result",
     "data": {
      "text/plain": [
       "{'ACAT', 'ATGT'}"
      ]
     },
     "metadata": {},
     "execution_count": 132
    }
   ],
   "source": [
    "def frequentApproximateWordswithReverse(s,k,d) :\n",
    "    freq_array = [0]* 4**k\n",
    "    freq_words = set()\n",
    "\n",
    "    for i in range(len(s) -k+1):\n",
    "        pat= s[i:i+k]\n",
    "        pat_r = reverseComplement(pat)\n",
    "        hood_pat = NeighborhoodOfString(pat, d)\n",
    "        hood_pat_r = NeighborhoodOfString(pat_r, d)\n",
    "        for n in hood_pat :\n",
    "            n_idx = patternToNumber(n)\n",
    "            freq_array[n_idx] = freq_array[n_idx] + 1\n",
    "        for n_r in hood_pat_r :\n",
    "            r_idx = patternToNumber(n_r)\n",
    "            freq_array[r_idx] = freq_array[r_idx] + 1\n",
    "\n",
    "    maxim = max(freq_array)\n",
    "    for i in range(4**k):\n",
    "        if freq_array[i] == maxim : \n",
    "            val = NumberToPattern(i, k)\n",
    "            freq_words.add(val)\n",
    "    \n",
    "    return freq_words\n",
    "\n",
    "frequentApproximateWordswithReverse(\"ACGTTGCATGTCGCATGATGCATGAGAGCT\",4,1)"
   ]
  },
  {
   "cell_type": "code",
   "execution_count": 156,
   "metadata": {},
   "outputs": [
    {
     "output_type": "execute_result",
     "data": {
      "text/plain": [
       "{'ATA', 'ATT', 'GTT', 'TTT'}"
      ]
     },
     "metadata": {},
     "execution_count": 156
    }
   ],
   "source": [
    "import itertools\n",
    "\n",
    "def generateKmers(k):\n",
    "    alpha = [\"A\",\"G\",\"T\",\"C\"]\n",
    "    return [\"\".join(item) for item in itertools.product(alpha, repeat = k)]\n",
    "def getStringKmers(s, k):\n",
    "    for i in range(1 + len(s) - k):\n",
    "        yield s[i:i+k]\n",
    "def motifEnumerationNaive(DNA,k,d):\n",
    "    motifs = set()\n",
    "    kmers = generateKmers(k)\n",
    "    for kmer in kmers:\n",
    "        if all(any(HammingDistance(pat, kmer) <= d for pat in getStringKmers(string,k)) for string in DNA):\n",
    "            motifs.add(kmer)\n",
    "            \n",
    "    return motifs \n",
    "\n",
    "motifEnumerationNaive([\"ATTTGGC\",\n",
    "\"TGCCTTA\",\n",
    "\"CGGTATC\",\n",
    "\"GAAAATT\"],3, 1)"
   ]
  },
  {
   "cell_type": "code",
   "execution_count": 161,
   "metadata": {},
   "outputs": [
    {
     "output_type": "execute_result",
     "data": {
      "text/plain": [
       "'ACG'"
      ]
     },
     "metadata": {},
     "execution_count": 161
    }
   ],
   "source": [
    "def differenceBetweenPatternandDNA(p,dna):\n",
    "    minDiffAllStrings = 0\n",
    "    k = len(p)\n",
    "\n",
    "    for d in dna :\n",
    "        ham_dist = 2**31\n",
    "        for i in range (len(d) - k+1):\n",
    "            pat = d[i:i+k]\n",
    "            if ham_dist > HammingDistance(p, pat):\n",
    "                ham_dist = HammingDistance(p,pat)\n",
    "\n",
    "        minDiffAllStrings = minDiffAllStrings + ham_dist\n",
    "    return minDiffAllStrings\n",
    "\n",
    "def medianString(k, DNA):\n",
    "    distance = 9999999\n",
    "    median = \"\"\n",
    "    for kmer in generateKmers(k):\n",
    "        diff =  differenceBetweenPatternandDNA(kmer,DNA)\n",
    "        if distance > diff: \n",
    "            distance = diff\n",
    "            median = kmer\n",
    "    \n",
    "    return median\n",
    "\n",
    "medianString(3,\n",
    "[\"AAATTGACGCAT\",\n",
    "\"GACGACCACGTT\",\n",
    "\"CGTCAGCGCCTG\",\n",
    "\"GCTGAGCACCGG\",\n",
    "\"AGTACGGGACAG\"])    "
   ]
  },
  {
   "cell_type": "code",
   "execution_count": 232,
   "metadata": {},
   "outputs": [],
   "source": [
    "def CountMatrix(Motifs):\n",
    "    k = len(Motifs[0])\n",
    "    count = {'A':[0]*k,'C':[0]*k,'G':[0]*k,'T':[0]*k} \n",
    "    t = len(Motifs)\n",
    "    for i in range(t):\n",
    "        for j in range(k):\n",
    "            symbol = Motifs[i][j]\n",
    "            count[symbol][j] += 1\n",
    "    return count\n",
    "\n",
    "def Profile(motifs):\n",
    "    k = len(motifs[0])\n",
    "    t = len(motifs)\n",
    "    count_dic = CountMatrix(motifs)\n",
    "\n",
    "    for i in count_dic:\n",
    "        for j in range(k) :\n",
    "            count_dic[i][j] = float(count_dic[i][j])/float(t)\n",
    "\n",
    "    return count_dic\n",
    "\n",
    "\n",
    "def Consensus (motifs) : \n",
    "    profile_dic = Profile(motifs)\n",
    "    k = len(motifs[0])\n",
    "    consense = \"\"\n",
    "    for i in range(k) :\n",
    "        m = 0.0\n",
    "        freq_bp = \"\"\n",
    "        for j in profile_dic:\n",
    "            val = profile_dic[j][i]\n",
    "            if val > m :\n",
    "                m = val\n",
    "                freq_bp = j \n",
    "\n",
    "        consense += freq_bp\n",
    "    \n",
    "    return consense\n",
    "\n",
    "\n",
    "def Score(motifs):\n",
    "    consense = Consensus(motifs)\n",
    "    count_dic = CountMatrix(motifs)\n",
    "\n",
    "    score = len(motifs) * len(consense)\n",
    "    k = 0\n",
    "    for i in count_dic : \n",
    "        score -= count_dic[i][k]\n",
    "        k+=1\n",
    "    \n",
    "    return score\n",
    "\n",
    "\n",
    "def calculateProbability(pattern, profile):\n",
    "    prob = 1.0\n",
    "    for i in range(len(pattern)) :\n",
    "        prob *= profile[pattern[i]][i]\n",
    "    \n",
    "    return prob\n",
    "\n",
    "def profileMostProbableKmer(s, k, profile):\n",
    "    # print(s,\"-----\",k,\"-----\",profile)\n",
    "    best_kmer = \"\"\n",
    "    best_prob = 0.0\n",
    "    for i in range(len(s) - k + 1):\n",
    "        pat = s[i:i+k]\n",
    "        prob = calculateProbability(pat,profile)\n",
    "        if prob >= best_prob : \n",
    "            best_prob = prob \n",
    "            best_kmer = pat\n",
    "    return best_kmer\n",
    "def greedyMotifSearch(DNA, k, t) : \n",
    "    Best_motif = []\n",
    "    best_score = 2**31\n",
    "    for d in DNA:\n",
    "        Best_motif.append(d[0:k])\n",
    "    \n",
    "    for i in range(len(DNA[0]) - k +1):\n",
    "        Motifs_temp = []\n",
    "        Motifs_temp.append(DNA[0][i:i+k])\n",
    "        for j in range(1,t): \n",
    "            prof_dict = Profile(Motifs_temp[0:j])\n",
    "            PMK = profileMostProbableKmer(DNA[j], k,prof_dict)\n",
    "            Motifs_temp.append(PMK) \n",
    "        \n",
    "        print('--------------------------------------------------------')\n",
    "\n",
    "        score = Score(Motifs_temp)\n",
    "        if score < best_score:\n",
    "            best_score = score \n",
    "            Best_motif = Motifs_temp\n",
    "    return Best_motif\n"
   ]
  },
  {
   "cell_type": "code",
   "execution_count": 233,
   "metadata": {},
   "outputs": [
    {
     "output_type": "stream",
     "name": "stdout",
     "text": [
      "--------------------------------------------------------\n--------------------------------------------------------\n--------------------------------------------------------\n"
     ]
    },
    {
     "output_type": "execute_result",
     "data": {
      "text/plain": [
       "['ACCT', 'TTGG', 'GTTC', 'ACGT']"
      ]
     },
     "metadata": {},
     "execution_count": 233
    }
   ],
   "source": [
    "greedyMotifSearch([\"ACCTAT\", \"AGTTGG\", \"CCGTTC\", \"ACGTAA\"], 4, 4)"
   ]
  },
  {
   "cell_type": "code",
   "execution_count": 245,
   "metadata": {},
   "outputs": [],
   "source": [
    "def ScoreWithPseudocount(motifs,pc):\n",
    "    consense = Consensus(motifs)\n",
    "    count_dic = CountMatrix(motifs)\n",
    "    score = len(motifs) * len(consense)\n",
    "    k = 0\n",
    "    for symbol in consense : \n",
    "        score -= count_dic[symbol][k]\n",
    "        k+=1\n",
    "    \n",
    "    return score\n",
    "\n",
    "def CountMatrixWithPseudocount(motifs,pc):\n",
    "    t = len(motifs)\n",
    "    k = len(motifs[0])\n",
    "    count_dict = {\"A\" : [pc]*k, \"G\" : [pc]*k, \"T\" : [pc]*k, \"C\" : [pc]*k}\n",
    "    # print(motifs)\n",
    "    for i in range(t) : \n",
    "        for j in  range(k) :\n",
    "            symbol = motifs[i][j]\n",
    "            # print(symbol)\n",
    "            count_dict[symbol][j] += 1\n",
    "    return count_dict\n",
    "\n",
    "def ProfileWithPseudoCount(motifs, pc):\n",
    "    t = len(motifs)\n",
    "    k = len(motifs[0])\n",
    "    count_dict = CountMatrixWithPseudocount(motifs,pc)\n",
    "    \n",
    "    for i in count_dict:\n",
    "        for j in range(k):\n",
    "            count_dict[i][j] = float((count_dict[i][j] + pc)/ (t + (4*pc)))\n",
    "    \n",
    "    return count_dict\n",
    "def greedyMotifWithPseudocounts(DNA,k, t) :\n",
    "    Best_motif = []\n",
    "    best_score = 2**31\n",
    "    for d in DNA : \n",
    "        Best_motif.append(d[0:k])\n",
    "\n",
    "    for i in range(len(DNA[0]) - k + 1):\n",
    "        Motif_temp = []\n",
    "        Motif_temp.append(DNA[0][i:i+k])\n",
    "\n",
    "        for j in range(1,t):\n",
    "            profile = ProfileWithPseudoCount(Motif_temp[0:j],1)\n",
    "            PMK = profileMostProbableKmer(DNA[j], k, profile)\n",
    "            Motif_temp.append(PMK)\n",
    "        \n",
    "        score = ScoreWithPseudocount(Motif_temp,1)\n",
    "        if score < ScoreWithPseudocount(Best_motif,1) : \n",
    "            best_score =  score\n",
    "            Best_motif = Motif_temp\n",
    "    \n",
    "    return Best_motif\n"
   ]
  },
  {
   "cell_type": "code",
   "execution_count": 246,
   "metadata": {},
   "outputs": [
    {
     "output_type": "execute_result",
     "data": {
      "text/plain": [
       "['TTC', 'GTC', 'TTC', 'GTC', 'TTC']"
      ]
     },
     "metadata": {},
     "execution_count": 246
    }
   ],
   "source": [
    "greedyMotifWithPseudocounts([\"GGCGTTCAGGCA\",\n",
    "\"AAGAATCAGTCA\",\n",
    "\"CAAGGAGTTCGC\",\n",
    "\"CACGTCAATCAC\",\n",
    "\"CAATAATATTCG\"], 3, 5)"
   ]
  },
  {
   "cell_type": "code",
   "execution_count": 249,
   "metadata": {},
   "outputs": [
    {
     "output_type": "execute_result",
     "data": {
      "text/plain": [
       "['GTGTTCAG', 'GTGCCAAG', 'GTACCGAG', 'AGATCAAG', 'GCTCCACG']"
      ]
     },
     "metadata": {},
     "execution_count": 249
    }
   ],
   "source": [
    "import numpy as np\n",
    "def random_motif_generator(DNA,k):\n",
    "    result = []\n",
    "    for string in DNA :\n",
    "        idx = np.random.randint(0, len(string) - k)\n",
    "        motif = string[idx: idx+k]\n",
    "        result.append(motif)\n",
    "    \n",
    "    return result\n",
    "\n",
    "def RandomizedMotifSearch(DNA, k, t):\n",
    "    motifs = random_motif_generator(DNA, k)\n",
    "    best_motifs = motifs \n",
    "    while True : \n",
    "        profile = Profile(motifs)\n",
    "        motifs = []\n",
    "        for i in range(t):\n",
    "            motifs.append(profileMostProbableKmer(DNA[i], k, profile))\n",
    "        if Score(motifs) < Score(best_motifs):\n",
    "            best_motifs = motifs\n",
    "        else :\n",
    "            return best_motifs        \n",
    "\n",
    "RandomizedMotifSearch(\n",
    "[\"CGCCCCTCTCGGGGGTGTTCAGTAAACGGCCA\",\n",
    "\"GGGCGAGGTATGTGTAAGTGCCAAGGTGCCAG\",\n",
    "\"TAGTACCGAGACCGAAAGAAGTATACAGGCGT\",\n",
    "\"TAGATCAAGTTTCAGGTGCACGTCGGTGAACC\",\n",
    "\"AATCCACCAGCTCCACGTGCAATGTTGGCCTA\"],\n",
    "8, 5)\n",
    "\n"
   ]
  },
  {
   "cell_type": "code",
   "execution_count": 283,
   "metadata": {},
   "outputs": [
    {
     "output_type": "execute_result",
     "data": {
      "text/plain": [
       "['AACGGCCA', 'GGTGCCAG', 'ACAGGCGT', 'GGTGAACC', 'TTGGCCTA']"
      ]
     },
     "metadata": {},
     "execution_count": 283
    }
   ],
   "source": [
    "def GibbsSampler(DNA, k,t,N):\n",
    "    motifs = random_motif_generator(DNA,k)\n",
    "    best_motif = motifs\n",
    "\n",
    "    for run in range(N):\n",
    "        i = np.random.randint(t)\n",
    "        motifs_wo_ith = np.delete(motifs,i)\n",
    "        profile = Profile(motifs_wo_ith)\n",
    "        motifs[i] = profileMostProbableKmer(DNA[i],k, profile)\n",
    "        if Score(motifs) < Score(best_motif):\n",
    "            best_motif = motifs\n",
    "        \n",
    "    return best_motif\n",
    "\n",
    "GibbsSampler(\n",
    "[\"CGCCCCTCTCGGGGGTGTTCAGTAAACGGCCA\",\n",
    "\"GGGCGAGGTATGTGTAAGTGCCAAGGTGCCAG\",\n",
    "\"TAGTACCGAGACCGAAAGAAGTATACAGGCGT\",\n",
    "\"TAGATCAAGTTTCAGGTGCACGTCGGTGAACC\",\n",
    "\"AATCCACCAGCTCCACGTGCAATGTTGGCCTA\"],\n",
    "8, 5, 100)"
   ]
  },
  {
   "cell_type": "code",
   "execution_count": 255,
   "metadata": {},
   "outputs": [],
   "source": [
    "def KmerComposition(s,k):\n",
    "    kmers = []\n",
    "    for i in range(len(s)-k+1):\n",
    "        kmer = s[i:i+k]\n",
    "        kmers.append(kmer)\n",
    "    return kmers\n"
   ]
  },
  {
   "cell_type": "code",
   "execution_count": 258,
   "metadata": {},
   "outputs": [
    {
     "output_type": "stream",
     "name": "stdout",
     "text": [
      "hello there\n---------------\nhello there\n"
     ]
    },
    {
     "output_type": "execute_result",
     "data": {
      "text/plain": [
       "'hello there'"
      ]
     },
     "metadata": {},
     "execution_count": 258
    }
   ],
   "source": [
    "def StringReconstruction(string, k):\n",
    "    print(string)\n",
    "    print(\"---------------\")\n",
    "    kmers = KmerComposition(string,k)\n",
    "    newString = kmers[0]\n",
    "    for i in range(1, len(kmers)):\n",
    "        newString+= kmers[i][-1:]\n",
    "    print(newString)\n",
    "    return newString\n",
    "\n",
    "StringReconstruction(\"hello there\", 3)"
   ]
  },
  {
   "cell_type": "code",
   "execution_count": 260,
   "metadata": {},
   "outputs": [
    {
     "output_type": "stream",
     "name": "stdout",
     "text": [
      "ATGCG  -->  CATGC\nGCATG  -->  GGCAT\nCATGC  -->  GCATG\nGGCAT  -->  AGGCA\n"
     ]
    }
   ],
   "source": [
    "def getPrefix(kmer):\n",
    "    return kmer[:len(kmer)-1]\n",
    "\n",
    "def getSuffix(kmer):\n",
    "    return kmer[1:]\n",
    "\n",
    "def generateOverlapGraph(kmers):\n",
    "    graph = [[0]*len(kmers) for _ in range(len(kmers))]\n",
    "\n",
    "    for i in range(len(kmers)):\n",
    "        for j in range(len(kmers)):\n",
    "            if (i != j) and getPrefix(kmers[i]) == getSuffix(kmers[j]):\n",
    "                graph[i][j] = 1\n",
    "\n",
    "    \n",
    "    for i in range(len(graph)):\n",
    "        for j in range(len(graph)):\n",
    "            if graph[i][j] == 1:\n",
    "                print(kmers[i],\" --> \", kmers[j])\n",
    "\n",
    "\n",
    "generateOverlapGraph([\"ATGCG\", \"GCATG\", \"CATGC\", \"AGGCA\", \"GGCAT\"])"
   ]
  },
  {
   "cell_type": "code",
   "execution_count": 271,
   "metadata": {},
   "outputs": [
    {
     "output_type": "stream",
     "name": "stdout",
     "text": [
      "AAG  =>\nAGA\n---------------------------\nAGA  =>\nGAT\n---------------------------\nATT  =>\nTTC\n---------------------------\nCTA  =>\nTAC\n---------------------------\nCTC  =>\nTCT\n---------------------------\nGAT  =>\nATT\n---------------------------\nTCT  =>\nCTA\nCTC\n---------------------------\nTTC  =>\nTCT\n---------------------------\n"
     ]
    }
   ],
   "source": [
    "import collections\n",
    "\n",
    "def contructDebruijn(k, s):\n",
    "    adj_list = {}\n",
    "\n",
    "    for i in range(len(s)-k + 1):\n",
    "        p = s[i:i+k]\n",
    "        pref = getPrefix(p)\n",
    "        suf = getSuffix(p)\n",
    "        if pref not in adj_list:\n",
    "            adj_list[pref] = (suf, )\n",
    "        else:\n",
    "            adj_list[pref] += (suf, )\n",
    "\n",
    "    ordered = collections.OrderedDict(sorted(adj_list.items()))\n",
    "    # print(adj_list)\n",
    "    # print(ordered)\n",
    "\n",
    "    for key in ordered.keys():\n",
    "        print(key,\" =>\")\n",
    "        adj_list[key] = sorted(adj_list[key])\n",
    "        for item in adj_list[key]:\n",
    "            print( str(item))\n",
    "        print(\"---------------------------\")\n",
    "\n",
    "contructDebruijn(4,\"AAGATTCTCTAC\")"
   ]
  },
  {
   "cell_type": "code",
   "execution_count": 272,
   "metadata": {},
   "outputs": [],
   "source": [
    "def constructDebruijnfromKmers(kmers):\n",
    "    adj_list = {}\n",
    "    for kmer in kemrs:\n",
    "        pref = getPrefix(kemr)\n",
    "        suf = getSuffix(kmer)\n",
    "\n",
    "        adj_list[pref] = []\n",
    "        adj_list [suf] = []\n",
    "\n",
    "    for kmer in kmers:\n",
    "        p = getPrefix(kmer)\n",
    "        s = getSuffix(kmer)\n",
    "        adj_list[p].append(s)\n",
    "    return adj_list\n",
    "\n",
    "\n",
    "    "
   ]
  },
  {
   "cell_type": "code",
   "execution_count": 286,
   "metadata": {},
   "outputs": [],
   "source": [
    "def buildGraph(graphRaw):\n",
    "    graph = {}\n",
    "    for line in graphRaw:\n",
    "        vertex = line.split(\"->\")\n",
    "        node = int(vertex[0])\n",
    "        connectedList = []\n",
    "        connectedPairs = vertex[1].split(\",\")\n",
    "        for i in connectedPairs:\n",
    "            connectedList.append(int(i))\n",
    "        graph[node] = connectedList\n",
    "    return graph\n",
    "def get_start(adj_list):\n",
    "    deg = {}\n",
    "    for v in adj_list:       \n",
    "        if v not in deg.keys():\n",
    "            deg[v] = -len(adj_list[v])\n",
    "        else:\n",
    "            deg[v] -= len(adj_list[v])   \n",
    "        for u in adj_list[v]:\n",
    "            if u not in deg.keys():\n",
    "                deg[u] = 1\n",
    "            else:\n",
    "                deg[u] += 1   \n",
    "    for v in deg:\n",
    "        if deg[v] == -1:\n",
    "            source = v    \n",
    "    return source\n",
    "\n",
    "def eulerian_path(graph, v,path, nodes):\n",
    "\n",
    "    if v not in graph.keys():\n",
    "        path.append(v)\n",
    "        if len(nodes) == 0:\n",
    "            return\n",
    "        else:\n",
    "            eulerian_path(graph, nodes.pop(),path,nodes ) \n",
    "    elif len(graph[v]) == 0:\n",
    "        path.append(v)\n",
    "        if len(nodes) == 0:\n",
    "            return\n",
    "        else:\n",
    "            eulerian_path(graph, nodes.pop(),path, nodes )\n",
    "    else:\n",
    "        nodes.append(v)\n",
    "        eulerian_path( graph, graph[v].pop(0),path, nodes)\n",
    "    return path, nodes"
   ]
  },
  {
   "cell_type": "code",
   "execution_count": 289,
   "metadata": {},
   "outputs": [
    {
     "output_type": "execute_result",
     "data": {
      "text/plain": [
       "([4, 3, 1, 2, 0, 3, 6, 9, 8, 7, 6], [])"
      ]
     },
     "metadata": {},
     "execution_count": 289
    }
   ],
   "source": [
    "graphRaw = [\n",
    "    \"0 -> 2\",\n",
    "    \"1 -> 3\",\n",
    "    \"2 -> 1\",\n",
    "    \"3 -> 0,4\",\n",
    "    \"6 -> 3,7\",\n",
    "    \"7 -> 8\",\n",
    "    \"8 -> 9\",\n",
    "    \"9 -> 6\"\n",
    "]\n",
    "graph = buildGraph(graphRaw)\n",
    "start = get_start(graph)\n",
    "path = []\n",
    "nodes = []\n",
    "path, nodes = eulerian_path(graph, start, path, nodes)\n",
    "path, nodes"
   ]
  }
 ],
 "metadata": {
  "kernelspec": {
   "name": "python3810jvsc74a57bd0f5496cdbd07f30766f256b3a38047ed88acd06ea50b0a76ba18a94a84236e39f",
   "display_name": "Python 3.8.10 64-bit ('gigEnv': conda)"
  },
  "language_info": {
   "codemirror_mode": {
    "name": "ipython",
    "version": 2
   },
   "file_extension": ".py",
   "mimetype": "text/x-python",
   "name": "python",
   "nbconvert_exporter": "python",
   "pygments_lexer": "ipython2",
   "version": "3.8.10"
  },
  "metadata": {
   "interpreter": {
    "hash": "f5496cdbd07f30766f256b3a38047ed88acd06ea50b0a76ba18a94a84236e39f"
   }
  }
 },
 "nbformat": 4,
 "nbformat_minor": 1
}