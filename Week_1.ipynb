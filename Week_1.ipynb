{
 "metadata": {
  "language_info": {
   "codemirror_mode": {
    "name": "ipython",
    "version": 3
   },
   "file_extension": ".py",
   "mimetype": "text/x-python",
   "name": "python",
   "nbconvert_exporter": "python",
   "pygments_lexer": "ipython3",
   "version": "3.6.9-final"
  },
  "orig_nbformat": 2,
  "kernelspec": {
   "name": "python36964bit96b38543bc524d45aa4022ceee87892b",
   "display_name": "Python 3.6.9 64-bit"
  }
 },
 "nbformat": 4,
 "nbformat_minor": 2,
 "cells": [
  {
   "source": [
    "# http://csbio.unc.edu/mcmillan/index.py?run=Courses.Comp555S20"
   ],
   "cell_type": "markdown",
   "metadata": {}
  },
  {
   "source": [
    "### Compute the Number of Times a Pattern Appears in a Text "
   ],
   "cell_type": "markdown",
   "metadata": {}
  },
  {
   "cell_type": "code",
   "execution_count": 72,
   "metadata": {
    "tags": []
   },
   "outputs": [
    {
     "output_type": "stream",
     "name": "stdout",
     "text": "1\n"
    }
   ],
   "source": [
    "def pattern_frequency(text, pattern):\n",
    "    count = 0;\n",
    "    for i in range (len(text)-len(pattern) + 1):\n",
    "        if text[i:i+len(pattern)] == pattern: \n",
    "            count+=1\n",
    "\n",
    "    return count\n",
    "print(pattern_frequency(\"CGTGACAGTGTATGGGCATCTTT\", \"TGT\"))\n"
   ]
  },
  {
   "source": [
    "### Find the Most Frequent Words in a String"
   ],
   "cell_type": "markdown",
   "metadata": {}
  },
  {
   "cell_type": "code",
   "execution_count": 2,
   "metadata": {
    "tags": []
   },
   "outputs": [
    {
     "output_type": "execute_result",
     "data": {
      "text/plain": "['AGG']"
     },
     "metadata": {},
     "execution_count": 2
    }
   ],
   "source": [
    "from collections import Counter\n",
    "def most_frequent_pattern(text,n) :\n",
    "    subs = Counter(text[i:i+n] for i in range(len(text)-n+1))\n",
    "    max_value = max(subs.values())\n",
    "    return sorted(key for key, value in subs.items() if           value == max_value)\n",
    "\n",
    "most_frequent_pattern(\"CGGAGGACTCTAGGTAACGCTTATCAGGTCCATAGGACATTCA\",3)"
   ]
  },
  {
   "source": [
    "### Find the Reverse Complement of a String"
   ],
   "cell_type": "markdown",
   "metadata": {}
  },
  {
   "cell_type": "code",
   "execution_count": 62,
   "metadata": {
    "tags": []
   },
   "outputs": [],
   "source": [
    "def reverse_complement(text):\n",
    "    text = text[::-1]\n",
    "    rev = \"\"\n",
    "    switcher = {\n",
    "        \"A\" : \"T\",\n",
    "        \"T\" : \"A\",\n",
    "        \"G\" : \"C\",\n",
    "        \"C\" : \"G\"}\n",
    "    for i in range(len(text)):\n",
    "        rev+=switcher.get(text[i])\n",
    "\n",
    "    return rev"
   ]
  },
  {
   "source": [
    "### Count the number of occurrences of the different patterns of particular length from a text"
   ],
   "cell_type": "markdown",
   "metadata": {}
  },
  {
   "cell_type": "code",
   "execution_count": 5,
   "metadata": {
    "tags": []
   },
   "outputs": [
    {
     "output_type": "stream",
     "name": "stdout",
     "text": "{'TGG': 6, 'GGT': 5, 'GTA': 2, 'TAG': 2, 'AGC': 4, 'GCG': 1, 'CGA': 1, 'GAC': 2, 'ACG': 1, 'CGT': 2, 'GTT': 1, 'TTG': 4, 'GTC': 4, 'TCC': 3, 'CCC': 3, 'CCG': 3, 'CGC': 2, 'GCC': 3, 'GCT': 4, 'CTT': 5, 'TGA': 3, 'GAG': 3, 'AGA': 4, 'GAA': 3, 'AAT': 3, 'ATC': 2, 'TCT': 4, 'CTG': 4, 'GGA': 1, 'GAT': 1, 'ATG': 2, 'AAC': 4, 'ACA': 3, 'CAT': 1, 'ATA': 2, 'TAA': 2, 'AAG': 1, 'CTC': 3, 'CCA': 5, 'CAC': 5, 'ACT': 5, 'GGC': 2, 'TTA': 2, 'TAT': 2, 'ATT': 1, 'TTC': 1, 'TCA': 2, 'CAG': 3, 'CAA': 3, 'TGT': 1, 'AGG': 1, 'ACC': 2, 'CGG': 1, 'GGG': 1, 'GCA': 2, 'TTT': 2, 'CTA': 1, 'TCG': 1, 'GTG': 1, 'TAC': 1, 'AAA': 1, 'TGC': 2}\n"
    }
   ],
   "source": [
    "def different_patterns(text,n) :\n",
    "    subs = dict(Counter(text[i:i+n] for i in range(len(text)-n+1)).items())\n",
    "    return subs\n",
    "\n",
    "print(different_patterns(\"TGGTAGCGACGTTGGTCCCGCCGCTTGAGAATCTGGATGAACATAAGCTCCCACTTGGCTTATTCAGAGAACTGGTCAACACTTGTCTCTCCCAGCCAGGTCTGACCACCGGGCAACTTTTAGAGCACTATCGTGGTACAAATAATGCTGCCAC\",3))"
   ]
  },
  {
   "source": [
    "### Multiplication of two matrix"
   ],
   "cell_type": "markdown",
   "metadata": {}
  },
  {
   "cell_type": "code",
   "execution_count": 6,
   "metadata": {
    "tags": []
   },
   "outputs": [
    {
     "output_type": "stream",
     "name": "stdout",
     "text": "[[114, 160, 60, 27], [74, 97, 73, 14], [119, 157, 112, 23]]\n"
    }
   ],
   "source": [
    "def matrix_multiply(X, Y):\n",
    "    result = [[sum(a*b for a,b in zip(X_row,Y_col)) for Y_col in zip(*Y)] for X_row in X]\n",
    "    return result\n",
    "\n",
    "print(matrix_multiply([[12, 7, 3], \n",
    "    [4, 5, 6], \n",
    "    [7, 8, 9]] ,[[5, 8, 1, 2], \n",
    "    [6, 7, 3, 0], \n",
    "    [4, 5, 9, 1]] ))"
   ]
  },
  {
   "source": [
    "### Find All Occurrences of a Pattern in a String"
   ],
   "cell_type": "markdown",
   "metadata": {}
  },
  {
   "cell_type": "code",
   "execution_count": 54,
   "metadata": {
    "tags": []
   },
   "outputs": [],
   "source": [
    "def all_pattern_occurance(pattern,text):\n",
    "    print([i for i in range(len(text)) if text.startswith(pattern, i)])\n"
   ]
  },
  {
   "source": [
    "### Generate all possible pattern of length 3 of characters [a-z]"
   ],
   "cell_type": "markdown",
   "metadata": {}
  },
  {
   "cell_type": "code",
   "execution_count": 8,
   "metadata": {
    "tags": [
     "outputPrepend"
    ]
   },
   "outputs": [
    {
     "output_type": "stream",
     "name": "stdout",
     "text": "sps\nspt\nspu\nspv\nspw\nspx\nspy\nspz\nsqa\nsqb\nsqc\nsqd\nsqe\nsqf\nsqg\nsqh\nsqi\nsqj\nsqk\nsql\nsqm\nsqn\nsqo\nsqp\nsqq\nsqr\nsqs\nsqt\nsqu\nsqv\nsqw\nsqx\nsqy\nsqz\nsra\nsrb\nsrc\nsrd\nsre\nsrf\nsrg\nsrh\nsri\nsrj\nsrk\nsrl\nsrm\nsrn\nsro\nsrp\nsrq\nsrr\nsrs\nsrt\nsru\nsrv\nsrw\nsrx\nsry\nsrz\nssa\nssb\nssc\nssd\nsse\nssf\nssg\nssh\nssi\nssj\nssk\nssl\nssm\nssn\nsso\nssp\nssq\nssr\nsss\nsst\nssu\nssv\nssw\nssx\nssy\nssz\nsta\nstb\nstc\nstd\nste\nstf\nstg\nsth\nsti\nstj\nstk\nstl\nstm\nstn\nsto\nstp\nstq\nstr\nsts\nstt\nstu\nstv\nstw\nstx\nsty\nstz\nsua\nsub\nsuc\nsud\nsue\nsuf\nsug\nsuh\nsui\nsuj\nsuk\nsul\nsum\nsun\nsuo\nsup\nsuq\nsur\nsus\nsut\nsuu\nsuv\nsuw\nsux\nsuy\nsuz\nsva\nsvb\nsvc\nsvd\nsve\nsvf\nsvg\nsvh\nsvi\nsvj\nsvk\nsvl\nsvm\nsvn\nsvo\nsvp\nsvq\nsvr\nsvs\nsvt\nsvu\nsvv\nsvw\nsvx\nsvy\nsvz\nswa\nswb\nswc\nswd\nswe\nswf\nswg\nswh\nswi\nswj\nswk\nswl\nswm\nswn\nswo\nswp\nswq\nswr\nsws\nswt\nswu\nswv\nsww\nswx\nswy\nswz\nsxa\nsxb\nsxc\nsxd\nsxe\nsxf\nsxg\nsxh\nsxi\nsxj\nsxk\nsxl\nsxm\nsxn\nsxo\nsxp\nsxq\nsxr\nsxs\nsxt\nsxu\nsxv\nsxw\nsxx\nsxy\nsxz\nsya\nsyb\nsyc\nsyd\nsye\nsyf\nsyg\nsyh\nsyi\nsyj\nsyk\nsyl\nsym\nsyn\nsyo\nsyp\nsyq\nsyr\nsys\nsyt\nsyu\nsyv\nsyw\nsyx\nsyy\nsyz\nsza\nszb\nszc\nszd\nsze\nszf\nszg\nszh\nszi\nszj\nszk\nszl\nszm\nszn\nszo\nszp\nszq\nszr\nszs\nszt\nszu\nszv\nszw\nszx\nszy\nszz\ntaa\ntab\ntac\ntad\ntae\ntaf\ntag\ntah\ntai\ntaj\ntak\ntal\ntam\ntan\ntao\ntap\ntaq\ntar\ntas\ntat\ntau\ntav\ntaw\ntax\ntay\ntaz\ntba\ntbb\ntbc\ntbd\ntbe\ntbf\ntbg\ntbh\ntbi\ntbj\ntbk\ntbl\ntbm\ntbn\ntbo\ntbp\ntbq\ntbr\ntbs\ntbt\ntbu\ntbv\ntbw\ntbx\ntby\ntbz\ntca\ntcb\ntcc\ntcd\ntce\ntcf\ntcg\ntch\ntci\ntcj\ntck\ntcl\ntcm\ntcn\ntco\ntcp\ntcq\ntcr\ntcs\ntct\ntcu\ntcv\ntcw\ntcx\ntcy\ntcz\ntda\ntdb\ntdc\ntdd\ntde\ntdf\ntdg\ntdh\ntdi\ntdj\ntdk\ntdl\ntdm\ntdn\ntdo\ntdp\ntdq\ntdr\ntds\ntdt\ntdu\ntdv\ntdw\ntdx\ntdy\ntdz\ntea\nteb\ntec\nted\ntee\ntef\nteg\nteh\ntei\ntej\ntek\ntel\ntem\nten\nteo\ntep\nteq\nter\ntes\ntet\nteu\ntev\ntew\ntex\ntey\ntez\ntfa\ntfb\ntfc\ntfd\ntfe\ntff\ntfg\ntfh\ntfi\ntfj\ntfk\ntfl\ntfm\ntfn\ntfo\ntfp\ntfq\ntfr\ntfs\ntft\ntfu\ntfv\ntfw\ntfx\ntfy\ntfz\ntga\ntgb\ntgc\ntgd\ntge\ntgf\ntgg\ntgh\ntgi\ntgj\ntgk\ntgl\ntgm\ntgn\ntgo\ntgp\ntgq\ntgr\ntgs\ntgt\ntgu\ntgv\ntgw\ntgx\ntgy\ntgz\ntha\nthb\nthc\nthd\nthe\nthf\nthg\nthh\nthi\nthj\nthk\nthl\nthm\nthn\ntho\nthp\nthq\nthr\nths\ntht\nthu\nthv\nthw\nthx\nthy\nthz\ntia\ntib\ntic\ntid\ntie\ntif\ntig\ntih\ntii\ntij\ntik\ntil\ntim\ntin\ntio\ntip\ntiq\ntir\ntis\ntit\ntiu\ntiv\ntiw\ntix\ntiy\ntiz\ntja\ntjb\ntjc\ntjd\ntje\ntjf\ntjg\ntjh\ntji\ntjj\ntjk\ntjl\ntjm\ntjn\ntjo\ntjp\ntjq\ntjr\ntjs\ntjt\ntju\ntjv\ntjw\ntjx\ntjy\ntjz\ntka\ntkb\ntkc\ntkd\ntke\ntkf\ntkg\ntkh\ntki\ntkj\ntkk\ntkl\ntkm\ntkn\ntko\ntkp\ntkq\ntkr\ntks\ntkt\ntku\ntkv\ntkw\ntkx\ntky\ntkz\ntla\ntlb\ntlc\ntld\ntle\ntlf\ntlg\ntlh\ntli\ntlj\ntlk\ntll\ntlm\ntln\ntlo\ntlp\ntlq\ntlr\ntls\ntlt\ntlu\ntlv\ntlw\ntlx\ntly\ntlz\ntma\ntmb\ntmc\ntmd\ntme\ntmf\ntmg\ntmh\ntmi\ntmj\ntmk\ntml\ntmm\ntmn\ntmo\ntmp\ntmq\ntmr\ntms\ntmt\ntmu\ntmv\ntmw\ntmx\ntmy\ntmz\ntna\ntnb\ntnc\ntnd\ntne\ntnf\ntng\ntnh\ntni\ntnj\ntnk\ntnl\ntnm\ntnn\ntno\ntnp\ntnq\ntnr\ntns\ntnt\ntnu\ntnv\ntnw\ntnx\ntny\ntnz\ntoa\ntob\ntoc\ntod\ntoe\ntof\ntog\ntoh\ntoi\ntoj\ntok\ntol\ntom\nton\ntoo\ntop\ntoq\ntor\ntos\ntot\ntou\ntov\ntow\ntox\ntoy\ntoz\ntpa\ntpb\ntpc\ntpd\ntpe\ntpf\ntpg\ntph\ntpi\ntpj\ntpk\ntpl\ntpm\ntpn\ntpo\ntpp\ntpq\ntpr\ntps\ntpt\ntpu\ntpv\ntpw\ntpx\ntpy\ntpz\ntqa\ntqb\ntqc\ntqd\ntqe\ntqf\ntqg\ntqh\ntqi\ntqj\ntqk\ntql\ntqm\ntqn\ntqo\ntqp\ntqq\ntqr\ntqs\ntqt\ntqu\ntqv\ntqw\ntqx\ntqy\ntqz\ntra\ntrb\ntrc\ntrd\ntre\ntrf\ntrg\ntrh\ntri\ntrj\ntrk\ntrl\ntrm\ntrn\ntro\ntrp\ntrq\ntrr\ntrs\ntrt\ntru\ntrv\ntrw\ntrx\ntry\ntrz\ntsa\ntsb\ntsc\ntsd\ntse\ntsf\ntsg\ntsh\ntsi\ntsj\ntsk\ntsl\ntsm\ntsn\ntso\ntsp\ntsq\ntsr\ntss\ntst\ntsu\ntsv\ntsw\ntsx\ntsy\ntsz\ntta\nttb\nttc\nttd\ntte\nttf\nttg\ntth\ntti\nttj\nttk\nttl\nttm\nttn\ntto\nttp\nttq\nttr\ntts\nttt\nttu\nttv\nttw\nttx\ntty\nttz\ntua\ntub\ntuc\ntud\ntue\ntuf\ntug\ntuh\ntui\ntuj\ntuk\ntul\ntum\ntun\ntuo\ntup\ntuq\ntur\ntus\ntut\ntuu\ntuv\ntuw\ntux\ntuy\ntuz\ntva\ntvb\ntvc\ntvd\ntve\ntvf\ntvg\ntvh\ntvi\ntvj\ntvk\ntvl\ntvm\ntvn\ntvo\ntvp\ntvq\ntvr\ntvs\ntvt\ntvu\ntvv\ntvw\ntvx\ntvy\ntvz\ntwa\ntwb\ntwc\ntwd\ntwe\ntwf\ntwg\ntwh\ntwi\ntwj\ntwk\ntwl\ntwm\ntwn\ntwo\ntwp\ntwq\ntwr\ntws\ntwt\ntwu\ntwv\ntww\ntwx\ntwy\ntwz\ntxa\ntxb\ntxc\ntxd\ntxe\ntxf\ntxg\ntxh\ntxi\ntxj\ntxk\ntxl\ntxm\ntxn\ntxo\ntxp\ntxq\ntxr\ntxs\ntxt\ntxu\ntxv\ntxw\ntxx\ntxy\ntxz\ntya\ntyb\ntyc\ntyd\ntye\ntyf\ntyg\ntyh\ntyi\ntyj\ntyk\ntyl\ntym\ntyn\ntyo\ntyp\ntyq\ntyr\ntys\ntyt\ntyu\ntyv\ntyw\ntyx\ntyy\ntyz\ntza\ntzb\ntzc\ntzd\ntze\ntzf\ntzg\ntzh\ntzi\ntzj\ntzk\ntzl\ntzm\ntzn\ntzo\ntzp\ntzq\ntzr\ntzs\ntzt\ntzu\ntzv\ntzw\ntzx\ntzy\ntzz\nuaa\nuab\nuac\nuad\nuae\nuaf\nuag\nuah\nuai\nuaj\nuak\nual\nuam\nuan\nuao\nuap\nuaq\nuar\nuas\nuat\nuau\nuav\nuaw\nuax\nuay\nuaz\nuba\nubb\nubc\nubd\nube\nubf\nubg\nubh\nubi\nubj\nubk\nubl\nubm\nubn\nubo\nubp\nubq\nubr\nubs\nubt\nubu\nubv\nubw\nubx\nuby\nubz\nuca\nucb\nucc\nucd\nuce\nucf\nucg\nuch\nuci\nucj\nuck\nucl\nucm\nucn\nuco\nucp\nucq\nucr\nucs\nuct\nucu\nucv\nucw\nucx\nucy\nucz\nuda\nudb\nudc\nudd\nude\nudf\nudg\nudh\nudi\nudj\nudk\nudl\nudm\nudn\nudo\nudp\nudq\nudr\nuds\nudt\nudu\nudv\nudw\nudx\nudy\nudz\nuea\nueb\nuec\nued\nuee\nuef\nueg\nueh\nuei\nuej\nuek\nuel\nuem\nuen\nueo\nuep\nueq\nuer\nues\nuet\nueu\nuev\nuew\nuex\nuey\nuez\nufa\nufb\nufc\nufd\nufe\nuff\nufg\nufh\nufi\nufj\nufk\nufl\nufm\nufn\nufo\nufp\nufq\nufr\nufs\nuft\nufu\nufv\nufw\nufx\nufy\nufz\nuga\nugb\nugc\nugd\nuge\nugf\nugg\nugh\nugi\nugj\nugk\nugl\nugm\nugn\nugo\nugp\nugq\nugr\nugs\nugt\nugu\nugv\nugw\nugx\nugy\nugz\nuha\nuhb\nuhc\nuhd\nuhe\nuhf\nuhg\nuhh\nuhi\nuhj\nuhk\nuhl\nuhm\nuhn\nuho\nuhp\nuhq\nuhr\nuhs\nuht\nuhu\nuhv\nuhw\nuhx\nuhy\nuhz\nuia\nuib\nuic\nuid\nuie\nuif\nuig\nuih\nuii\nuij\nuik\nuil\nuim\nuin\nuio\nuip\nuiq\nuir\nuis\nuit\nuiu\nuiv\nuiw\nuix\nuiy\nuiz\nuja\nujb\nujc\nujd\nuje\nujf\nujg\nujh\nuji\nujj\nujk\nujl\nujm\nujn\nujo\nujp\nujq\nujr\nujs\nujt\nuju\nujv\nujw\nujx\nujy\nujz\nuka\nukb\nukc\nukd\nuke\nukf\nukg\nukh\nuki\nukj\nukk\nukl\nukm\nukn\nuko\nukp\nukq\nukr\nuks\nukt\nuku\nukv\nukw\nukx\nuky\nukz\nula\nulb\nulc\nuld\nule\nulf\nulg\nulh\nuli\nulj\nulk\null\nulm\nuln\nulo\nulp\nulq\nulr\nuls\nult\nulu\nulv\nulw\nulx\nuly\nulz\numa\numb\numc\numd\nume\numf\numg\numh\numi\numj\numk\numl\numm\numn\numo\nump\numq\numr\nums\numt\numu\numv\numw\numx\numy\numz\nuna\nunb\nunc\nund\nune\nunf\nung\nunh\nuni\nunj\nunk\nunl\nunm\nunn\nuno\nunp\nunq\nunr\nuns\nunt\nunu\nunv\nunw\nunx\nuny\nunz\nuoa\nuob\nuoc\nuod\nuoe\nuof\nuog\nuoh\nuoi\nuoj\nuok\nuol\nuom\nuon\nuoo\nuop\nuoq\nuor\nuos\nuot\nuou\nuov\nuow\nuox\nuoy\nuoz\nupa\nupb\nupc\nupd\nupe\nupf\nupg\nuph\nupi\nupj\nupk\nupl\nupm\nupn\nupo\nupp\nupq\nupr\nups\nupt\nupu\nupv\nupw\nupx\nupy\nupz\nuqa\nuqb\nuqc\nuqd\nuqe\nuqf\nuqg\nuqh\nuqi\nuqj\nuqk\nuql\nuqm\nuqn\nuqo\nuqp\nuqq\nuqr\nuqs\nuqt\nuqu\nuqv\nuqw\nuqx\nuqy\nuqz\nura\nurb\nurc\nurd\nure\nurf\nurg\nurh\nuri\nurj\nurk\nurl\nurm\nurn\nuro\nurp\nurq\nurr\nurs\nurt\nuru\nurv\nurw\nurx\nury\nurz\nusa\nusb\nusc\nusd\nuse\nusf\nusg\nush\nusi\nusj\nusk\nusl\nusm\nusn\nuso\nusp\nusq\nusr\nuss\nust\nusu\nusv\nusw\nusx\nusy\nusz\nuta\nutb\nutc\nutd\nute\nutf\nutg\nuth\nuti\nutj\nutk\nutl\nutm\nutn\nuto\nutp\nutq\nutr\nuts\nutt\nutu\nutv\nutw\nutx\nuty\nutz\nuua\nuub\nuuc\nuud\nuue\nuuf\nuug\nuuh\nuui\nuuj\nuuk\nuul\nuum\nuun\nuuo\nuup\nuuq\nuur\nuus\nuut\nuuu\nuuv\nuuw\nuux\nuuy\nuuz\nuva\nuvb\nuvc\nuvd\nuve\nuvf\nuvg\nuvh\nuvi\nuvj\nuvk\nuvl\nuvm\nuvn\nuvo\nuvp\nuvq\nuvr\nuvs\nuvt\nuvu\nuvv\nuvw\nuvx\nuvy\nuvz\nuwa\nuwb\nuwc\nuwd\nuwe\nuwf\nuwg\nuwh\nuwi\nuwj\nuwk\nuwl\nuwm\nuwn\nuwo\nuwp\nuwq\nuwr\nuws\nuwt\nuwu\nuwv\nuww\nuwx\nuwy\nuwz\nuxa\nuxb\nuxc\nuxd\nuxe\nuxf\nuxg\nuxh\nuxi\nuxj\nuxk\nuxl\nuxm\nuxn\nuxo\nuxp\nuxq\nuxr\nuxs\nuxt\nuxu\nuxv\nuxw\nuxx\nuxy\nuxz\nuya\nuyb\nuyc\nuyd\nuye\nuyf\nuyg\nuyh\nuyi\nuyj\nuyk\nuyl\nuym\nuyn\nuyo\nuyp\nuyq\nuyr\nuys\nuyt\nuyu\nuyv\nuyw\nuyx\nuyy\nuyz\nuza\nuzb\nuzc\nuzd\nuze\nuzf\nuzg\nuzh\nuzi\nuzj\nuzk\nuzl\nuzm\nuzn\nuzo\nuzp\nuzq\nuzr\nuzs\nuzt\nuzu\nuzv\nuzw\nuzx\nuzy\nuzz\nvaa\nvab\nvac\nvad\nvae\nvaf\nvag\nvah\nvai\nvaj\nvak\nval\nvam\nvan\nvao\nvap\nvaq\nvar\nvas\nvat\nvau\nvav\nvaw\nvax\nvay\nvaz\nvba\nvbb\nvbc\nvbd\nvbe\nvbf\nvbg\nvbh\nvbi\nvbj\nvbk\nvbl\nvbm\nvbn\nvbo\nvbp\nvbq\nvbr\nvbs\nvbt\nvbu\nvbv\nvbw\nvbx\nvby\nvbz\nvca\nvcb\nvcc\nvcd\nvce\nvcf\nvcg\nvch\nvci\nvcj\nvck\nvcl\nvcm\nvcn\nvco\nvcp\nvcq\nvcr\nvcs\nvct\nvcu\nvcv\nvcw\nvcx\nvcy\nvcz\nvda\nvdb\nvdc\nvdd\nvde\nvdf\nvdg\nvdh\nvdi\nvdj\nvdk\nvdl\nvdm\nvdn\nvdo\nvdp\nvdq\nvdr\nvds\nvdt\nvdu\nvdv\nvdw\nvdx\nvdy\nvdz\nvea\nveb\nvec\nved\nvee\nvef\nveg\nveh\nvei\nvej\nvek\nvel\nvem\nven\nveo\nvep\nveq\nver\nves\nvet\nveu\nvev\nvew\nvex\nvey\nvez\nvfa\nvfb\nvfc\nvfd\nvfe\nvff\nvfg\nvfh\nvfi\nvfj\nvfk\nvfl\nvfm\nvfn\nvfo\nvfp\nvfq\nvfr\nvfs\nvft\nvfu\nvfv\nvfw\nvfx\nvfy\nvfz\nvga\nvgb\nvgc\nvgd\nvge\nvgf\nvgg\nvgh\nvgi\nvgj\nvgk\nvgl\nvgm\nvgn\nvgo\nvgp\nvgq\nvgr\nvgs\nvgt\nvgu\nvgv\nvgw\nvgx\nvgy\nvgz\nvha\nvhb\nvhc\nvhd\nvhe\nvhf\nvhg\nvhh\nvhi\nvhj\nvhk\nvhl\nvhm\nvhn\nvho\nvhp\nvhq\nvhr\nvhs\nvht\nvhu\nvhv\nvhw\nvhx\nvhy\nvhz\nvia\nvib\nvic\nvid\nvie\nvif\nvig\nvih\nvii\nvij\nvik\nvil\nvim\nvin\nvio\nvip\nviq\nvir\nvis\nvit\nviu\nviv\nviw\nvix\nviy\nviz\nvja\nvjb\nvjc\nvjd\nvje\nvjf\nvjg\nvjh\nvji\nvjj\nvjk\nvjl\nvjm\nvjn\nvjo\nvjp\nvjq\nvjr\nvjs\nvjt\nvju\nvjv\nvjw\nvjx\nvjy\nvjz\nvka\nvkb\nvkc\nvkd\nvke\nvkf\nvkg\nvkh\nvki\nvkj\nvkk\nvkl\nvkm\nvkn\nvko\nvkp\nvkq\nvkr\nvks\nvkt\nvku\nvkv\nvkw\nvkx\nvky\nvkz\nvla\nvlb\nvlc\nvld\nvle\nvlf\nvlg\nvlh\nvli\nvlj\nvlk\nvll\nvlm\nvln\nvlo\nvlp\nvlq\nvlr\nvls\nvlt\nvlu\nvlv\nvlw\nvlx\nvly\nvlz\nvma\nvmb\nvmc\nvmd\nvme\nvmf\nvmg\nvmh\nvmi\nvmj\nvmk\nvml\nvmm\nvmn\nvmo\nvmp\nvmq\nvmr\nvms\nvmt\nvmu\nvmv\nvmw\nvmx\nvmy\nvmz\nvna\nvnb\nvnc\nvnd\nvne\nvnf\nvng\nvnh\nvni\nvnj\nvnk\nvnl\nvnm\nvnn\nvno\nvnp\nvnq\nvnr\nvns\nvnt\nvnu\nvnv\nvnw\nvnx\nvny\nvnz\nvoa\nvob\nvoc\nvod\nvoe\nvof\nvog\nvoh\nvoi\nvoj\nvok\nvol\nvom\nvon\nvoo\nvop\nvoq\nvor\nvos\nvot\nvou\nvov\nvow\nvox\nvoy\nvoz\nvpa\nvpb\nvpc\nvpd\nvpe\nvpf\nvpg\nvph\nvpi\nvpj\nvpk\nvpl\nvpm\nvpn\nvpo\nvpp\nvpq\nvpr\nvps\nvpt\nvpu\nvpv\nvpw\nvpx\nvpy\nvpz\nvqa\nvqb\nvqc\nvqd\nvqe\nvqf\nvqg\nvqh\nvqi\nvqj\nvqk\nvql\nvqm\nvqn\nvqo\nvqp\nvqq\nvqr\nvqs\nvqt\nvqu\nvqv\nvqw\nvqx\nvqy\nvqz\nvra\nvrb\nvrc\nvrd\nvre\nvrf\nvrg\nvrh\nvri\nvrj\nvrk\nvrl\nvrm\nvrn\nvro\nvrp\nvrq\nvrr\nvrs\nvrt\nvru\nvrv\nvrw\nvrx\nvry\nvrz\nvsa\nvsb\nvsc\nvsd\nvse\nvsf\nvsg\nvsh\nvsi\nvsj\nvsk\nvsl\nvsm\nvsn\nvso\nvsp\nvsq\nvsr\nvss\nvst\nvsu\nvsv\nvsw\nvsx\nvsy\nvsz\nvta\nvtb\nvtc\nvtd\nvte\nvtf\nvtg\nvth\nvti\nvtj\nvtk\nvtl\nvtm\nvtn\nvto\nvtp\nvtq\nvtr\nvts\nvtt\nvtu\nvtv\nvtw\nvtx\nvty\nvtz\nvua\nvub\nvuc\nvud\nvue\nvuf\nvug\nvuh\nvui\nvuj\nvuk\nvul\nvum\nvun\nvuo\nvup\nvuq\nvur\nvus\nvut\nvuu\nvuv\nvuw\nvux\nvuy\nvuz\nvva\nvvb\nvvc\nvvd\nvve\nvvf\nvvg\nvvh\nvvi\nvvj\nvvk\nvvl\nvvm\nvvn\nvvo\nvvp\nvvq\nvvr\nvvs\nvvt\nvvu\nvvv\nvvw\nvvx\nvvy\nvvz\nvwa\nvwb\nvwc\nvwd\nvwe\nvwf\nvwg\nvwh\nvwi\nvwj\nvwk\nvwl\nvwm\nvwn\nvwo\nvwp\nvwq\nvwr\nvws\nvwt\nvwu\nvwv\nvww\nvwx\nvwy\nvwz\nvxa\nvxb\nvxc\nvxd\nvxe\nvxf\nvxg\nvxh\nvxi\nvxj\nvxk\nvxl\nvxm\nvxn\nvxo\nvxp\nvxq\nvxr\nvxs\nvxt\nvxu\nvxv\nvxw\nvxx\nvxy\nvxz\nvya\nvyb\nvyc\nvyd\nvye\nvyf\nvyg\nvyh\nvyi\nvyj\nvyk\nvyl\nvym\nvyn\nvyo\nvyp\nvyq\nvyr\nvys\nvyt\nvyu\nvyv\nvyw\nvyx\nvyy\nvyz\nvza\nvzb\nvzc\nvzd\nvze\nvzf\nvzg\nvzh\nvzi\nvzj\nvzk\nvzl\nvzm\nvzn\nvzo\nvzp\nvzq\nvzr\nvzs\nvzt\nvzu\nvzv\nvzw\nvzx\nvzy\nvzz\nwaa\nwab\nwac\nwad\nwae\nwaf\nwag\nwah\nwai\nwaj\nwak\nwal\nwam\nwan\nwao\nwap\nwaq\nwar\nwas\nwat\nwau\nwav\nwaw\nwax\nway\nwaz\nwba\nwbb\nwbc\nwbd\nwbe\nwbf\nwbg\nwbh\nwbi\nwbj\nwbk\nwbl\nwbm\nwbn\nwbo\nwbp\nwbq\nwbr\nwbs\nwbt\nwbu\nwbv\nwbw\nwbx\nwby\nwbz\nwca\nwcb\nwcc\nwcd\nwce\nwcf\nwcg\nwch\nwci\nwcj\nwck\nwcl\nwcm\nwcn\nwco\nwcp\nwcq\nwcr\nwcs\nwct\nwcu\nwcv\nwcw\nwcx\nwcy\nwcz\nwda\nwdb\nwdc\nwdd\nwde\nwdf\nwdg\nwdh\nwdi\nwdj\nwdk\nwdl\nwdm\nwdn\nwdo\nwdp\nwdq\nwdr\nwds\nwdt\nwdu\nwdv\nwdw\nwdx\nwdy\nwdz\nwea\nweb\nwec\nwed\nwee\nwef\nweg\nweh\nwei\nwej\nwek\nwel\nwem\nwen\nweo\nwep\nweq\nwer\nwes\nwet\nweu\nwev\nwew\nwex\nwey\nwez\nwfa\nwfb\nwfc\nwfd\nwfe\nwff\nwfg\nwfh\nwfi\nwfj\nwfk\nwfl\nwfm\nwfn\nwfo\nwfp\nwfq\nwfr\nwfs\nwft\nwfu\nwfv\nwfw\nwfx\nwfy\nwfz\nwga\nwgb\nwgc\nwgd\nwge\nwgf\nwgg\nwgh\nwgi\nwgj\nwgk\nwgl\nwgm\nwgn\nwgo\nwgp\nwgq\nwgr\nwgs\nwgt\nwgu\nwgv\nwgw\nwgx\nwgy\nwgz\nwha\nwhb\nwhc\nwhd\nwhe\nwhf\nwhg\nwhh\nwhi\nwhj\nwhk\nwhl\nwhm\nwhn\nwho\nwhp\nwhq\nwhr\nwhs\nwht\nwhu\nwhv\nwhw\nwhx\nwhy\nwhz\nwia\nwib\nwic\nwid\nwie\nwif\nwig\nwih\nwii\nwij\nwik\nwil\nwim\nwin\nwio\nwip\nwiq\nwir\nwis\nwit\nwiu\nwiv\nwiw\nwix\nwiy\nwiz\nwja\nwjb\nwjc\nwjd\nwje\nwjf\nwjg\nwjh\nwji\nwjj\nwjk\nwjl\nwjm\nwjn\nwjo\nwjp\nwjq\nwjr\nwjs\nwjt\nwju\nwjv\nwjw\nwjx\nwjy\nwjz\nwka\nwkb\nwkc\nwkd\nwke\nwkf\nwkg\nwkh\nwki\nwkj\nwkk\nwkl\nwkm\nwkn\nwko\nwkp\nwkq\nwkr\nwks\nwkt\nwku\nwkv\nwkw\nwkx\nwky\nwkz\nwla\nwlb\nwlc\nwld\nwle\nwlf\nwlg\nwlh\nwli\nwlj\nwlk\nwll\nwlm\nwln\nwlo\nwlp\nwlq\nwlr\nwls\nwlt\nwlu\nwlv\nwlw\nwlx\nwly\nwlz\nwma\nwmb\nwmc\nwmd\nwme\nwmf\nwmg\nwmh\nwmi\nwmj\nwmk\nwml\nwmm\nwmn\nwmo\nwmp\nwmq\nwmr\nwms\nwmt\nwmu\nwmv\nwmw\nwmx\nwmy\nwmz\nwna\nwnb\nwnc\nwnd\nwne\nwnf\nwng\nwnh\nwni\nwnj\nwnk\nwnl\nwnm\nwnn\nwno\nwnp\nwnq\nwnr\nwns\nwnt\nwnu\nwnv\nwnw\nwnx\nwny\nwnz\nwoa\nwob\nwoc\nwod\nwoe\nwof\nwog\nwoh\nwoi\nwoj\nwok\nwol\nwom\nwon\nwoo\nwop\nwoq\nwor\nwos\nwot\nwou\nwov\nwow\nwox\nwoy\nwoz\nwpa\nwpb\nwpc\nwpd\nwpe\nwpf\nwpg\nwph\nwpi\nwpj\nwpk\nwpl\nwpm\nwpn\nwpo\nwpp\nwpq\nwpr\nwps\nwpt\nwpu\nwpv\nwpw\nwpx\nwpy\nwpz\nwqa\nwqb\nwqc\nwqd\nwqe\nwqf\nwqg\nwqh\nwqi\nwqj\nwqk\nwql\nwqm\nwqn\nwqo\nwqp\nwqq\nwqr\nwqs\nwqt\nwqu\nwqv\nwqw\nwqx\nwqy\nwqz\nwra\nwrb\nwrc\nwrd\nwre\nwrf\nwrg\nwrh\nwri\nwrj\nwrk\nwrl\nwrm\nwrn\nwro\nwrp\nwrq\nwrr\nwrs\nwrt\nwru\nwrv\nwrw\nwrx\nwry\nwrz\nwsa\nwsb\nwsc\nwsd\nwse\nwsf\nwsg\nwsh\nwsi\nwsj\nwsk\nwsl\nwsm\nwsn\nwso\nwsp\nwsq\nwsr\nwss\nwst\nwsu\nwsv\nwsw\nwsx\nwsy\nwsz\nwta\nwtb\nwtc\nwtd\nwte\nwtf\nwtg\nwth\nwti\nwtj\nwtk\nwtl\nwtm\nwtn\nwto\nwtp\nwtq\nwtr\nwts\nwtt\nwtu\nwtv\nwtw\nwtx\nwty\nwtz\nwua\nwub\nwuc\nwud\nwue\nwuf\nwug\nwuh\nwui\nwuj\nwuk\nwul\nwum\nwun\nwuo\nwup\nwuq\nwur\nwus\nwut\nwuu\nwuv\nwuw\nwux\nwuy\nwuz\nwva\nwvb\nwvc\nwvd\nwve\nwvf\nwvg\nwvh\nwvi\nwvj\nwvk\nwvl\nwvm\nwvn\nwvo\nwvp\nwvq\nwvr\nwvs\nwvt\nwvu\nwvv\nwvw\nwvx\nwvy\nwvz\nwwa\nwwb\nwwc\nwwd\nwwe\nwwf\nwwg\nwwh\nwwi\nwwj\nwwk\nwwl\nwwm\nwwn\nwwo\nwwp\nwwq\nwwr\nwws\nwwt\nwwu\nwwv\nwww\nwwx\nwwy\nwwz\nwxa\nwxb\nwxc\nwxd\nwxe\nwxf\nwxg\nwxh\nwxi\nwxj\nwxk\nwxl\nwxm\nwxn\nwxo\nwxp\nwxq\nwxr\nwxs\nwxt\nwxu\nwxv\nwxw\nwxx\nwxy\nwxz\nwya\nwyb\nwyc\nwyd\nwye\nwyf\nwyg\nwyh\nwyi\nwyj\nwyk\nwyl\nwym\nwyn\nwyo\nwyp\nwyq\nwyr\nwys\nwyt\nwyu\nwyv\nwyw\nwyx\nwyy\nwyz\nwza\nwzb\nwzc\nwzd\nwze\nwzf\nwzg\nwzh\nwzi\nwzj\nwzk\nwzl\nwzm\nwzn\nwzo\nwzp\nwzq\nwzr\nwzs\nwzt\nwzu\nwzv\nwzw\nwzx\nwzy\nwzz\nxaa\nxab\nxac\nxad\nxae\nxaf\nxag\nxah\nxai\nxaj\nxak\nxal\nxam\nxan\nxao\nxap\nxaq\nxar\nxas\nxat\nxau\nxav\nxaw\nxax\nxay\nxaz\nxba\nxbb\nxbc\nxbd\nxbe\nxbf\nxbg\nxbh\nxbi\nxbj\nxbk\nxbl\nxbm\nxbn\nxbo\nxbp\nxbq\nxbr\nxbs\nxbt\nxbu\nxbv\nxbw\nxbx\nxby\nxbz\nxca\nxcb\nxcc\nxcd\nxce\nxcf\nxcg\nxch\nxci\nxcj\nxck\nxcl\nxcm\nxcn\nxco\nxcp\nxcq\nxcr\nxcs\nxct\nxcu\nxcv\nxcw\nxcx\nxcy\nxcz\nxda\nxdb\nxdc\nxdd\nxde\nxdf\nxdg\nxdh\nxdi\nxdj\nxdk\nxdl\nxdm\nxdn\nxdo\nxdp\nxdq\nxdr\nxds\nxdt\nxdu\nxdv\nxdw\nxdx\nxdy\nxdz\nxea\nxeb\nxec\nxed\nxee\nxef\nxeg\nxeh\nxei\nxej\nxek\nxel\nxem\nxen\nxeo\nxep\nxeq\nxer\nxes\nxet\nxeu\nxev\nxew\nxex\nxey\nxez\nxfa\nxfb\nxfc\nxfd\nxfe\nxff\nxfg\nxfh\nxfi\nxfj\nxfk\nxfl\nxfm\nxfn\nxfo\nxfp\nxfq\nxfr\nxfs\nxft\nxfu\nxfv\nxfw\nxfx\nxfy\nxfz\nxga\nxgb\nxgc\nxgd\nxge\nxgf\nxgg\nxgh\nxgi\nxgj\nxgk\nxgl\nxgm\nxgn\nxgo\nxgp\nxgq\nxgr\nxgs\nxgt\nxgu\nxgv\nxgw\nxgx\nxgy\nxgz\nxha\nxhb\nxhc\nxhd\nxhe\nxhf\nxhg\nxhh\nxhi\nxhj\nxhk\nxhl\nxhm\nxhn\nxho\nxhp\nxhq\nxhr\nxhs\nxht\nxhu\nxhv\nxhw\nxhx\nxhy\nxhz\nxia\nxib\nxic\nxid\nxie\nxif\nxig\nxih\nxii\nxij\nxik\nxil\nxim\nxin\nxio\nxip\nxiq\nxir\nxis\nxit\nxiu\nxiv\nxiw\nxix\nxiy\nxiz\nxja\nxjb\nxjc\nxjd\nxje\nxjf\nxjg\nxjh\nxji\nxjj\nxjk\nxjl\nxjm\nxjn\nxjo\nxjp\nxjq\nxjr\nxjs\nxjt\nxju\nxjv\nxjw\nxjx\nxjy\nxjz\nxka\nxkb\nxkc\nxkd\nxke\nxkf\nxkg\nxkh\nxki\nxkj\nxkk\nxkl\nxkm\nxkn\nxko\nxkp\nxkq\nxkr\nxks\nxkt\nxku\nxkv\nxkw\nxkx\nxky\nxkz\nxla\nxlb\nxlc\nxld\nxle\nxlf\nxlg\nxlh\nxli\nxlj\nxlk\nxll\nxlm\nxln\nxlo\nxlp\nxlq\nxlr\nxls\nxlt\nxlu\nxlv\nxlw\nxlx\nxly\nxlz\nxma\nxmb\nxmc\nxmd\nxme\nxmf\nxmg\nxmh\nxmi\nxmj\nxmk\nxml\nxmm\nxmn\nxmo\nxmp\nxmq\nxmr\nxms\nxmt\nxmu\nxmv\nxmw\nxmx\nxmy\nxmz\nxna\nxnb\nxnc\nxnd\nxne\nxnf\nxng\nxnh\nxni\nxnj\nxnk\nxnl\nxnm\nxnn\nxno\nxnp\nxnq\nxnr\nxns\nxnt\nxnu\nxnv\nxnw\nxnx\nxny\nxnz\nxoa\nxob\nxoc\nxod\nxoe\nxof\nxog\nxoh\nxoi\nxoj\nxok\nxol\nxom\nxon\nxoo\nxop\nxoq\nxor\nxos\nxot\nxou\nxov\nxow\nxox\nxoy\nxoz\nxpa\nxpb\nxpc\nxpd\nxpe\nxpf\nxpg\nxph\nxpi\nxpj\nxpk\nxpl\nxpm\nxpn\nxpo\nxpp\nxpq\nxpr\nxps\nxpt\nxpu\nxpv\nxpw\nxpx\nxpy\nxpz\nxqa\nxqb\nxqc\nxqd\nxqe\nxqf\nxqg\nxqh\nxqi\nxqj\nxqk\nxql\nxqm\nxqn\nxqo\nxqp\nxqq\nxqr\nxqs\nxqt\nxqu\nxqv\nxqw\nxqx\nxqy\nxqz\nxra\nxrb\nxrc\nxrd\nxre\nxrf\nxrg\nxrh\nxri\nxrj\nxrk\nxrl\nxrm\nxrn\nxro\nxrp\nxrq\nxrr\nxrs\nxrt\nxru\nxrv\nxrw\nxrx\nxry\nxrz\nxsa\nxsb\nxsc\nxsd\nxse\nxsf\nxsg\nxsh\nxsi\nxsj\nxsk\nxsl\nxsm\nxsn\nxso\nxsp\nxsq\nxsr\nxss\nxst\nxsu\nxsv\nxsw\nxsx\nxsy\nxsz\nxta\nxtb\nxtc\nxtd\nxte\nxtf\nxtg\nxth\nxti\nxtj\nxtk\nxtl\nxtm\nxtn\nxto\nxtp\nxtq\nxtr\nxts\nxtt\nxtu\nxtv\nxtw\nxtx\nxty\nxtz\nxua\nxub\nxuc\nxud\nxue\nxuf\nxug\nxuh\nxui\nxuj\nxuk\nxul\nxum\nxun\nxuo\nxup\nxuq\nxur\nxus\nxut\nxuu\nxuv\nxuw\nxux\nxuy\nxuz\nxva\nxvb\nxvc\nxvd\nxve\nxvf\nxvg\nxvh\nxvi\nxvj\nxvk\nxvl\nxvm\nxvn\nxvo\nxvp\nxvq\nxvr\nxvs\nxvt\nxvu\nxvv\nxvw\nxvx\nxvy\nxvz\nxwa\nxwb\nxwc\nxwd\nxwe\nxwf\nxwg\nxwh\nxwi\nxwj\nxwk\nxwl\nxwm\nxwn\nxwo\nxwp\nxwq\nxwr\nxws\nxwt\nxwu\nxwv\nxww\nxwx\nxwy\nxwz\nxxa\nxxb\nxxc\nxxd\nxxe\nxxf\nxxg\nxxh\nxxi\nxxj\nxxk\nxxl\nxxm\nxxn\nxxo\nxxp\nxxq\nxxr\nxxs\nxxt\nxxu\nxxv\nxxw\nxxx\nxxy\nxxz\nxya\nxyb\nxyc\nxyd\nxye\nxyf\nxyg\nxyh\nxyi\nxyj\nxyk\nxyl\nxym\nxyn\nxyo\nxyp\nxyq\nxyr\nxys\nxyt\nxyu\nxyv\nxyw\nxyx\nxyy\nxyz\nxza\nxzb\nxzc\nxzd\nxze\nxzf\nxzg\nxzh\nxzi\nxzj\nxzk\nxzl\nxzm\nxzn\nxzo\nxzp\nxzq\nxzr\nxzs\nxzt\nxzu\nxzv\nxzw\nxzx\nxzy\nxzz\nyaa\nyab\nyac\nyad\nyae\nyaf\nyag\nyah\nyai\nyaj\nyak\nyal\nyam\nyan\nyao\nyap\nyaq\nyar\nyas\nyat\nyau\nyav\nyaw\nyax\nyay\nyaz\nyba\nybb\nybc\nybd\nybe\nybf\nybg\nybh\nybi\nybj\nybk\nybl\nybm\nybn\nybo\nybp\nybq\nybr\nybs\nybt\nybu\nybv\nybw\nybx\nyby\nybz\nyca\nycb\nycc\nycd\nyce\nycf\nycg\nych\nyci\nycj\nyck\nycl\nycm\nycn\nyco\nycp\nycq\nycr\nycs\nyct\nycu\nycv\nycw\nycx\nycy\nycz\nyda\nydb\nydc\nydd\nyde\nydf\nydg\nydh\nydi\nydj\nydk\nydl\nydm\nydn\nydo\nydp\nydq\nydr\nyds\nydt\nydu\nydv\nydw\nydx\nydy\nydz\nyea\nyeb\nyec\nyed\nyee\nyef\nyeg\nyeh\nyei\nyej\nyek\nyel\nyem\nyen\nyeo\nyep\nyeq\nyer\nyes\nyet\nyeu\nyev\nyew\nyex\nyey\nyez\nyfa\nyfb\nyfc\nyfd\nyfe\nyff\nyfg\nyfh\nyfi\nyfj\nyfk\nyfl\nyfm\nyfn\nyfo\nyfp\nyfq\nyfr\nyfs\nyft\nyfu\nyfv\nyfw\nyfx\nyfy\nyfz\nyga\nygb\nygc\nygd\nyge\nygf\nygg\nygh\nygi\nygj\nygk\nygl\nygm\nygn\nygo\nygp\nygq\nygr\nygs\nygt\nygu\nygv\nygw\nygx\nygy\nygz\nyha\nyhb\nyhc\nyhd\nyhe\nyhf\nyhg\nyhh\nyhi\nyhj\nyhk\nyhl\nyhm\nyhn\nyho\nyhp\nyhq\nyhr\nyhs\nyht\nyhu\nyhv\nyhw\nyhx\nyhy\nyhz\nyia\nyib\nyic\nyid\nyie\nyif\nyig\nyih\nyii\nyij\nyik\nyil\nyim\nyin\nyio\nyip\nyiq\nyir\nyis\nyit\nyiu\nyiv\nyiw\nyix\nyiy\nyiz\nyja\nyjb\nyjc\nyjd\nyje\nyjf\nyjg\nyjh\nyji\nyjj\nyjk\nyjl\nyjm\nyjn\nyjo\nyjp\nyjq\nyjr\nyjs\nyjt\nyju\nyjv\nyjw\nyjx\nyjy\nyjz\nyka\nykb\nykc\nykd\nyke\nykf\nykg\nykh\nyki\nykj\nykk\nykl\nykm\nykn\nyko\nykp\nykq\nykr\nyks\nykt\nyku\nykv\nykw\nykx\nyky\nykz\nyla\nylb\nylc\nyld\nyle\nylf\nylg\nylh\nyli\nylj\nylk\nyll\nylm\nyln\nylo\nylp\nylq\nylr\nyls\nylt\nylu\nylv\nylw\nylx\nyly\nylz\nyma\nymb\nymc\nymd\nyme\nymf\nymg\nymh\nymi\nymj\nymk\nyml\nymm\nymn\nymo\nymp\nymq\nymr\nyms\nymt\nymu\nymv\nymw\nymx\nymy\nymz\nyna\nynb\nync\nynd\nyne\nynf\nyng\nynh\nyni\nynj\nynk\nynl\nynm\nynn\nyno\nynp\nynq\nynr\nyns\nynt\nynu\nynv\nynw\nynx\nyny\nynz\nyoa\nyob\nyoc\nyod\nyoe\nyof\nyog\nyoh\nyoi\nyoj\nyok\nyol\nyom\nyon\nyoo\nyop\nyoq\nyor\nyos\nyot\nyou\nyov\nyow\nyox\nyoy\nyoz\nypa\nypb\nypc\nypd\nype\nypf\nypg\nyph\nypi\nypj\nypk\nypl\nypm\nypn\nypo\nypp\nypq\nypr\nyps\nypt\nypu\nypv\nypw\nypx\nypy\nypz\nyqa\nyqb\nyqc\nyqd\nyqe\nyqf\nyqg\nyqh\nyqi\nyqj\nyqk\nyql\nyqm\nyqn\nyqo\nyqp\nyqq\nyqr\nyqs\nyqt\nyqu\nyqv\nyqw\nyqx\nyqy\nyqz\nyra\nyrb\nyrc\nyrd\nyre\nyrf\nyrg\nyrh\nyri\nyrj\nyrk\nyrl\nyrm\nyrn\nyro\nyrp\nyrq\nyrr\nyrs\nyrt\nyru\nyrv\nyrw\nyrx\nyry\nyrz\nysa\nysb\nysc\nysd\nyse\nysf\nysg\nysh\nysi\nysj\nysk\nysl\nysm\nysn\nyso\nysp\nysq\nysr\nyss\nyst\nysu\nysv\nysw\nysx\nysy\nysz\nyta\nytb\nytc\nytd\nyte\nytf\nytg\nyth\nyti\nytj\nytk\nytl\nytm\nytn\nyto\nytp\nytq\nytr\nyts\nytt\nytu\nytv\nytw\nytx\nyty\nytz\nyua\nyub\nyuc\nyud\nyue\nyuf\nyug\nyuh\nyui\nyuj\nyuk\nyul\nyum\nyun\nyuo\nyup\nyuq\nyur\nyus\nyut\nyuu\nyuv\nyuw\nyux\nyuy\nyuz\nyva\nyvb\nyvc\nyvd\nyve\nyvf\nyvg\nyvh\nyvi\nyvj\nyvk\nyvl\nyvm\nyvn\nyvo\nyvp\nyvq\nyvr\nyvs\nyvt\nyvu\nyvv\nyvw\nyvx\nyvy\nyvz\nywa\nywb\nywc\nywd\nywe\nywf\nywg\nywh\nywi\nywj\nywk\nywl\nywm\nywn\nywo\nywp\nywq\nywr\nyws\nywt\nywu\nywv\nyww\nywx\nywy\nywz\nyxa\nyxb\nyxc\nyxd\nyxe\nyxf\nyxg\nyxh\nyxi\nyxj\nyxk\nyxl\nyxm\nyxn\nyxo\nyxp\nyxq\nyxr\nyxs\nyxt\nyxu\nyxv\nyxw\nyxx\nyxy\nyxz\nyya\nyyb\nyyc\nyyd\nyye\nyyf\nyyg\nyyh\nyyi\nyyj\nyyk\nyyl\nyym\nyyn\nyyo\nyyp\nyyq\nyyr\nyys\nyyt\nyyu\nyyv\nyyw\nyyx\nyyy\nyyz\nyza\nyzb\nyzc\nyzd\nyze\nyzf\nyzg\nyzh\nyzi\nyzj\nyzk\nyzl\nyzm\nyzn\nyzo\nyzp\nyzq\nyzr\nyzs\nyzt\nyzu\nyzv\nyzw\nyzx\nyzy\nyzz\nzaa\nzab\nzac\nzad\nzae\nzaf\nzag\nzah\nzai\nzaj\nzak\nzal\nzam\nzan\nzao\nzap\nzaq\nzar\nzas\nzat\nzau\nzav\nzaw\nzax\nzay\nzaz\nzba\nzbb\nzbc\nzbd\nzbe\nzbf\nzbg\nzbh\nzbi\nzbj\nzbk\nzbl\nzbm\nzbn\nzbo\nzbp\nzbq\nzbr\nzbs\nzbt\nzbu\nzbv\nzbw\nzbx\nzby\nzbz\nzca\nzcb\nzcc\nzcd\nzce\nzcf\nzcg\nzch\nzci\nzcj\nzck\nzcl\nzcm\nzcn\nzco\nzcp\nzcq\nzcr\nzcs\nzct\nzcu\nzcv\nzcw\nzcx\nzcy\nzcz\nzda\nzdb\nzdc\nzdd\nzde\nzdf\nzdg\nzdh\nzdi\nzdj\nzdk\nzdl\nzdm\nzdn\nzdo\nzdp\nzdq\nzdr\nzds\nzdt\nzdu\nzdv\nzdw\nzdx\nzdy\nzdz\nzea\nzeb\nzec\nzed\nzee\nzef\nzeg\nzeh\nzei\nzej\nzek\nzel\nzem\nzen\nzeo\nzep\nzeq\nzer\nzes\nzet\nzeu\nzev\nzew\nzex\nzey\nzez\nzfa\nzfb\nzfc\nzfd\nzfe\nzff\nzfg\nzfh\nzfi\nzfj\nzfk\nzfl\nzfm\nzfn\nzfo\nzfp\nzfq\nzfr\nzfs\nzft\nzfu\nzfv\nzfw\nzfx\nzfy\nzfz\nzga\nzgb\nzgc\nzgd\nzge\nzgf\nzgg\nzgh\nzgi\nzgj\nzgk\nzgl\nzgm\nzgn\nzgo\nzgp\nzgq\nzgr\nzgs\nzgt\nzgu\nzgv\nzgw\nzgx\nzgy\nzgz\nzha\nzhb\nzhc\nzhd\nzhe\nzhf\nzhg\nzhh\nzhi\nzhj\nzhk\nzhl\nzhm\nzhn\nzho\nzhp\nzhq\nzhr\nzhs\nzht\nzhu\nzhv\nzhw\nzhx\nzhy\nzhz\nzia\nzib\nzic\nzid\nzie\nzif\nzig\nzih\nzii\nzij\nzik\nzil\nzim\nzin\nzio\nzip\nziq\nzir\nzis\nzit\nziu\nziv\nziw\nzix\nziy\nziz\nzja\nzjb\nzjc\nzjd\nzje\nzjf\nzjg\nzjh\nzji\nzjj\nzjk\nzjl\nzjm\nzjn\nzjo\nzjp\nzjq\nzjr\nzjs\nzjt\nzju\nzjv\nzjw\nzjx\nzjy\nzjz\nzka\nzkb\nzkc\nzkd\nzke\nzkf\nzkg\nzkh\nzki\nzkj\nzkk\nzkl\nzkm\nzkn\nzko\nzkp\nzkq\nzkr\nzks\nzkt\nzku\nzkv\nzkw\nzkx\nzky\nzkz\nzla\nzlb\nzlc\nzld\nzle\nzlf\nzlg\nzlh\nzli\nzlj\nzlk\nzll\nzlm\nzln\nzlo\nzlp\nzlq\nzlr\nzls\nzlt\nzlu\nzlv\nzlw\nzlx\nzly\nzlz\nzma\nzmb\nzmc\nzmd\nzme\nzmf\nzmg\nzmh\nzmi\nzmj\nzmk\nzml\nzmm\nzmn\nzmo\nzmp\nzmq\nzmr\nzms\nzmt\nzmu\nzmv\nzmw\nzmx\nzmy\nzmz\nzna\nznb\nznc\nznd\nzne\nznf\nzng\nznh\nzni\nznj\nznk\nznl\nznm\nznn\nzno\nznp\nznq\nznr\nzns\nznt\nznu\nznv\nznw\nznx\nzny\nznz\nzoa\nzob\nzoc\nzod\nzoe\nzof\nzog\nzoh\nzoi\nzoj\nzok\nzol\nzom\nzon\nzoo\nzop\nzoq\nzor\nzos\nzot\nzou\nzov\nzow\nzox\nzoy\nzoz\nzpa\nzpb\nzpc\nzpd\nzpe\nzpf\nzpg\nzph\nzpi\nzpj\nzpk\nzpl\nzpm\nzpn\nzpo\nzpp\nzpq\nzpr\nzps\nzpt\nzpu\nzpv\nzpw\nzpx\nzpy\nzpz\nzqa\nzqb\nzqc\nzqd\nzqe\nzqf\nzqg\nzqh\nzqi\nzqj\nzqk\nzql\nzqm\nzqn\nzqo\nzqp\nzqq\nzqr\nzqs\nzqt\nzqu\nzqv\nzqw\nzqx\nzqy\nzqz\nzra\nzrb\nzrc\nzrd\nzre\nzrf\nzrg\nzrh\nzri\nzrj\nzrk\nzrl\nzrm\nzrn\nzro\nzrp\nzrq\nzrr\nzrs\nzrt\nzru\nzrv\nzrw\nzrx\nzry\nzrz\nzsa\nzsb\nzsc\nzsd\nzse\nzsf\nzsg\nzsh\nzsi\nzsj\nzsk\nzsl\nzsm\nzsn\nzso\nzsp\nzsq\nzsr\nzss\nzst\nzsu\nzsv\nzsw\nzsx\nzsy\nzsz\nzta\nztb\nztc\nztd\nzte\nztf\nztg\nzth\nzti\nztj\nztk\nztl\nztm\nztn\nzto\nztp\nztq\nztr\nzts\nztt\nztu\nztv\nztw\nztx\nzty\nztz\nzua\nzub\nzuc\nzud\nzue\nzuf\nzug\nzuh\nzui\nzuj\nzuk\nzul\nzum\nzun\nzuo\nzup\nzuq\nzur\nzus\nzut\nzuu\nzuv\nzuw\nzux\nzuy\nzuz\nzva\nzvb\nzvc\nzvd\nzve\nzvf\nzvg\nzvh\nzvi\nzvj\nzvk\nzvl\nzvm\nzvn\nzvo\nzvp\nzvq\nzvr\nzvs\nzvt\nzvu\nzvv\nzvw\nzvx\nzvy\nzvz\nzwa\nzwb\nzwc\nzwd\nzwe\nzwf\nzwg\nzwh\nzwi\nzwj\nzwk\nzwl\nzwm\nzwn\nzwo\nzwp\nzwq\nzwr\nzws\nzwt\nzwu\nzwv\nzww\nzwx\nzwy\nzwz\nzxa\nzxb\nzxc\nzxd\nzxe\nzxf\nzxg\nzxh\nzxi\nzxj\nzxk\nzxl\nzxm\nzxn\nzxo\nzxp\nzxq\nzxr\nzxs\nzxt\nzxu\nzxv\nzxw\nzxx\nzxy\nzxz\nzya\nzyb\nzyc\nzyd\nzye\nzyf\nzyg\nzyh\nzyi\nzyj\nzyk\nzyl\nzym\nzyn\nzyo\nzyp\nzyq\nzyr\nzys\nzyt\nzyu\nzyv\nzyw\nzyx\nzyy\nzyz\nzza\nzzb\nzzc\nzzd\nzze\nzzf\nzzg\nzzh\nzzi\nzzj\nzzk\nzzl\nzzm\nzzn\nzzo\nzzp\nzzq\nzzr\nzzs\nzzt\nzzu\nzzv\nzzw\nzzx\nzzy\nzzz\n"
    }
   ],
   "source": [
    "import string\n",
    "import itertools\n",
    "def generate_strings(length):\n",
    "    chars = string.ascii_lowercase \n",
    "    for item in itertools.product(chars, repeat=length):\n",
    "        print( \"\".join(item))\n",
    "\n",
    "generate_strings(3)\n",
    "\n",
    "def all_substrings(Str,n):\n",
    "    peps = []\n",
    "    for Len in range(1,n + 1):\n",
    "         \n",
    "        # Pick ending point\n",
    "        for i in range(n - Len + 1):\n",
    "            cur = \"\" \n",
    "            # Print characters from current\n",
    "            # starting point to current ending\n",
    "            # point. \n",
    "            j = i + Len - 1\n",
    " \n",
    "            for k in range(i,j + 1):\n",
    "                cur+= Str[k]\n",
    "            peps.append(cur)\n",
    "    return peps \n",
    "             \n",
    "# Driver program to test above function\n",
    "Str = \"abc\"\n",
    "peps = all_substrings(Str,len(Str))\n"
   ]
  },
  {
   "source": [
    "### Clump Finding Problem:\n"
   ],
   "cell_type": "markdown",
   "metadata": {}
  },
  {
   "cell_type": "code",
   "execution_count": 24,
   "metadata": {
    "tags": []
   },
   "outputs": [
    {
     "output_type": "stream",
     "name": "stdout",
     "text": "1904\n"
    }
   ],
   "source": [
    "def clump_finding(genome,k,L,t):\n",
    "    listy = {}\n",
    "    listy = set()\n",
    "    for i in range(len(genome) - L):\n",
    "        window =  genome[i:i+L]\n",
    "        patterns = different_patterns(window,k)\n",
    "        for p in patterns:\n",
    "            if(int(patterns[p]) >= t):\n",
    "                listy.add(p)\n",
    "    print(len(listy))\n",
    "\n",
    "file = open(\"E_coli.txt\")\n",
    "gene = file.read()\n",
    "\n",
    "clump_finding(gene,9,500,3)"
   ]
  },
  {
   "source": [
    "### Pattern to Number"
   ],
   "cell_type": "markdown",
   "metadata": {}
  },
  {
   "cell_type": "code",
   "execution_count": 9,
   "metadata": {
    "tags": []
   },
   "outputs": [
    {
     "output_type": "execute_result",
     "data": {
      "text/plain": "5388351348"
     },
     "metadata": {},
     "execution_count": 9
    }
   ],
   "source": [
    "def SymbolToNumber(symbol):\n",
    "    if symbol=='A':\n",
    "        return 0\n",
    "    elif symbol=='C':\n",
    "        return 1\n",
    "    elif symbol=='G':\n",
    "        return 2\n",
    "    else:\n",
    "        return 3\n",
    "    \n",
    "def PatternToNumber(pattern):\n",
    "    if pattern=='':\n",
    "        return 0\n",
    "    symbol=pattern[-1]\n",
    "    prefix=pattern[:-1]\n",
    "    return 4*PatternToNumber(prefix)+SymbolToNumber(symbol)\n",
    "\n",
    "PatternToNumber(\"CCAACAGGTGTCTCTCA\")"
   ]
  },
  {
   "source": [
    "### Number to Pattern"
   ],
   "cell_type": "markdown",
   "metadata": {}
  },
  {
   "cell_type": "code",
   "execution_count": 56,
   "metadata": {
    "tags": []
   },
   "outputs": [
    {
     "output_type": "execute_result",
     "data": {
      "text/plain": "&#39;AACTCTAAA&#39;"
     },
     "metadata": {},
     "execution_count": 56
    }
   ],
   "source": [
    "def NumberToPattern(index, k):\n",
    "    table = {0:'A', 1:'C', 2:'G', 3:'T'}\n",
    "    if k == 1:\n",
    "        # print(\"ret for k: \",k ,\" index : \",int(index) , \" => \" ,table[int(index)])\n",
    "        return table[int(index)]\n",
    "    prefixIndex = index / 4\n",
    "    r = index % 4\n",
    "    prefixPattern = NumberToPattern(prefixIndex, k-1)\n",
    "    symbol = table[int(r)]\n",
    "    # print(\"ret for k: \",k ,\" index : \",int(index) , \" => \" , prefixPattern + symbol)\n",
    "    return prefixPattern + symbol\n",
    "NumberToPattern(7616,9)"
   ]
  },
  {
   "cell_type": "code",
   "execution_count": 63,
   "metadata": {
    "tags": []
   },
   "outputs": [
    {
     "output_type": "stream",
     "name": "stdout",
     "text": "1 0 2 1 1 0 1 0 2 0 0 2 1 1 0 2 2 1 1 1 1 1 0 2 1 0 0 0 2 1 1 1 2 0 0 1 0 2 0 1 0 0 0 0 0 1 0 3 2 0 2 0 0 0 1 1 0 0 0 1 0 1 1 1 0 1 1 0 2 1 1 0 1 0 1 2 1 1 0 0 0 0 3 1 1 1 1 1 0 1 0 1 2 0 1 0 0 1 2 0 0 0 0 3 0 1 0 1 1 0 0 1 1 0 1 1 1 0 0 3 0 1 0 1 0 2 0 1 1 3 0 0 0 1 1 0 3 0 2 0 1 0 0 1 1 3 0 1 0 3 1 0 0 0 0 1 1 2 0 0 1 1 2 0 1 1 1 0 2 0 0 0 0 0 2 1 1 0 1 1 0 0 1 1 1 1 1 0 3 1 1 0 2 2 2 0 0 0 2 1 0 2 2 0 1 0 0 1 1 0 0 1 1 0 0 0 0 0 2 1 0 1 1 0 0 0 0 1 0 0 0 0 0 1 1 0 1 0 2 1 0 1 2 0 0 1 0 0 2 0 1 1 1 3 1 0 1 1 1 2 0 2 0 1 0 1 0 1 0 1 1 0 0 1 2 0 1 0 1 1 0 0 0 2 0 2 0 1 1 2 0 0 3 0 0 0 0 0 0 1 1 1 2 0 0 0 2 2 1 0 1 1 1 0 0 1 1 0 0 1 0 1 0 0 0 1 0 1 1 2 0 1 0 1 1 0 1 1 0 1 0 2 0 2 0 2 1 1 1 2 1 1 1 1 0 0 2 0 1 2 2 1 0 1 1 0 1 0 0 0 1 2 0 0 1 1 2 0 2 0 1 0 0 0 0 1 0 0 1 3 1 2 0 2 0 0 0 1 0 1 2 0 2 0 0 0 0 0 1 0 0 0 0 2 1 2 0 1 2 0 2 2 1 0 1 0 0 0 1 1 0 2 2 0 1 0 0 0 1 0 0 1 0 1 2 0 1 0 0 2 0 0 0 1 0 0 0 0 1 1 2 1 0 0 1 1 0 3 0 0 1 0 2 1 1 1 0 2 3 1 0 1 1 1 1 2 2 0 2 1 1 2 1 1 0 1 0 0 1 2 0 0 1 2 0 0 0 0 0 2 0 0 0 1 0 0 3 2 0 0 0 0 0 0 1 0 0 1 0 2 1 0 2 1 1 0 1 2 2 0 0 1 0 1 0 0 4 1 2 1 0 0 2 2 0 1 1 0 0 0 2 1 0 0 1 0 0 0 0 0 1 0 2 0 0 3 4 1 0 2 1 1 0 2 0 1 0 1 1 1 0 0 0 0 1 0 2 0 2 2 1 1 1 0 0 0 2 0 0 3 0 1 1 0 0 0 0 1 0 1 1 1 1 0 1 0 0 0 2 0 1 1 0 3 1 1 1 1 0 0 0 0 0 1 2 0 2 0 1 1 3 0 1 0 0 2 2 1 0 1 1 1 1 1 2 1 0 0 0 0 2 0 0 0 1 3 0 0 0 2 0 0 0 0 0 0 0 0 0 0 2 1 0 0 0 1 0 3 0 0 1 1 1 1 1 1 2 0 1 0 0 0 1 1 1 2 0 0 2 0 0 0 0 0 0 1 0 0 0 0 2 0 1 2 0 0 1 0 0 0 1 2 3 1 0 1 0 1 0 0 0 1 2 1 2 1 1 0 0 2 1 1 1 3 0 0 0 1 2 0 1 1 1 0 0 4 1 2 0 1 2 0 0 0 0 0 0 1 0 2 0 0 1 1 0 0 1 0 1 0 1 0 1 0 0 1 1 2 2 1 2 1 1 0 1 2 2 2 0 0 0 1 1 0 0 0 1 1 0 0 3 0 1 0 1 0 0 0 1 0 1 0 0 0 2 0 1 2 0 1 0 0 0 1 1 0 1 1 2 0 0 0 0 0 0 2 0 1 1 0 0 0 1 2 1 1 0 0 0 2 0 1 0 0 2 1 3 1 1 1 3 1 1 0 0 1 0 1 0 1 0 0 1 0 1 0 0 1 1 0 1 1 2 0 0 0 0 2 1 1 1 0 2 2 0 0 2 0 0 2 0 0 1 1 1 1 1 2 0 0 2 0 1 1 1 1 1 0 0 1 0 1 0 2 1 0 0 1 3 0 1 0 0 2 0 1 0 1 1 1 2 1 1 1 0 2 0 0 1 1 0 1 3 0 1 0 0 0 0 2 2 1 1 0 1 1 0 0 0 1 0 1 1 1 1 1 1 1 1 0 0 1 1 3 0 1 0 0 1 0 1 0 0 0 "
    }
   ],
   "source": [
    "def FrequenceArray(sequence, k):\n",
    "    FrequencyArray = []\n",
    "    for i in range(4**k):\n",
    "        FrequencyArray.append(0)\n",
    "    for i in range(len(sequence) - k + 1):\n",
    "        kmer = sequence[i:i+k]\n",
    "        index = PatternToNumber(kmer) #This is for hashing the kmer sequence\n",
    "        # print(\"FA : \" , FrequencyArray[index])\n",
    "        FrequencyArray[index] = FrequencyArray[index] + 1\n",
    "    return FrequencyArray\n",
    "res = FrequenceArray(\"ATGTTGATGGCAATGTGCTGTCTCGTTGGCTGCCCTATAACTCTCCGCAGTCGGCGCAGCAAAATCGGTTACCCTGGGCTGCCGCAAAGAACCAGTAAGCCCTCGGGATTTCCGACGGTATGTAGAGATTTGGTAGGCGACCGTAGTAGCGTAAAAGTCTACCCGCTTCGACTTCTCTGGTGCGGCCTGGCCCATGTGCCCAACTATACTAGTTAGGGATTAGAACCTGATAACTAACAACCTATCCACTCATAGCTAACTTCTGTTGTGGCGACTCTGGACACAGTGCGGTCTCGACCATCAAATTCCGGCAATCTCACGTAACTGTACATATAAATAGGAATTTAATAAGAAACATCGTTATTGGGATAAAAAGTTAAAGATACGCTCAAGCTCATATTGAATAGCCGGAGGACACACCAGCACAGACCAGACGAGCCCGCGATTACTGCGACCCCCTTATACGACAGGTGCAACCCACCGCTCTCATTTCCCGTGTTGTTCTCGCAAATTGTAAGCCCGGTTCAGAACACGTTAGCTCGATCATGATTTCCGGAGCATCTGCGTGCCTGAGAGAGGAGGTGCGTCGGCCAGCACCTAGGGAGAGAGGCACTTTCATTAGTGAACAAGTTGCTGCAAACGAGCACTCTGGACGCTTATCGGACGGCATAGGAGGCCGAACAGTGGTAGTTAATAAGTTCTGACGCTGGTTGTCCCCCTCTTTCTTAGGTTTTATTGAGTATGGGCT\",5)\n",
    "\n",
    "for i in res :\n",
    "    print(i, end=\" \")"
   ]
  },
  {
   "source": [
    "### Frquency Array by sorting\n",
    "        This algorithm do not initialize all kmer hashing array.\n",
    "        Instead , it generates a hashing arry only when a kmer exists\n",
    "        Then sorted this array and calculate the max value in this array\n",
    "        so it reduce the I(O)\n",
    "\n",
    "Since identical k-mers clump together in the sorted array, frequent k-mers are the longest runs of identical integers in SortedIndex.\n",
    "    "
   ],
   "cell_type": "markdown",
   "metadata": {}
  },
  {
   "cell_type": "code",
   "execution_count": 66,
   "metadata": {
    "tags": []
   },
   "outputs": [],
   "source": [
    "def FindFrequentPatternBySorting(sequence, k):\n",
    "    PatternArray = []\n",
    "    IndexArray = []\n",
    "    CountArray = []\n",
    "    for i in range(len(sequence) - k + 1):\n",
    "        pattern = sequence[i:i+k]\n",
    "        IndexArray.append(PatternToNumber(pattern)) # appending numeration of each k-mer serially to a list\n",
    "        CountArray.append(1) #frequency of k-mer\n",
    "    SortedIndexArray = sorted(IndexArray)\n",
    "    for i in range(1, len(sequence) - k + 1):\n",
    "        if SortedIndexArray[i] == SortedIndexArray[i-1]:\n",
    "            CountArray[i] = CountArray[i-1]\n",
    "    maxCount = max(CountArray)\n",
    "    for i in range(len(sequence) - k + 1):\n",
    "        if CountArray[i] == maxCount:\n",
    "            pattern = NumberToPattern(SortedIndexArray[i], k)\n",
    "            PatternArray.append(pattern)\n",
    "    return PatternArray"
   ]
  },
  {
   "source": [
    "### Clump finding using frequency array\n",
    "\t    Find patterns forming clumps in a string.\n",
    "        Input: A string Genome, and integers k, L, and t.\n",
    "        Output: All distinct k-mers forming (L, t)-clumps in Genome.\n",
    "        ---------------------------------------------------------------\n",
    "        After computing the frequency array for the current window,\n",
    "        it identifies (L, t)-clumps simply by finding which k-mers occur\n",
    "        at least t times within the window"
   ],
   "cell_type": "markdown",
   "metadata": {}
  },
  {
   "cell_type": "code",
   "execution_count": 70,
   "metadata": {},
   "outputs": [],
   "source": [
    "def ClumpFinding(Genome, k, t, L):\n",
    "    clumps = []\n",
    "    FrequencePattern = set()\n",
    "    for i in range(4**k - 1):\n",
    "        clumps.append(0)\n",
    "    for i in range(len(Genome) - L):\n",
    "        window = Genome[i:i+L]\n",
    "        FrequenceArray = FrequenceArray(window, k)\n",
    "        for j in range(4**k - 1):\n",
    "            if FrequenceArray[j] >= t:\n",
    "                clumps[j] = 1\n",
    "    for i in range(4**k - 1):\n",
    "        if clumps[i] == 1:\n",
    "            pattern = NumberToPattern(i, k)\n",
    "            FrequencePattern.add(pattern)\n",
    "    return FrequencePattern"
   ]
  },
  {
   "source": [
    "### Calculate skew of genome"
   ],
   "cell_type": "markdown",
   "metadata": {}
  },
  {
   "cell_type": "code",
   "execution_count": 70,
   "metadata": {
    "tags": []
   },
   "outputs": [
    {
     "output_type": "execute_result",
     "data": {
      "text/plain": "[0, 1, 1, 2, 1, 0, 0, -1, -2, -1, -2, -1, -1, -1, -1]"
     },
     "metadata": {},
     "execution_count": 70
    }
   ],
   "source": [
    "def skew(genome):\n",
    "    val = 0;\n",
    "    track = []\n",
    "    track.append(0)\n",
    "    for i in genome:\n",
    "        if i == \"G\":\n",
    "            val += 1\n",
    "        elif i == \"C\":\n",
    "            val -=1\n",
    "        track.append(val)\n",
    "\n",
    "    # for k in track:\n",
    "    #     print(k, end=\" \")\n",
    "    return track\n",
    "skew(\"GAGCCACCGCGATA\")"
   ]
  },
  {
   "source": [
    "### Calculate minima of skew"
   ],
   "cell_type": "markdown",
   "metadata": {}
  },
  {
   "cell_type": "code",
   "execution_count": 79,
   "metadata": {
    "tags": []
   },
   "outputs": [
    {
     "output_type": "stream",
     "name": "stdout",
     "text": "14 "
    }
   ],
   "source": [
    "def skew_minima(genome):\n",
    "    track = skew(genome)\n",
    "    idx_list = []\n",
    "    # print(track)\n",
    "    minima = min(track)\n",
    "    for i in range(len(track)):\n",
    "        if (track[i] == minima):\n",
    "            idx_list.append(i)\n",
    "    for i in idx_list:\n",
    "        print(i,end=\" \")\n",
    "skew_minima(\"\")"
   ]
  },
  {
   "source": [
    "### Hamming distance"
   ],
   "cell_type": "markdown",
   "metadata": {}
  },
  {
   "cell_type": "code",
   "execution_count": 82,
   "metadata": {},
   "outputs": [
    {
     "output_type": "execute_result",
     "data": {
      "text/plain": "769"
     },
     "metadata": {},
     "execution_count": 82
    }
   ],
   "source": [
    "def HammingDistance(p, q):\n",
    "    count = 0\n",
    "    for (i,j) in zip(p,q):\n",
    "        if i != j:\n",
    "            count += 1\n",
    "    return count\n",
    "\n",
    "HammingDistance(\"GCCAGGATGTAATAACGGCGGTCTAGCGGCATTAGACTCTCTTCGACATCATAAAACTTTGTGAACTTAGAGTCTCTGACGATACAGAATCCGGAACGAAGCTTGGAAATAGCACCGAGGTGAGACCAGCTTGTACAACGGCGTCGCAATCTCCGGAATCTTTGTAGTTTCAGTGTAGCGCATGTAAAATTTTATTATAAGTCACGAAACTACCTCTCTTCAGTGCCTAATCGAGCATATTGAATTGGGCGTATCGATCCAATCAAGACACGTTAGGTGTCGGATTTACTTTCCCCTCAAAAACGCGCGGCGGTTAAGGTACGTCAGCCTATTTTGGCCCGCGACGCCAACTCAGAGAAGCTTCAAAGGAGGAGCGTTGTAGTCAATAGATTAGGCATGTGCATCCCTCTGCATACCGATAGTCTCCGGCTACGTCTTAAATCTCAAAATCAGGCCGCGGTTCGATAGGGGATTGAGGGTCCGTGTGATGACCGTACGGATTGGAGTCACAATTAGCCGCTGACGGTAAAAGCTCTAATATGCAGATATACCCTGGATCAACGAATATCATTCCGAAACATCAACAGATCATGATGGAGAGGCTAGTCGTCCCTGCCTACTTCCCCGCCAATATACGTCACCTAACATCAAAGCCAGGGGCATCTTACCGGTTTCTTGTTACTGCGGAGGATACCCTTCACTCTAACTCCACCGACTGGCGCTGCGGTGGTGCGCATTCCTTTGGTATCGGGAATATCATTAATAAGCTCGTATCGAGGGCGCTTCTCCAGAAAGTCTTCTGAAGCCTTGGCCGTTGTTGCAATCCTTTTTAATTCACGGCTCTGCGGCTATGGACCGACTAGGAGCCCAATCTGGACTTAGAACTGCAGTCCGCCCAGACCATGGACAGATACCGCCGGGCGGATCCTTCGACGAATTGGGTACCTCTTTCGAAGGTGGACTCGGACCAGCATACGTTGTTTCCCATGCCTTTGATTCGGCCAAACTGCGGTAGACGGTAGGACAT\",\"CGATACGGTATTCCTAATAAACACGGAACTTGGCTACTCTCCGATTACTTGTCTGTTTCGGTCCCGAAACGGCTACGGTAGCGCGGATCCTAGGCCCAGGTTTGTCGCCGAGGTGGGTGGACGAACCTCGACGGTAGATCATTTGGAATTATTCACCGGATATGCTTTTATCGCAGTCCTGAGGGGATTAGATCTGTGGTCTTCGGGGCCTTTTGGACCGACTACCAGAATTATCGGTACGTCAATATAGACAATATCAACTTAAGCGGCGGTTTTGGAGCACCGCGGCTCGGAGTTTCTCGAATTTGATTATTTACCCGTATCCGAAAGCCATAACTCAGGCCTCACGAATCTTGGACCTGCTACAGAACGACCACTGGAAAGGTTTACTATCATTTGAGCTAAAGACGGCCATTGTCTTGTGATAAGATGAGCTAGTGGGTAGCGTATAACACCTCTAGAACACGACTGTGATTTTTTTGATGATTTGATCTTCAACTTGGCTATGGTTTAGGGCGCTTTACGGCAGGGTATTTGGCACGCGGTGCGCGGTGGAGACGGGAGTAGACTCGAATGTGGCCCAAGGTCACTCACTTGGTCCGCTCTTAACTCCCTTGAATACCTCAAGTCTCTACTTACTCACCATGATCCCTCGATTCTTACCTCGGCTACTCGTCTACTTATAAGCACATATGTCTATAGCCACAGTATTATTTGGCACACAGGGTAGCTCGATAGGTATCCATCGAAAGGGCACTTTTGCAAGTGGCCCCTTAACGTCAGTTCTTATATCCGCGGGGGCTCAGCTTCCCCCCCATGGCTCGCTACTGCTGTTACCCGTATTTACTGACATTAAGAATAGAGAAGCCAAACGCTCTACCTGCGATGGTCTCGAGTCCCGTAGCTATTGGCCAACAATCGGGACGAACGTTCAAGTCACAAGTAGTTGCTAGCATAAGCAATTTCCATGGGGTCCGATCCATCTACTGTAAGTATGCTAGATTCCTTTAAGATCTCACCTCCCGAC\")\n"
   ]
  },
  {
   "source": [
    "### Approximate pattern matching with upto d mismatches"
   ],
   "cell_type": "markdown",
   "metadata": {}
  },
  {
   "cell_type": "code",
   "execution_count": 87,
   "metadata": {
    "tags": []
   },
   "outputs": [
    {
     "output_type": "stream",
     "name": "stdout",
     "text": "114\n"
    }
   ],
   "source": [
    "\n",
    "def ApproximatePatternMatching(Pattern, Text, d):\n",
    "    positions = []\n",
    "    patterns_list = []\n",
    "    for i in range(len(Text)-len(Pattern)+1):\n",
    "        Pattern_ = Text[i:i+len(Pattern)]\n",
    "        if HammingDistance(Pattern_, Pattern) <= d:\n",
    "            positions.append(i)\n",
    "\n",
    "    return positions\n",
    "\n",
    "res = ApproximatePatternMatching(\"TGATT\",\"CCAGCACTCAACCAGTTCGCCCCAGAGGGCGCTCCAACCCCAAAATGGATCCTAGCCGTCGTACCCCCGGCTAAAGGGGATTGTGGCCCTAGGGCCGCTGAGACTATCCTTGAGTGTTTATTGCCTCCGTCCTAACATTTCACAGCAGTCGGTGCAGGGCGCAGGGTGGAGAGAAATGAAGATATATCTTGTGTTGCTTCAACTACCTGCTTGCTGCTATTCTCAGTGTACTTTCCCGGCTAGTCTTCGAATACTGCGCTACTCTCCAGAAGTGGGCATATTCTAGCACCTGATTGTGACTTGTCTATC\",3)\n",
    "\n",
    "# print(*res)\n",
    "print(len(res))"
   ]
  },
  {
   "source": [
    "### Neighborhood of a string "
   ],
   "cell_type": "markdown",
   "metadata": {}
  },
  {
   "cell_type": "code",
   "execution_count": 81,
   "metadata": {
    "tags": []
   },
   "outputs": [
    {
     "output_type": "stream",
     "name": "stdout",
     "text": "T\n[&#39;A&#39;, &#39;C&#39;, &#39;G&#39;, &#39;T&#39;]\nGT\n[&#39;AA&#39;, &#39;CA&#39;, &#39;GA&#39;, &#39;TA&#39;, &#39;AC&#39;, &#39;CC&#39;, &#39;GC&#39;, &#39;TC&#39;, &#39;AG&#39;, &#39;CG&#39;, &#39;GG&#39;, &#39;TG&#39;, &#39;AT&#39;, &#39;CT&#39;, &#39;GT&#39;, &#39;TT&#39;]\nCGT\n[&#39;AAA&#39;, &#39;CAA&#39;, &#39;GAA&#39;, &#39;TAA&#39;, &#39;ACA&#39;, &#39;CCA&#39;, &#39;GCA&#39;, &#39;TCA&#39;, &#39;AGA&#39;, &#39;CGA&#39;, &#39;GGA&#39;, &#39;TGA&#39;, &#39;ATA&#39;, &#39;CTA&#39;, &#39;GTA&#39;, &#39;TTA&#39;, &#39;AAC&#39;, &#39;CAC&#39;, &#39;GAC&#39;, &#39;TAC&#39;, &#39;ACC&#39;, &#39;CCC&#39;, &#39;GCC&#39;, &#39;TCC&#39;, &#39;AGC&#39;, &#39;CGC&#39;, &#39;GGC&#39;, &#39;TGC&#39;, &#39;ATC&#39;, &#39;CTC&#39;, &#39;GTC&#39;, &#39;TTC&#39;, &#39;AAG&#39;, &#39;CAG&#39;, &#39;GAG&#39;, &#39;TAG&#39;, &#39;ACG&#39;, &#39;CCG&#39;, &#39;GCG&#39;, &#39;TCG&#39;, &#39;AGG&#39;, &#39;CGG&#39;, &#39;GGG&#39;, &#39;TGG&#39;, &#39;ATG&#39;, &#39;CTG&#39;, &#39;GTG&#39;, &#39;TTG&#39;, &#39;AAT&#39;, &#39;CAT&#39;, &#39;GAT&#39;, &#39;TAT&#39;, &#39;ACT&#39;, &#39;CCT&#39;, &#39;GCT&#39;, &#39;TCT&#39;, &#39;AGT&#39;, &#39;CGT&#39;, &#39;GGT&#39;, &#39;TGT&#39;, &#39;ATT&#39;, &#39;CTT&#39;, &#39;GTT&#39;, &#39;TTT&#39;]\n175\n"
    }
   ],
   "source": [
    "def NeighborhoodofString(pattern, d):\n",
    "    if d == 0:\n",
    "        return [pattern]\n",
    "    if len(pattern) == 1:\n",
    "        return ['A', 'C', 'G', 'T']\n",
    "    neighborhood = []\n",
    "    sufneigh =NeighborhoodofString(pattern[1:],d)\n",
    "    for x in sufneigh:\n",
    "        if HammingDistance(pattern[1:],x) < d:\n",
    "            neighborhood.extend(['A'+x, 'C'+x, 'G'+x, 'T'+x])\n",
    "        else:\n",
    "            neighborhood.append(pattern[0] + x)\n",
    "    return neighborhood\n",
    "\n",
    "res = neighbors(\"ACGT\",3)\n",
    "print(len(res))"
   ]
  },
  {
   "source": [
    "### Most frequent approximate pattern "
   ],
   "cell_type": "markdown",
   "metadata": {}
  },
  {
   "cell_type": "code",
   "execution_count": 88,
   "metadata": {
    "tags": []
   },
   "outputs": [
    {
     "output_type": "execute_result",
     "data": {
      "text/plain": "[&#39;GGGGGC&#39;]"
     },
     "metadata": {},
     "execution_count": 88
    }
   ],
   "source": [
    "def most_frequent_approximate_pattern(Text, k,d):\n",
    "    frequencyArray = []\n",
    "    max_approx_pattern = [] \n",
    "    for i in range(4**k):\n",
    "        frequencyArray.append(0)\n",
    "    for i in range(len(Text) - k+1):\n",
    "        pattern = Text[i: i+k]\n",
    "        neighborhood_p = NeighborhoodofString(pattern,d)\n",
    "        for neighbor in neighborhood_p:\n",
    "            index_n = PatternToNumber(neighbor)\n",
    "            frequencyArray[index_n] = frequencyArray[index_n] + 1\n",
    "    maxima = max(frequencyArray)\n",
    "\n",
    "    for i in range(len(frequencyArray)):\n",
    "        if (frequencyArray[i] == maxima):\n",
    "            text = NumberToPattern(i,k)\n",
    "            max_approx_pattern.append(text)\n",
    "    return max_approx_pattern\n",
    "most_frequent_approximate_pattern(\"CCAGGGCCATCATGAAAGTCCAGGGCGGGCCATCATGAAAGTCCAAGTAGTGAAGGGCCATGAAAGTCCAAGTCCACATGGGCCCACCAGAAGGGCAGTGAACATGGGCCATCCAGGGCCCAGAACATCATGAACATGAAAGTAGTCCACATAGTAGTAGTGAAAGTCATAGTCATCATGGGCCCAGAACATCCAGAAGGGCGGGCAGTGAACCAAGTAGTGAAGGGCGAAGGGCCCAAGTAGTGAAGGGCGGGCGAACCACATGGGCAGTAGTGGGCCATAGTAGTCCAGAAAGTGGGCCCACCAGAAGAAAGTGGGCCCAGAACCAGAACATCCAGAAGGGCCCACATCCAAGTGGGC\", 6, 2)\n"
   ]
  },
  {
   "source": [
    "### Most frequent approximate pattern with reverse compliments"
   ],
   "cell_type": "markdown",
   "metadata": {}
  },
  {
   "cell_type": "code",
   "execution_count": 89,
   "metadata": {
    "tags": []
   },
   "outputs": [
    {
     "output_type": "execute_result",
     "data": {
      "text/plain": "[&#39;TAATTAA&#39;, &#39;TTAATTA&#39;]"
     },
     "metadata": {},
     "execution_count": 89
    }
   ],
   "source": [
    "def most_frequent_pattern_with_reverse_complement(Text, k, d):\n",
    "    freq_array = []\n",
    "    max_approx_pattern = []\n",
    "    for i in range(4**k):\n",
    "        freq_array.append(0)\n",
    "    \n",
    "    for i in range(len(Text)-k+1):\n",
    "        pattern = Text[i:i+k]\n",
    "        neighborhood_p = NeighborhoodofString(pattern,d)\n",
    "        pattern_ = reverse_complement(pattern)\n",
    "        neighborhood_p_ = NeighborhoodofString(pattern_,d)\n",
    "\n",
    "        for neighbor in neighborhood_p:\n",
    "            if HammingDistance(pattern,neighbor) <=d:\n",
    "                index = PatternToNumber(neighbor)\n",
    "                freq_array[index] = freq_array[index]+1\n",
    "\n",
    "        for neighbor in neighborhood_p_:\n",
    "            if HammingDistance(pattern_,neighbor) <=d:\n",
    "                index = PatternToNumber(neighbor)\n",
    "                freq_array[index] = freq_array[index]+1\n",
    "    maxima = max(freq_array)\n",
    "\n",
    "    for i in range(len(freq_array)):\n",
    "        if (freq_array[i] == maxima):\n",
    "            text = NumberToPattern(i,k)\n",
    "            max_approx_pattern.append(text)\n",
    "\n",
    "    return max_approx_pattern\n",
    "\n",
    "most_frequent_pattern_with_reverse_complement(\"GATGGAAAGTGGTTGGTTGGTGAAAGAAGTAAAAGAAGAAGGTGTAAGTGGTTAATAAAAGAAGTAAGAGTAAGGTTAAGTAAGTGTGGTGTGAAAGGTGTGAGAAAGGAGTGAGTTAAGTTAATGTGGTAAGTAAAAGGAAAGTAATAAGTTAAGTTAATAATAAGATGAAGTGGTTAAGTGATGAAGGTGTTGGTTGTAATAAAAG\",7,2)"
   ]
  }
 ]
}