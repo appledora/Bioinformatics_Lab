{
 "metadata": {
  "language_info": {
   "codemirror_mode": {
    "name": "ipython",
    "version": 3
   },
   "file_extension": ".py",
   "mimetype": "text/x-python",
   "name": "python",
   "nbconvert_exporter": "python",
   "pygments_lexer": "ipython3",
   "version": "3.6.9-final"
  },
  "orig_nbformat": 2,
  "kernelspec": {
   "name": "python36964bit96b38543bc524d45aa4022ceee87892b",
   "display_name": "Python 3.6.9 64-bit",
   "language": "python"
  }
 },
 "nbformat": 4,
 "nbformat_minor": 2,
 "cells": [
  {
   "source": [
    "### Construct the Burrows-Wheeler Transform of a String"
   ],
   "cell_type": "markdown",
   "metadata": {}
  },
  {
   "cell_type": "code",
   "execution_count": 2,
   "metadata": {},
   "outputs": [
    {
     "output_type": "stream",
     "name": "stdout",
     "text": [
      "ACTGGCT$TGCGGC\n"
     ]
    }
   ],
   "source": [
    "def constructBWTstring(text):\n",
    "    cycles = []\n",
    "\n",
    "    for i in range(len(text)):\n",
    "        shift = text[i:] + text[:i]\n",
    "        cycles.append(shift)\n",
    "\n",
    "    cycles = sorted(cycles)\n",
    "    bwt = ''\n",
    "    for cycle in cycles:\n",
    "        bwt += cycle[-1]\n",
    "    print(bwt)\n",
    "\n",
    "constructBWTstring(\"GCGTGCCTGGTCA$\")"
   ]
  },
  {
   "source": [
    "### Reconstruct a String from its Burrows-Wheeler Transform"
   ],
   "cell_type": "markdown",
   "metadata": {}
  },
  {
   "cell_type": "code",
   "execution_count": null,
   "metadata": {},
   "outputs": [],
   "source": []
  }
 ]
}