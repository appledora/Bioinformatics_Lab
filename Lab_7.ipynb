{
 "metadata": {
  "language_info": {
   "codemirror_mode": {
    "name": "ipython",
    "version": 3
   },
   "file_extension": ".py",
   "mimetype": "text/x-python",
   "name": "python",
   "nbconvert_exporter": "python",
   "pygments_lexer": "ipython3",
   "version": "3.8.10"
  },
  "orig_nbformat": 2,
  "kernelspec": {
   "name": "python3810jvsc74a57bd0f5496cdbd07f30766f256b3a38047ed88acd06ea50b0a76ba18a94a84236e39f",
   "display_name": "Python 3.8.10 64-bit ('gigEnv': conda)"
  },
  "metadata": {
   "interpreter": {
    "hash": "f5496cdbd07f30766f256b3a38047ed88acd06ea50b0a76ba18a94a84236e39f"
   }
  }
 },
 "nbformat": 4,
 "nbformat_minor": 2,
 "cells": [
  {
   "source": [
    "### Helper Utils\n",
    "1,2,3\n"
   ],
   "cell_type": "markdown",
   "metadata": {}
  },
  {
   "cell_type": "code",
   "execution_count": 68,
   "metadata": {},
   "outputs": [],
   "source": [
    "import numpy as np\n",
    "def suffixArrayConstruction(text):\n",
    "    ordered_pairs = sorted([(text[i:],i) for i in range(len(text))])\n",
    "    suffix_array = [pair[1] for pair in ordered_pairs]\n",
    "    return suffix_array, ordered_pairs\n",
    "\n",
    "def greaterThan(p, p_):\n",
    "    if (p_[:len(p)] < p):\n",
    "        return True\n",
    "    return False\n",
    "\n",
    "def equalPatterns(p,p_):\n",
    "    if p_[:len(p)] == p :\n",
    "        return True\n",
    "    return False\n",
    "\n",
    "def ApproximatePatternMatching(Pattern, Text, d):\n",
    "    positions = []\n",
    "    patterns_list = []\n",
    "    for i in range(len(Text)-len(Pattern)+1):\n",
    "        Pattern_ = Text[i:i+len(Pattern)]\n",
    "        if HammingDistance(Pattern_, Pattern) <= d:\n",
    "            positions.append(i)\n",
    "            patterns_list.append(Pattern_)\n",
    "\n",
    "    return patterns_list\n",
    "def HammingDistance(p, q):\n",
    "    count = 0\n",
    "    for (i,j) in zip(p,q):\n",
    "        if i != j:\n",
    "            count += 1\n",
    "    return count"
   ]
  },
  {
   "source": [
    "### Pattern Matching with the Suffix Array"
   ],
   "cell_type": "markdown",
   "metadata": {}
  },
  {
   "cell_type": "code",
   "execution_count": 13,
   "metadata": {},
   "outputs": [],
   "source": [
    "def patternMatchingSA(text, patterns,suffixArr):\n",
    "    minidx = 0\n",
    "    maxidx = len(text)-1\n",
    "    while minidx <= maxidx:\n",
    "        mididx = (minidx+maxidx)//2\n",
    "        if greaterThan(pattern,text[suffixArr[mididx]:]):\n",
    "            minidx = mididx+1\n",
    "        else:\n",
    "            maxidx = mididx-1\n",
    "\n",
    "    if equalPatterns(pattern,text[suffixArr[mididx]:suffixArr[mididx]+len(pattern)]):\n",
    "        first = suffixArr[minidx]\n",
    "    else:\n",
    "        return \n",
    "\n",
    "    maxidx = len(text)-1\n",
    "    while minidx <= maxidx:\n",
    "        mididx = (minidx+maxidx)//2\n",
    "        if text[suffixArr[mididx]:].startswith(pattern):\n",
    "            minidx = mididx+1\n",
    "        else:\n",
    "            maxidx = mididx-1\n",
    "    last= suffixArr[maxidx]\n",
    "    return (first, last)\n"
   ]
  },
  {
   "cell_type": "code",
   "execution_count": 12,
   "metadata": {},
   "outputs": [
    {
     "output_type": "stream",
     "name": "stdout",
     "text": [
      "1 4 11 15\n"
     ]
    }
   ],
   "source": [
    "f = open('test.txt')\n",
    "s = f.readline().strip()\n",
    "patterns = [i.strip() for i in f.readlines()]\n",
    "sArray,_ = suffixArrayConstruction(s)\n",
    "positions = []\n",
    "for pattern in patterns:\n",
    "    pair = patternMatchingSA(s, pattern, sArray)\n",
    "    if pair is not None:\n",
    "        positions.append(pair)\n",
    "print(' '.join([str(pos) for pos in sorted([x for t in positions for x in t])]))\n"
   ]
  },
  {
   "source": [
    "### Construct the Burrows-Wheeler Transform of a String"
   ],
   "cell_type": "markdown",
   "metadata": {}
  },
  {
   "cell_type": "code",
   "execution_count": 24,
   "metadata": {},
   "outputs": [
    {
     "output_type": "execute_result",
     "data": {
      "text/plain": [
       "'ACTGGCT$TGCGGC'"
      ]
     },
     "metadata": {},
     "execution_count": 24
    }
   ],
   "source": [
    "def constructBWTstring(text):\n",
    "    cycles = []\n",
    "\n",
    "    for i in range(len(text)):\n",
    "        shift = text[i:] + text[:i]\n",
    "        cycles.append(shift)\n",
    "\n",
    "    cycles = sorted(cycles)\n",
    "    bwt = ''\n",
    "    for cycle in cycles:\n",
    "        bwt += cycle[-1]\n",
    "    return bwt \n",
    "constructBWTstring(\"GCGTGCCTGGTCA$\")"
   ]
  },
  {
   "source": [
    "### Reconstruct a String from its Burrows-Wheeler Transform"
   ],
   "cell_type": "markdown",
   "metadata": {}
  },
  {
   "cell_type": "code",
   "execution_count": 5,
   "metadata": {},
   "outputs": [],
   "source": [
    "def index_symbol (column):\n",
    "    idx_tuple = {symbol:0 for symbol in column}\n",
    "    col = []\n",
    "    for symbol in column:\n",
    "        idx_tuple[symbol]+=1\n",
    "        col.append((symbol, idx_tuple[symbol]))\n",
    "    print(col)\n",
    "    return col\n",
    "def decodeFromBWT(bwt):\n",
    "    first_col = ''.join(sorted([i for i in bwt]))\n",
    "    first_index_tuple = index_symbol(first_col)\n",
    "    last_col = bwt\n",
    "    last_index_tuple = index_symbol(last_col)\n",
    "    recons =''\n",
    "    symbol = ('$',1)\n",
    "\n",
    "    while len(recons)<len(bwt):\n",
    "        symbol = first_index_tuple[last_index_tuple.index(symbol)]\n",
    "        # print(\"symbol -> \", symbol)\n",
    "        recons += symbol[0]\n",
    "    # return recons[:-1]\n",
    "    "
   ]
  },
  {
   "cell_type": "code",
   "execution_count": 6,
   "metadata": {},
   "outputs": [
    {
     "output_type": "stream",
     "name": "stdout",
     "text": [
      "[('$', 1), ('a', 1), ('a', 2), ('a', 3), ('a', 4), ('a', 5), ('a', 6), ('b', 1), ('m', 1), ('n', 1), ('n', 2), ('n', 3), ('p', 1), ('s', 1)]\n[('s', 1), ('m', 1), ('n', 1), ('p', 1), ('b', 1), ('n', 2), ('n', 3), ('a', 1), ('a', 2), ('a', 3), ('a', 4), ('a', 5), ('$', 1), ('a', 6)]\n"
     ]
    }
   ],
   "source": [
    "decodeFromBWT(\"smnpbnnaaaaa$a\")"
   ]
  },
  {
   "source": [
    "### Generate the Last-to-First Mapping of a String"
   ],
   "cell_type": "markdown",
   "metadata": {}
  },
  {
   "cell_type": "code",
   "execution_count": 4,
   "metadata": {},
   "outputs": [
    {
     "output_type": "execute_result",
     "data": {
      "text/plain": [
       "1"
      ]
     },
     "metadata": {},
     "execution_count": 4
    }
   ],
   "source": [
    "def lastTofirstMap(transform, idx):\n",
    "    last_col = transform\n",
    "    first_col = sorted(transform)\n",
    "    last_index_tuple = index_symbol(last_col)\n",
    "    first_index_tuple = index_symbol(first_col)\n",
    "\n",
    "    mapped_idx = first_index_tuple.index(last_index_tuple[idx])\n",
    "    return mapped_idx\n",
    "\n",
    "lastTofirstMap(\"T$GACCA\", 3)  "
   ]
  },
  {
   "source": [
    "### Find All Occurrences of a Collection of Patterns in a String"
   ],
   "cell_type": "markdown",
   "metadata": {}
  },
  {
   "cell_type": "code",
   "execution_count": 65,
   "metadata": {},
   "outputs": [],
   "source": [
    "def partialSuffixArray(text,k=5) :\n",
    "    _, sufArrayPairs = suffixArrayConstruction (text) \n",
    "    pSAidx = []\n",
    "    for i in range(len(sufArrayPairs)):\n",
    "        if sufArrayPairs[i][1]%k == 0:\n",
    "            pSAidx.append((i, sufArrayPairs[i][1]))\n",
    "    return pSAidx\n",
    "\n",
    "def first_occurence(last_column):\n",
    "    return dict(zip(*np.unique(sorted(last_column), return_index=True)))\n",
    "\n",
    "def countSymbol(symbol,idx, column):\n",
    "    return column[:idx].count(symbol)\n",
    "\n",
    "def checkpointArray(column, k=5):\n",
    "    frequencyDict = {i:[] for i in \"ACGT\"}\n",
    "    for i in range(k, len(column), k):\n",
    "        for base in \"ACGT\":\n",
    "            frequencyDict[base].append(countSymbol(base,i,column))\n",
    "    return frequencyDict\n",
    "\n",
    "def betterBWTmatching(last_column, pattern, cp_array):\n",
    "    top = 0\n",
    "    bottom = len(last_column) - 1\n",
    "    firsts = first_occurence(last_column)\n",
    "\n",
    "    while top <= bottom:\n",
    "        if pattern :\n",
    "            symbol = pattern[-1]\n",
    "            pattern = pattern[:-1]\n",
    "            if symbol in last_column[top:bottom+1]:\n",
    "                top = firsts[symbol] + countSymbol(symbol, top, last_column)\n",
    "                bottom = firsts[symbol] + countSymbol(symbol, bottom+1, last_column) - 1\n",
    "            else:\n",
    "                return 0\n",
    "        else:\n",
    "            return top, bottom\n",
    "\n",
    "def multiplePatternMatching(text, patterns) :\n",
    "    sufArray,_ = suffixArrayConstruction(text)\n",
    "    print(\"SA -> \", sufArray)\n",
    "    bwt = constructBWTstring(text)\n",
    "    print(\"BWT -> \", bwt)\n",
    "    # last_column = list(bwt)\n",
    "    indices = []\n",
    "    cp_array = checkpointArray(bwt)\n",
    "    print(\"cpArray -> \", cp_array)\n",
    "    for pattern in patterns:\n",
    "        top, bottom =  betterBWTmatching(bwt, pattern, cp_array)\n",
    "        print(top,\"--------\", bottom)\n",
    "        for i in range(top, bottom+1):\n",
    "            indices.append(sufArray[i])\n",
    "\n",
    "    return sorted(indices)\n",
    "\n"
   ]
  },
  {
   "cell_type": "code",
   "execution_count": 66,
   "metadata": {},
   "outputs": [
    {
     "output_type": "stream",
     "name": "stdout",
     "text": [
      "SA ->  [10, 0, 11, 1, 9, 13, 3, 14, 15, 4, 16, 5, 17, 6, 18, 8, 12, 2, 7]\nBWT ->  CTAATTTCGCGGGGGTAAG\ncpArray ->  {'A': [2, 2, 2], 'C': [1, 3, 3], 'G': [0, 1, 6], 'T': [2, 4, 4]}\n2 -------- 3\n8 -------- 9\n"
     ]
    },
    {
     "output_type": "execute_result",
     "data": {
      "text/plain": [
       "[1, 4, 11, 15]"
      ]
     },
     "metadata": {},
     "execution_count": 66
    }
   ],
   "source": [
    "f = open(\"test.txt\",\"r\")\n",
    "s = f.readline().strip()\n",
    "patterns = f.read().strip().split()\n",
    "\n",
    "multiplePatternMatching(s, patterns)"
   ]
  },
  {
   "source": [
    "### Multiple Approximate Pattern Matching Problem"
   ],
   "cell_type": "markdown",
   "metadata": {}
  },
  {
   "cell_type": "code",
   "execution_count": 72,
   "metadata": {},
   "outputs": [],
   "source": [
    "def extend_kmer(index, top, bottom, sufArray):\n",
    "    return [int(sufArray[i]) - index for i in range (top, bottom + 1)]\n",
    "\n",
    "def multipleApproxPatternMatching(text, patterns, d):\n",
    "    sufArray,_ = suffixArrayConstruction(text)\n",
    "    print(\"SA -> \", sufArray)\n",
    "    bwt = constructBWTstring(text)\n",
    "    print(\"BWT -> \", bwt)\n",
    "    last_column = list(bwt)\n",
    "    indices = []\n",
    "    cp_array = checkpointArray(bwt)\n",
    "    print(\"cpArray -> \", cp_array)\n",
    "    for pattern in patterns:\n",
    "        new_pattern = ApproximatePatternMatching(pattern, text, d)\n",
    "        for p in new_pattern:\n",
    "            top, bottom =  betterBWTmatching(bwt, p, cp_array)\n",
    "            print(top,\"--------\", bottom)\n",
    "            for i in range(top, bottom+1):\n",
    "                indices.append(sufArray[i])\n",
    "    return sorted(indices)"
   ]
  },
  {
   "cell_type": "code",
   "execution_count": 73,
   "metadata": {},
   "outputs": [
    {
     "output_type": "stream",
     "name": "stdout",
     "text": [
      "SA ->  [12, 0, 7, 2, 1, 5, 8, 4, 11, 6, 3, 10, 9]\nBWT ->  T$TCAGATTCATC\ncpArray ->  {'A': [1, 2], 'C': [1, 2], 'G': [0, 1], 'T': [2, 4]}\n3 -------- 3\n2 -------- 2\n6 -------- 6\n12 -------- 12\n7 -------- 7\n7 -------- 7\n9 -------- 9\n"
     ]
    },
    {
     "output_type": "execute_result",
     "data": {
      "text/plain": [
       "[2, 4, 4, 6, 7, 8, 9]"
      ]
     },
     "metadata": {},
     "execution_count": 73
    }
   ],
   "source": [
    "f = open(\"test.txt\",\"r\")\n",
    "text = f.readline().rstrip() + '$'\n",
    "patterns = [line.rstrip() for line in f.readline().split()]\n",
    "d = int(f.readline())\n",
    "\n",
    "multipleApproxPatternMatching(text, patterns, d)"
   ]
  }
 ]
}