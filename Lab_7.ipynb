{
 "metadata": {
  "language_info": {
   "codemirror_mode": {
    "name": "ipython",
    "version": 3
   },
   "file_extension": ".py",
   "mimetype": "text/x-python",
   "name": "python",
   "nbconvert_exporter": "python",
   "pygments_lexer": "ipython3",
   "version": "3.6.9-final"
  },
  "orig_nbformat": 2,
  "kernelspec": {
   "name": "python36964bit96b38543bc524d45aa4022ceee87892b",
   "display_name": "Python 3.6.9 64-bit",
   "language": "python"
  }
 },
 "nbformat": 4,
 "nbformat_minor": 2,
 "cells": [
  {
   "source": [
    "### Helper Utils"
   ],
   "cell_type": "markdown",
   "metadata": {}
  },
  {
   "cell_type": "code",
   "execution_count": 104,
   "metadata": {},
   "outputs": [],
   "source": [
    "def suffixArrayConstruction(text):\n",
    "    ordered_pairs = sorted([(text[i:],i) for i in range(len(text))])\n",
    "    suffix_array = [pair[1] for pair in ordered_pairs]\n",
    "    return suffix_array\n",
    "def greaterThan(p, p_):\n",
    "    if (p_[:len(p)] < p):\n",
    "        return True\n",
    "\n",
    "    return False\n",
    "\n",
    "def equalPatterns(p,p_):\n",
    "    if p_[:len(p)] == p :\n",
    "        return True\n",
    "    return False"
   ]
  },
  {
   "source": [
    "### Pattern Matching with the Suffix Array"
   ],
   "cell_type": "markdown",
   "metadata": {}
  },
  {
   "cell_type": "code",
   "execution_count": 120,
   "metadata": {},
   "outputs": [],
   "source": [
    "def patternMatchingSA(text, patterns,suffixArr):\n",
    "\n",
    "    minidx = 0\n",
    "    maxidx = len(text)-1\n",
    "    while minidx <= maxidx:\n",
    "        mididx = (minidx+maxidx)//2\n",
    "        if greaterThan(pattern,text[suffixArr[mididx]:]):\n",
    "            minidx = mididx+1\n",
    "        else:\n",
    "            maxidx = mididx-1\n",
    "\n",
    "    if equalPatterns(pattern,text[suffixArr[mididx]:suffixArr[mididx]+len(pattern)]):\n",
    "        first = suffixArr[minidx]\n",
    "    else:\n",
    "        return \n",
    "\n",
    "    maxidx = len(text)-1\n",
    "    while minidx <= maxidx:\n",
    "        mididx = (minidx+maxidx)//2\n",
    "        if text[suffixArr[mididx]:].startswith(pattern):\n",
    "            minidx = mididx+1\n",
    "        else:\n",
    "            maxidx = mididx-1\n",
    "    last= suffixArr[maxidx]\n",
    "    return (first, last)\n"
   ]
  },
  {
   "cell_type": "code",
   "execution_count": 119,
   "metadata": {},
   "outputs": [
    {
     "output_type": "stream",
     "name": "stdout",
     "text": [
      "1 4 11 15\n"
     ]
    }
   ],
   "source": [
    "f = open('test.txt')\n",
    "s = f.readline().strip()\n",
    "patterns = [i.strip() for i in f.readlines()]\n",
    "sArray = suffixArrayConstruction(s)\n",
    "positions = []\n",
    "for pattern in patterns:\n",
    "    pair = patternMatchingSA(s, pattern, sArray)\n",
    "    if pair is not None:\n",
    "        positions.append(pair)\n",
    "print(' '.join([str(pos) for pos in sorted([x for t in positions for x in t])]))\n"
   ]
  },
  {
   "source": [
    "### Construct the Burrows-Wheeler Transform of a String"
   ],
   "cell_type": "markdown",
   "metadata": {}
  },
  {
   "cell_type": "code",
   "execution_count": 2,
   "metadata": {},
   "outputs": [
    {
     "output_type": "stream",
     "name": "stdout",
     "text": [
      "ACTGGCT$TGCGGC\n"
     ]
    }
   ],
   "source": [
    "def constructBWTstring(text):\n",
    "    cycles = []\n",
    "\n",
    "    for i in range(len(text)):\n",
    "        shift = text[i:] + text[:i]\n",
    "        cycles.append(shift)\n",
    "\n",
    "    cycles = sorted(cycles)\n",
    "    bwt = ''\n",
    "    for cycle in cycles:\n",
    "        bwt += cycle[-1]\n",
    "    print(bwt)\n",
    "\n",
    "constructBWTstring(\"GCGTGCCTGGTCA$\")"
   ]
  },
  {
   "source": [
    "### Reconstruct a String from its Burrows-Wheeler Transform"
   ],
   "cell_type": "markdown",
   "metadata": {}
  },
  {
   "cell_type": "code",
   "execution_count": 22,
   "metadata": {},
   "outputs": [],
   "source": [
    "def index_symbol (column):\n",
    "    idx_tuple = {symbol:0 for symbol in column}\n",
    "    col = []\n",
    "    for symbol in column:\n",
    "        idx_tuple[symbol]+=1\n",
    "        col.append((symbol, idx_tuple[symbol]))\n",
    "    return col\n",
    "def decodeFromBWT(bwt):\n",
    "    first_col = ''.join(sorted([i for i in bwt]))\n",
    "    first_index_tuple = index_symbol(first_col)\n",
    "    last_col = bwt\n",
    "    last_index_tuple = index_symbol(last_col)\n",
    "    recons =''\n",
    "    symbol = ('$',1)\n",
    "\n",
    "    while len(recons)<len(bwt):\n",
    "        symbol = first_index_tuple[last_index_tuple.index(symbol)]\n",
    "        print(\"symbol -> \", symbol)\n",
    "        recons += symbol[0]\n",
    "    return recons[:-1]\n",
    "    "
   ]
  },
  {
   "cell_type": "code",
   "execution_count": 24,
   "metadata": {},
   "outputs": [
    {
     "output_type": "stream",
     "name": "stdout",
     "text": [
      "symbol ->  ('p', 1)\nsymbol ->  ('a', 3)\nsymbol ->  ('n', 1)\nsymbol ->  ('a', 2)\nsymbol ->  ('m', 1)\nsymbol ->  ('a', 1)\nsymbol ->  ('b', 1)\nsymbol ->  ('a', 4)\nsymbol ->  ('n', 2)\nsymbol ->  ('a', 5)\nsymbol ->  ('n', 3)\nsymbol ->  ('a', 6)\nsymbol ->  ('s', 1)\nsymbol ->  ('$', 1)\n"
     ]
    },
    {
     "output_type": "execute_result",
     "data": {
      "text/plain": [
       "'panamabananas'"
      ]
     },
     "metadata": {},
     "execution_count": 24
    }
   ],
   "source": [
    "decodeFromBWT(\"smnpbnnaaaaa$a\")"
   ]
  },
  {
   "source": [
    "### Generate the Last-to-First Mapping of a String"
   ],
   "cell_type": "markdown",
   "metadata": {}
  },
  {
   "cell_type": "code",
   "execution_count": 28,
   "metadata": {},
   "outputs": [
    {
     "output_type": "execute_result",
     "data": {
      "text/plain": [
       "1"
      ]
     },
     "metadata": {},
     "execution_count": 28
    }
   ],
   "source": [
    "def lastTofirstMap(transform, idx):\n",
    "    last_col = transform\n",
    "    first_col = sorted(transform)\n",
    "    last_index_tuple = index_symbol(last_col)\n",
    "    first_index_tuple = index_symbol(first_col)\n",
    "\n",
    "    mapped_idx = first_index_tuple.index(last_index_tuple[idx])\n",
    "    return mapped_idx\n",
    "\n",
    "lastTofirstMap(\"T$GACCA\", 3)  "
   ]
  },
  {
   "source": [
    "### Find All Occurrences of a Collection of Patterns in a String"
   ],
   "cell_type": "markdown",
   "metadata": {}
  },
  {
   "cell_type": "code",
   "execution_count": null,
   "metadata": {},
   "outputs": [],
   "source": []
  }
 ]
}