{
 "cells": [
  {
   "cell_type": "code",
   "execution_count": 3,
   "metadata": {},
   "outputs": [
    {
     "name": "stdout",
     "output_type": "stream",
     "text": [
      "Enabling notebook extension toc...\r\n",
      "      - Validating: \u001b[32mOK\u001b[0m\r\n"
     ]
    }
   ],
   "source": [
    "!jupyter nbextension enable toc"
   ]
  },
  {
   "cell_type": "markdown",
   "metadata": {},
   "source": [
    "### Compute the Number of Times a Pattern Appears in a Text "
   ]
  },
  {
   "cell_type": "code",
   "execution_count": 11,
   "metadata": {
    "tags": []
   },
   "outputs": [
    {
     "name": "stdout",
     "output_type": "stream",
     "text": [
      "2\n"
     ]
    }
   ],
   "source": [
    "def pattern_frequency(text, pattern):\n",
    "    count = 0;\n",
    "    for i in range (len(text)-len(pattern) + 1):\n",
    "        if text[i:i+len(pattern)] == pattern: \n",
    "            count+=1\n",
    "\n",
    "    return count\n",
    "print(pattern_frequency(\"GGACTTACTGACGTACG\", \"ACT\"))\n"
   ]
  },
  {
   "cell_type": "markdown",
   "metadata": {},
   "source": [
    "### Find the Most Frequent Words in a String"
   ]
  },
  {
   "cell_type": "code",
   "execution_count": 25,
   "metadata": {
    "tags": []
   },
   "outputs": [
    {
     "data": {
      "text/plain": [
       "['TGG']"
      ]
     },
     "execution_count": 25,
     "metadata": {},
     "output_type": "execute_result"
    }
   ],
   "source": [
    "from collections import Counter\n",
    "def most_frequent_pattern(text,n) :\n",
    "    subs = Counter(text[i:i+n] for i in range(len(text)-n+1))\n",
    "    max_value = max(subs.values())\n",
    "    return sorted(key for key, value in subs.items() if           value == max_value)\n",
    "\n",
    "most_frequent_pattern(\"TGGTAGCGACGTTGGTCCCGCCGCTTGAGAATCTGGATGAACATAAGCTCCCACTTGGCTTATTCAGAGAACTGGTCAACACTTGTCTCTCCCAGCCAGGTCTGACCACCGGGCAACTTTTAGAGCACTATCGTGGTACAAATAATGCTGCCAC\",3)"
   ]
  },
  {
   "cell_type": "markdown",
   "metadata": {},
   "source": [
    "### Find the Reverse Complement of a String"
   ]
  },
  {
   "cell_type": "code",
   "execution_count": 38,
   "metadata": {
    "tags": []
   },
   "outputs": [
    {
     "name": "stdout",
     "output_type": "stream",
     "text": [
      "GTGTGT"
     ]
    }
   ],
   "source": [
    "def reverse_complement(text):\n",
    "    text = text[::-1]\n",
    "    switcher = {\n",
    "        \"A\" : \"T\",\n",
    "        \"T\" : \"A\",\n",
    "        \"G\" : \"C\",\n",
    "        \"C\" : \"G\"}\n",
    "    for i in range(len(text)):\n",
    "        print(switcher.get(text[i]), end = \"\")\n",
    "\n",
    "reverse_complement(\"ACACAC\") "
   ]
  },
  {
   "cell_type": "markdown",
   "metadata": {},
   "source": [
    "### Count the number of occurrences of the different patterns of particular length from a text"
   ]
  },
  {
   "cell_type": "code",
   "execution_count": 45,
   "metadata": {
    "tags": []
   },
   "outputs": [
    {
     "name": "stdout",
     "output_type": "stream",
     "text": [
      "{'TGG': 6, 'GGT': 5, 'GTA': 2, 'TAG': 2, 'AGC': 4, 'GCG': 1, 'CGA': 1, 'GAC': 2, 'ACG': 1, 'CGT': 2, 'GTT': 1, 'TTG': 4, 'GTC': 4, 'TCC': 3, 'CCC': 3, 'CCG': 3, 'CGC': 2, 'GCC': 3, 'GCT': 4, 'CTT': 5, 'TGA': 3, 'GAG': 3, 'AGA': 4, 'GAA': 3, 'AAT': 3, 'ATC': 2, 'TCT': 4, 'CTG': 4, 'GGA': 1, 'GAT': 1, 'ATG': 2, 'AAC': 4, 'ACA': 3, 'CAT': 1, 'ATA': 2, 'TAA': 2, 'AAG': 1, 'CTC': 3, 'CCA': 5, 'CAC': 5, 'ACT': 5, 'GGC': 2, 'TTA': 2, 'TAT': 2, 'ATT': 1, 'TTC': 1, 'TCA': 2, 'CAG': 3, 'CAA': 3, 'TGT': 1, 'AGG': 1, 'ACC': 2, 'CGG': 1, 'GGG': 1, 'GCA': 2, 'TTT': 2, 'CTA': 1, 'TCG': 1, 'GTG': 1, 'TAC': 1, 'AAA': 1, 'TGC': 2}\n"
     ]
    }
   ],
   "source": [
    "def different_patterns(text,n) :\n",
    "    subs = dict(Counter(text[i:i+n] for i in range(len(text)-n+1)).items())\n",
    "    return subs\n",
    "\n",
    "print(different_patterns(\"TGGTAGCGACGTTGGTCCCGCCGCTTGAGAATCTGGATGAACATAAGCTCCCACTTGGCTTATTCAGAGAACTGGTCAACACTTGTCTCTCCCAGCCAGGTCTGACCACCGGGCAACTTTTAGAGCACTATCGTGGTACAAATAATGCTGCCAC\",3))"
   ]
  },
  {
   "cell_type": "markdown",
   "metadata": {},
   "source": [
    "### Multiplication of two matrix"
   ]
  },
  {
   "cell_type": "code",
   "execution_count": 46,
   "metadata": {
    "tags": []
   },
   "outputs": [
    {
     "name": "stdout",
     "output_type": "stream",
     "text": [
      "[[114, 160, 60, 27], [74, 97, 73, 14], [119, 157, 112, 23]]\n"
     ]
    }
   ],
   "source": [
    "def matrix_multiply(X, Y):\n",
    "    result = [[sum(a*b for a,b in zip(X_row,Y_col)) for Y_col in zip(*Y)] for X_row in X]\n",
    "    return result\n",
    "\n",
    "print(matrix_multiply([[12, 7, 3], \n",
    "    [4, 5, 6], \n",
    "    [7, 8, 9]] ,[[5, 8, 1, 2], \n",
    "    [6, 7, 3, 0], \n",
    "    [4, 5, 9, 1]] ))"
   ]
  },
  {
   "cell_type": "markdown",
   "metadata": {},
   "source": [
    "### Find All Occurrences of a Pattern in a String"
   ]
  },
  {
   "cell_type": "code",
   "execution_count": 48,
   "metadata": {
    "tags": []
   },
   "outputs": [
    {
     "name": "stdout",
     "output_type": "stream",
     "text": [
      "[1, 3, 9]\n"
     ]
    }
   ],
   "source": [
    "def all_pattern_occurance(pattern,text):\n",
    "    print([i for i in range(len(text)) if text.startswith(pattern, i)])\n",
    "\n",
    "all_pattern_occurance(\"ATAT\",\"GATATATGCATATACTT\")\n"
   ]
  },
  {
   "cell_type": "markdown",
   "metadata": {},
   "source": [
    "### Generate all possible pattern of length 3 of characters [a-z]"
   ]
  },
  {
   "cell_type": "code",
   "execution_count": 1,
   "metadata": {
    "tags": []
   },
   "outputs": [
    {
     "name": "stdout",
     "output_type": "stream",
     "text": [
      "aaa\n",
      "aab\n",
      "aac\n",
      "aba\n",
      "abb\n",
      "abc\n",
      "aca\n",
      "acb\n",
      "acc\n",
      "baa\n",
      "bab\n",
      "bac\n",
      "bba\n",
      "bbb\n",
      "bbc\n",
      "bca\n",
      "bcb\n",
      "bcc\n",
      "caa\n",
      "cab\n",
      "cac\n",
      "cba\n",
      "cbb\n",
      "cbc\n",
      "cca\n",
      "ccb\n",
      "ccc\n"
     ]
    }
   ],
   "source": [
    "import string\n",
    "import itertools\n",
    "def generate_strings(length):\n",
    "    chars = string.ascii_lowercase \n",
    "    for item in itertools.product(chars, repeat=length):\n",
    "        print( \"\".join(item))\n",
    "\n",
    "generate_strings(3)"
   ]
  }
 ],
 "metadata": {
  "interpreter": {
   "hash": "f5496cdbd07f30766f256b3a38047ed88acd06ea50b0a76ba18a94a84236e39f"
  },
  "kernelspec": {
   "display_name": "Python 3",
   "language": "python",
   "name": "python3"
  },
  "language_info": {
   "codemirror_mode": {
    "name": "ipython",
    "version": 3
   },
   "file_extension": ".py",
   "mimetype": "text/x-python",
   "name": "python",
   "nbconvert_exporter": "python",
   "pygments_lexer": "ipython3",
   "version": "3.8.10"
  }
 },
 "nbformat": 4,
 "nbformat_minor": 2
}
