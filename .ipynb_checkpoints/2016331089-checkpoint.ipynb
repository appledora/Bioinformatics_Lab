{
 "cells": [
  {
   "cell_type": "markdown",
   "metadata": {},
   "source": [
    "## Task Name: Trie Contruction\n"
   ]
  },
  {
   "cell_type": "code",
   "execution_count": 65,
   "metadata": {},
   "outputs": [],
   "source": [
    "\n",
    "\n",
    "def buildTrie (patterns):\n",
    "    trie = {0:{}}\n",
    "    idx = 1\n",
    "    for p in patterns : \n",
    "        cur = 0 #root \n",
    "        for base in p: \n",
    "            if base not in trie[cur]:\n",
    "                trie [cur][base] = idx #new node\n",
    "                trie[idx] = {}\n",
    "                cur = idx \n",
    "                idx += 1\n",
    "            else :\n",
    "                cur = trie[cur][base]\n",
    "    \n",
    "    return trie \n",
    "\n",
    "\n"
   ]
  },
  {
   "cell_type": "code",
   "execution_count": 66,
   "metadata": {},
   "outputs": [
    {
     "data": {
      "text/plain": [
       "{0: {'A': 1, 'G': 7},\n",
       " 1: {'T': 2},\n",
       " 2: {'A': 3, 'C': 6},\n",
       " 3: {'G': 4},\n",
       " 4: {'A': 5},\n",
       " 5: {},\n",
       " 6: {},\n",
       " 7: {'A': 8},\n",
       " 8: {'T': 9},\n",
       " 9: {}}"
      ]
     },
     "execution_count": 66,
     "metadata": {},
     "output_type": "execute_result"
    }
   ],
   "source": [
    "buildTrie([\"ATAGA\",\n",
    "\"ATC\",\n",
    "\"GAT\"])"
   ]
  },
  {
   "cell_type": "markdown",
   "metadata": {},
   "source": [
    "## Task Name : Implement Randomized Motif Search"
   ]
  },
  {
   "cell_type": "code",
   "execution_count": 67,
   "metadata": {},
   "outputs": [],
   "source": [
    "import numpy as np\n",
    "def random_string_generator(DNA,k) :\n",
    "    random_motifs = []\n",
    "    for d in DNA: \n",
    "        rand_idx = np.random.randint(0, len(d) - k)\n",
    "        rand_motif = d[rand_idx: rand_idx+k]\n",
    "        random_motifs.append(rand_motif)\n",
    "    return random_motifs\n",
    "def CountMatrix(motifs) :\n",
    "    k = len(motifs[0])\n",
    "    t = len(motifs)\n",
    "    count_dict = {\"A\":[0]*k,\"G\":[0]*k,\"T\":[0]*k,\"C\":[0]*k}\n",
    "    for i in range(t):\n",
    "        for j in range(k):\n",
    "            symbol = motifs[i][j]\n",
    "            count_dict[symbol][j] += 1\n",
    "    return count_dict\n",
    "\n",
    "def Profile(motifs):\n",
    "    count_dict = CountMatrix(motifs)\n",
    "    t = len(motifs)\n",
    "    k = len(motifs[0])\n",
    "\n",
    "    for i in count_dict:\n",
    "        for j in range(k):\n",
    "            count_dict[i][j] = float(count_dict[i][j])/ float(t)\n",
    "    return count_dict\n",
    "\n",
    "def calculateProbability(p, profile):\n",
    "    prob = 1.0\n",
    "    for i in range(len(p)): \n",
    "        prob *= profile[p[i]][i]\n",
    "    return prob \n",
    "\n",
    "def profileMostProbableKmer(s, k , profile) :\n",
    "    max_prob = -1.0\n",
    "    best_kmer = \"\"\n",
    "    for i in range(len(s) - k + 1):\n",
    "        pat = s[i:i+k]\n",
    "        prob = calculateProbability(pat, profile)\n",
    "        if prob >= max_prob :\n",
    "            best_kmer = pat \n",
    "            max_prob = prob\n",
    "    return best_kmer\n",
    "\n",
    "def Consensus(motifs):\n",
    "    profile = Profile(motifs)\n",
    "    cons = \"\"\n",
    "    k = len(motifs[0])\n",
    "    for i in range(k) :\n",
    "        max_prob = -1.0\n",
    "        bp = \"\"\n",
    "        for j in profile : \n",
    "            if profile[j][i] > max_prob : \n",
    "                max_prob = profile[j][i]\n",
    "                bp = j \n",
    "        cons += bp \n",
    "    return cons \n",
    "\n",
    "def Score(motifs):\n",
    "    consensus = Consensus(motifs)\n",
    "    count = CountMatrix(motifs)\n",
    "    score = len(consensus) * len(motifs)\n",
    "    k = 0\n",
    "    for symbol in consensus:\n",
    "        score -= count[symbol][k]\n",
    "        k+=1\n",
    "    \n",
    "    return score\n",
    "\n",
    "def randomizedMotifSearch(k, t, DNA):\n",
    "    random_motifs = random_string_generator(DNA, k)\n",
    "    # print(random_motifs)\n",
    "    BestMotifs = random_motifs\n",
    "\n",
    "    while True :\n",
    "        profile  = Profile(random_motifs)\n",
    "        random_motifs = []\n",
    "        for i in range(t):\n",
    "            pat = profileMostProbableKmer(DNA[i],k, profile)\n",
    "            random_motifs.append(pat)\n",
    "        if Score(random_motifs) < Score(BestMotifs) :\n",
    "            BestMotifs = random_motifs\n",
    "        else :\n",
    "            return BestMotifs"
   ]
  },
  {
   "cell_type": "code",
   "execution_count": 68,
   "metadata": {},
   "outputs": [
    {
     "data": {
      "text/plain": [
       "['CTCTCGGG', 'GGCGAGGT', 'CGAGACCG', 'CACGTCGG', 'CTCCACGT']"
      ]
     },
     "execution_count": 68,
     "metadata": {},
     "output_type": "execute_result"
    }
   ],
   "source": [
    "randomizedMotifSearch(8, 5,\n",
    "[\"CGCCCCTCTCGGGGGTGTTCAGTAAACGGCCA\",\n",
    "\"GGGCGAGGTATGTGTAAGTGCCAAGGTGCCAG\",\n",
    "\"TAGTACCGAGACCGAAAGAAGTATACAGGCGT\",\n",
    "\"TAGATCAAGTTTCAGGTGCACGTCGGTGAACC\",\n",
    "\"AATCCACCAGCTCCACGTGCAATGTTGGCCTA\"])"
   ]
  }
 ],
 "metadata": {
  "kernelspec": {
   "display_name": "Python 3.8.10 64-bit ('gigEnv': conda)",
   "language": "python",
   "name": "python3810jvsc74a57bd0f5496cdbd07f30766f256b3a38047ed88acd06ea50b0a76ba18a94a84236e39f"
  },
  "language_info": {
   "codemirror_mode": {
    "name": "ipython",
    "version": 3
   },
   "file_extension": ".py",
   "mimetype": "text/x-python",
   "name": "python",
   "nbconvert_exporter": "python",
   "pygments_lexer": "ipython3",
   "version": "3.8.10"
  },
  "metadata": {
   "interpreter": {
    "hash": "f5496cdbd07f30766f256b3a38047ed88acd06ea50b0a76ba18a94a84236e39f"
   }
  }
 },
 "nbformat": 4,
 "nbformat_minor": 2
}
