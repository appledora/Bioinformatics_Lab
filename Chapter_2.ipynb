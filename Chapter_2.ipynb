{
 "metadata": {
  "language_info": {
   "codemirror_mode": {
    "name": "ipython",
    "version": 3
   },
   "file_extension": ".py",
   "mimetype": "text/x-python",
   "name": "python",
   "nbconvert_exporter": "python",
   "pygments_lexer": "ipython3",
   "version": "3.6.9-final"
  },
  "orig_nbformat": 2,
  "kernelspec": {
   "name": "python36964bit96b38543bc524d45aa4022ceee87892b",
   "display_name": "Python 3.6.9 64-bit",
   "language": "python"
  }
 },
 "nbformat": 4,
 "nbformat_minor": 2,
 "cells": [
  {
   "source": [
    "## Helper Utils"
   ],
   "cell_type": "markdown",
   "metadata": {}
  },
  {
   "cell_type": "code",
   "execution_count": 14,
   "metadata": {},
   "outputs": [],
   "source": [
    "import string\n",
    "import itertools\n",
    "import numpy as np \n",
    "def generate_strings(length):\n",
    "    chars = [\"A\",\"C\",\"G\",\"T\"]\n",
    "    return (\"\".join(item) for item in itertools.product(chars, repeat=length))\n",
    "\n",
    "def getKmers(s, k):\n",
    "    for i in range(1 + len(s) - k):\n",
    "        yield s[i:i+k]\n",
    "\n",
    "def HammingDistance(p, q):\n",
    "    count = 0\n",
    "    for (i,j) in zip(p,q):\n",
    "        if i != j:\n",
    "            count += 1\n",
    "    return count\n",
    "\n",
    "def NeighborhoodofString(pattern, d):\n",
    "    if d == 0:\n",
    "        return [pattern]\n",
    "    if len(pattern) == 1:\n",
    "        return ['A', 'C', 'G', 'T']\n",
    "    neighborhood = []\n",
    "    sufneigh =NeighborhoodofString(pattern[1:],d)\n",
    "    for x in sufneigh:\n",
    "        if HammingDistance(pattern[1:],x) < d:\n",
    "            neighborhood.extend(['A'+x, 'C'+x, 'G'+x, 'T'+x])\n",
    "        else:\n",
    "            neighborhood.append(pattern[0] + x)\n",
    "    return neighborhood"
   ]
  },
  {
   "source": [
    "### (2A) Implement MOTIFENUMERATION"
   ],
   "cell_type": "markdown",
   "metadata": {}
  },
  {
   "cell_type": "code",
   "execution_count": 4,
   "metadata": {},
   "outputs": [
    {
     "output_type": "execute_result",
     "data": {
      "text/plain": [
       "{'ATA', 'ATT', 'GTT', 'TTT'}"
      ]
     },
     "metadata": {},
     "execution_count": 4
    }
   ],
   "source": [
    "def motifEnumeration(k, d, DNA):\n",
    "    pattern = set()\n",
    "    for combo in generate_strings(k): #gets combinations\n",
    "        if all(any(HammingDistance(combo, pat) <= d for pat in getKmers(string, k)) for string in DNA):\n",
    "            pattern.add(combo)\n",
    "    return pattern \n",
    "\n",
    "motifEnumeration(3, 1,\n",
    "[\"ATTTGGC\",\n",
    "\"TGCCTTA\",\n",
    "\"CGGTATC\",\n",
    "\"GAAAATT\"])"
   ]
  },
  {
   "source": [
    "### (2B) Find a Median String"
   ],
   "cell_type": "markdown",
   "metadata": {}
  },
  {
   "cell_type": "code",
   "execution_count": 7,
   "metadata": {},
   "outputs": [
    {
     "output_type": "execute_result",
     "data": {
      "text/plain": [
       "'ACG'"
      ]
     },
     "metadata": {},
     "execution_count": 7
    }
   ],
   "source": [
    "def DiffBetweenPatternandStrings(pattern, dna): # minimizes the sum of hamming distances to the given dnas with a pattern\n",
    "    k =  len(pattern)\n",
    "    diff = 0;\n",
    "    for d in dna:\n",
    "        ham_distance = 2 ** 31\n",
    "        for i in range (len(d) - k + 1):\n",
    "            pattern_ = d[i : i+k]\n",
    "            if (HammingDistance(pattern,pattern_) < ham_distance):\n",
    "                ham_distance = HammingDistance(pattern,pattern_)\n",
    "        diff = diff + ham_distance\n",
    "\n",
    "    return diff\n",
    "\n",
    "def MedianString(k, dna) : # A string that minimizes the sum of distances to the strings of a given set \n",
    "    diff = 2 ** 31 \n",
    "    kmers = generate_strings(k)\n",
    "    median = \"\"\n",
    "    for kmer in kmers:\n",
    "        temp_diff =  DiffBetweenPatternandStrings(kmer, dna)\n",
    "        if (temp_diff < diff) :\n",
    "            diff =  temp_diff\n",
    "            median = kmer\n",
    "\n",
    "    return median\n",
    "\n",
    "MedianString(3,\n",
    "[\"AAATTGACGCAT\",\n",
    "\"GACGACCACGTT\",\n",
    "\"CGTCAGCGCCTG\",\n",
    "\"GCTGAGCACCGG\",\n",
    "\"AGTACGGGACAG\"])"
   ]
  },
  {
   "source": [
    "### (2C) Find a Profile-most Probable k-mer in a String"
   ],
   "cell_type": "markdown",
   "metadata": {}
  },
  {
   "cell_type": "code",
   "execution_count": 8,
   "metadata": {},
   "outputs": [],
   "source": [
    "def calculateProbability(pattern, profile_mat): # given a profile, calculates the probability of a string occuring \n",
    "    temp_pr = 1.0\n",
    "    for j in range(len(pattern)):\n",
    "        if(pattern[j] == \"A\"):\n",
    "            temp_pr  = temp_pr * profile_mat [\"A\"][j]\n",
    "        elif(pattern[j] == \"C\"):\n",
    "            temp_pr  = temp_pr * profile_mat [\"C\"][j]\n",
    "        elif(pattern[j] == \"G\"):\n",
    "            temp_pr  = temp_pr * profile_mat [\"G\"][j]\n",
    "        elif(pattern[j] == \"T\"):\n",
    "            temp_pr  = temp_pr * profile_mat [\"T\"][j]\n",
    "    return temp_pr\n",
    "\n",
    "\n",
    "def ProfileMostProbableKmer(text, k, profile):\n",
    "    max_p = -1\n",
    "    most_probable_kmer = ''\n",
    "    for i in range(len(text)-k+1):\n",
    "        pattern = text[i: i+k]\n",
    "        p = calculateProbability(pattern, profile)\n",
    "        if p > max_p:\n",
    "            max_p = p\n",
    "            most_probable_kmer = pattern           \n",
    "    return most_probable_kmer"
   ]
  },
  {
   "source": [
    "### (2D) Implement GREEDYMOTIFSEARCH"
   ],
   "cell_type": "markdown",
   "metadata": {}
  },
  {
   "cell_type": "code",
   "execution_count": 10,
   "metadata": {},
   "outputs": [
    {
     "output_type": "stream",
     "name": "stdout",
     "text": [
      "Count: \n {'A': [1, 0, 0, 0], 'C': [0, 1, 1, 0], 'G': [0, 0, 0, 0], 'T': [0, 0, 0, 1]}\nintmed Profile for  ['ACCT']\n{'A': [1.0, 0.0, 0.0, 0.0], 'C': [0.0, 1.0, 1.0, 0.0], 'G': [0.0, 0.0, 0.0, 0.0], 'T': [0.0, 0.0, 0.0, 1.0]}\nPMP kmer for  AGTTGG  is:  AGTT\nCount: \n {'A': [2, 0, 0, 0], 'C': [0, 1, 1, 0], 'G': [0, 1, 0, 0], 'T': [0, 0, 1, 2]}\nintmed Profile for  ['ACCT', 'AGTT']\n{'A': [1.0, 0.0, 0.0, 0.0], 'C': [0.0, 0.5, 0.5, 0.0], 'G': [0.0, 0.5, 0.0, 0.0], 'T': [0.0, 0.0, 0.5, 1.0]}\nPMP kmer for  CCGTTC  is:  CCGT\nCount: \n {'A': [2, 0, 0, 0], 'C': [1, 2, 1, 0], 'G': [0, 1, 1, 0], 'T': [0, 0, 1, 3]}\nintmed Profile for  ['ACCT', 'AGTT', 'CCGT']\n{'A': [0.6666666666666666, 0.0, 0.0, 0.0], 'C': [0.3333333333333333, 0.6666666666666666, 0.3333333333333333, 0.0], 'G': [0.0, 0.3333333333333333, 0.3333333333333333, 0.0], 'T': [0.0, 0.0, 0.3333333333333333, 1.0]}\nPMP kmer for  ACGTAA  is:  ACGT\ncurrent motifs:  ['ACCT', 'AGTT', 'CCGT', 'ACGT']\n..........................................................................................\nCount: \n {'A': [0, 0, 0, 1], 'C': [1, 1, 0, 0], 'G': [0, 0, 0, 0], 'T': [0, 0, 1, 0]}\nintmed Profile for  ['CCTA']\n{'A': [0.0, 0.0, 0.0, 1.0], 'C': [1.0, 1.0, 0.0, 0.0], 'G': [0.0, 0.0, 0.0, 0.0], 'T': [0.0, 0.0, 1.0, 0.0]}\nPMP kmer for  AGTTGG  is:  AGTT\nCount: \n {'A': [1, 0, 0, 1], 'C': [1, 1, 0, 0], 'G': [0, 1, 0, 0], 'T': [0, 0, 2, 1]}\nintmed Profile for  ['CCTA', 'AGTT']\n{'A': [0.5, 0.0, 0.0, 0.5], 'C': [0.5, 0.5, 0.0, 0.0], 'G': [0.0, 0.5, 0.0, 0.0], 'T': [0.0, 0.0, 1.0, 0.5]}\nPMP kmer for  CCGTTC  is:  CGTT\nCount: \n {'A': [1, 0, 0, 1], 'C': [2, 1, 0, 0], 'G': [0, 2, 0, 0], 'T': [0, 0, 3, 2]}\nintmed Profile for  ['CCTA', 'AGTT', 'CGTT']\n{'A': [0.3333333333333333, 0.0, 0.0, 0.3333333333333333], 'C': [0.6666666666666666, 0.3333333333333333, 0.0, 0.0], 'G': [0.0, 0.6666666666666666, 0.0, 0.0], 'T': [0.0, 0.0, 1.0, 0.6666666666666666]}\nPMP kmer for  ACGTAA  is:  CGTA\ncurrent motifs:  ['CCTA', 'AGTT', 'CGTT', 'CGTA']\n..........................................................................................\nCount: \n {'A': [0, 0, 1, 0], 'C': [1, 0, 0, 0], 'G': [0, 0, 0, 0], 'T': [0, 1, 0, 1]}\nintmed Profile for  ['CTAT']\n{'A': [0.0, 0.0, 1.0, 0.0], 'C': [1.0, 0.0, 0.0, 0.0], 'G': [0.0, 0.0, 0.0, 0.0], 'T': [0.0, 1.0, 0.0, 1.0]}\nPMP kmer for  AGTTGG  is:  AGTT\nCount: \n {'A': [1, 0, 1, 0], 'C': [1, 0, 0, 0], 'G': [0, 1, 0, 0], 'T': [0, 1, 1, 2]}\nintmed Profile for  ['CTAT', 'AGTT']\n{'A': [0.5, 0.0, 0.5, 0.0], 'C': [0.5, 0.0, 0.0, 0.0], 'G': [0.0, 0.5, 0.0, 0.0], 'T': [0.0, 0.5, 0.5, 1.0]}\nPMP kmer for  CCGTTC  is:  CGTT\nCount: \n {'A': [1, 0, 1, 0], 'C': [2, 0, 0, 0], 'G': [0, 2, 0, 0], 'T': [0, 1, 2, 3]}\nintmed Profile for  ['CTAT', 'AGTT', 'CGTT']\n{'A': [0.3333333333333333, 0.0, 0.3333333333333333, 0.0], 'C': [0.6666666666666666, 0.0, 0.0, 0.0], 'G': [0.0, 0.6666666666666666, 0.0, 0.0], 'T': [0.0, 0.3333333333333333, 0.6666666666666666, 1.0]}\nPMP kmer for  ACGTAA  is:  ACGT\ncurrent motifs:  ['CTAT', 'AGTT', 'CGTT', 'ACGT']\n..........................................................................................\n"
     ]
    },
    {
     "output_type": "execute_result",
     "data": {
      "text/plain": [
       "['ACCT', 'AGTT', 'CCGT', 'ACGT']"
      ]
     },
     "metadata": {},
     "execution_count": 10
    }
   ],
   "source": [
    "def Count(Motifs):\n",
    "    count = {} # initializing the 4xk count dictionary\n",
    "    k = len(Motifs[0])\n",
    "    count = {'A':[0]*k,'C':[0]*k,'G':[0]*k,'T':[0]*k}\n",
    "    \n",
    "    t = len(Motifs)\n",
    "    for i in range(t):\n",
    "        for j in range(k):\n",
    "            symbol = Motifs[i][j]\n",
    "            count[symbol][j] += 1\n",
    "    return count\n",
    "\n",
    "def Consensus(Motifs): # get the consensus string for given motifs by picking the most frequent symbol in each column\n",
    "    k = len(Motifs[0])\n",
    "    count = Count(Motifs)\n",
    "    consensus = \"\"\n",
    "    for j in range(k):\n",
    "        m = 0\n",
    "        frequentSymbol = \"\"\n",
    "        for symbol in \"ACGT\":\n",
    "            if count[symbol][j] > m:\n",
    "                m = count[symbol][j]\n",
    "                frequentSymbol = symbol\n",
    "        consensus += frequentSymbol\n",
    "    return consensus\n",
    "\n",
    "def Profile(Motifs): ## generate profile matrix from motifs\n",
    "    t = len(Motifs)\n",
    "    k = len(Motifs[0])\n",
    "    profile = Count(Motifs)\n",
    "    print(\"Count: \\n\", profile)\n",
    "\n",
    "    for i in profile:  \n",
    "        for j in range(k):\n",
    "           profile[i][j] = float(profile[i][j])/float(t)   \n",
    "    return profile\n",
    "\n",
    "def Score(Motifs):\n",
    "    consensus = Consensus(Motifs) #consensus string\n",
    "    counts = Count(Motifs) # count matrix\n",
    "    score = len(Motifs)*len(consensus) \n",
    "    i = 0\n",
    "    for symbol in consensus:  \n",
    "        score -= counts[symbol][i] \n",
    "        i += 1\n",
    "    return score \n",
    "\n",
    "def GreedyMotifSearch(Dna, k, t):\n",
    "    BestMotifs = []\n",
    "    for i in range(0, t):\n",
    "        BestMotifs.append(Dna[i][0:k]) # first k-mers from each of the dna strings\n",
    "    \n",
    "    n = len(Dna[0]) \n",
    "    for i in range(n-k+1):\n",
    "        Motifs = []\n",
    "        Motifs.append(Dna[0][i:i+k]) # kmer from 1st string\n",
    "        for j in range(1, t): #for rest of the strings\n",
    "            P = Profile(Motifs[0:j]) # successively calculates profile matrix by adding one string per iteration\n",
    "            print(\"intmed Profile for \", Motifs[0:j])\n",
    "            print(P)\n",
    "            Motifs.append(ProfileMostProbableKmer(Dna[j], k, P))\n",
    "            print(\"PMP kmer for \",Dna[j],\" is: \",ProfileMostProbableKmer(Dna[j], k, P))\n",
    "\n",
    "        print(\"current motifs: \", Motifs)\n",
    "        if Score(Motifs) < Score(BestMotifs):\n",
    "            BestMotifs = Motifs\n",
    "        print(\"..........................................................................................\")\n",
    "    return BestMotifs\n",
    "\n",
    "GreedyMotifSearch([\"ACCTAT\", \"AGTTGG\", \"CCGTTC\", \"ACGTAA\"], 4, 4)"
   ]
  },
  {
   "source": [
    "### (2E) Implement GREEDYMOTIFSEARCH with Pseudocounts"
   ],
   "cell_type": "markdown",
   "metadata": {}
  },
  {
   "cell_type": "code",
   "execution_count": 21,
   "metadata": {},
   "outputs": [
    {
     "output_type": "execute_result",
     "data": {
      "text/plain": [
       "['TTC', 'ATC', 'TTC', 'ATC', 'TTC']"
      ]
     },
     "metadata": {},
     "execution_count": 21
    }
   ],
   "source": [
    "def CountWithPseudo(Motifs):\n",
    "    count = {}\n",
    "    k = len(Motifs[0])\n",
    "    for symbol in \"ACGT\":\n",
    "        count[symbol] = []\n",
    "        for j in range(k):\n",
    "            count[symbol].append(1)\n",
    "    t = len(Motifs)\n",
    "    for i in range(t):\n",
    "        for j in range(k):\n",
    "            symbol = Motifs[i][j]\n",
    "            count[symbol][j] += 1 \n",
    "    return count\n",
    "\n",
    "def ProfileWithPseudoCount(Motifs,pseudocount):\n",
    "    t = len(Motifs)\n",
    "    k = len(Motifs[0])\n",
    "    count = CountWithPseudo(Motifs)\n",
    "    profile = {}\n",
    "    for letter in count.keys():\n",
    "        profile[letter] = [float(x)/ (t+ (pseudocount*4)) for x in count[letter]]\n",
    "    return profile  \n",
    "\n",
    "def GreedyMotifSearchWithPseudocounts( k, t, Dna,):\n",
    "    BestMotifs = []\n",
    "    pseudocount = 1\n",
    "    for i in range(0, t):\n",
    "        BestMotifs.append(Dna[i][0:k]) \n",
    "    \n",
    "    n = len(Dna[0]) \n",
    "    for i in range(n-k+1):\n",
    "        Motifs = []\n",
    "        Motifs.append(Dna[0][i:i+k])\n",
    "        for j in range(1, t):\n",
    "            P = ProfileWithPseudoCount(Motifs[0:j],pseudocount) \n",
    "            Motifs.append(ProfileMostProbableKmer(Dna[j], k, P))\n",
    "    \n",
    "        if Score(Motifs) < Score(BestMotifs):\n",
    "            BestMotifs = Motifs\n",
    "    return BestMotifs\n",
    "\n",
    "GreedyMotifSearchWithPseudocounts(3, 5,\n",
    "[\"GGCGTTCAGGCA\",\n",
    "\"AAGAATCAGTCA\",\n",
    "\"CAAGGAGTTCGC\",\n",
    "\"CACGTCAATCAC\",\n",
    "\"CAATAATATTCG\"])\n"
   ]
  },
  {
   "source": [
    "### (2F) Implement RANDOMIZEDMOTIFSEARCH"
   ],
   "cell_type": "markdown",
   "metadata": {}
  },
  {
   "cell_type": "code",
   "execution_count": 16,
   "metadata": {},
   "outputs": [
    {
     "output_type": "stream",
     "name": "stdout",
     "text": [
      "Count: \n {'A': [2, 0, 1, 2, 2, 3, 3, 1], 'C': [2, 3, 1, 0, 1, 0, 1, 0], 'G': [0, 2, 1, 3, 1, 2, 0, 3], 'T': [1, 0, 2, 0, 1, 0, 1, 1]}\nCount: \n {'A': [2, 0, 0, 1, 2, 4, 4, 1], 'C': [1, 2, 1, 0, 1, 0, 1, 0], 'G': [0, 3, 1, 4, 0, 1, 0, 3], 'T': [2, 0, 3, 0, 2, 0, 0, 1]}\n"
     ]
    },
    {
     "output_type": "execute_result",
     "data": {
      "text/plain": [
       "['AGTAAACG', 'TGTGTAAG', 'ACCGAAAG', 'TCGGTGAA', 'CGTGCAAT']"
      ]
     },
     "metadata": {},
     "execution_count": 16
    }
   ],
   "source": [
    "def MotifFromProfile(Dna, k, profile):\n",
    "    motifs=[]\n",
    "    for i in range(len(Dna)):\n",
    "        motifs.append(ProfileMostProbableKmer(Dna[i],k,profile))\n",
    "    return motifs\n",
    "\n",
    "def RandomMotifs(Dna, k):\n",
    "    result = []\n",
    "    for string in Dna:\n",
    "        index = np.random.randint(0, len(string) - k)\n",
    "        result.append(string[index:index + k])\n",
    "    return result\n",
    "\n",
    "def RandomizedMotifSearch(Dna,k, t):\n",
    "    motifs = RandomMotifs(Dna,k)\n",
    "    bestMotifs = motifs\n",
    "    while True:\n",
    "        profile_mat = Profile(motifs)\n",
    "        motifs = MotifFromProfile(Dna,k,profile_mat)\n",
    "        if Score(motifs) < Score(bestMotifs):\n",
    "            bestMotifs = motifs\n",
    "        else:\n",
    "            return bestMotifs\n",
    "\n",
    "RandomizedMotifSearch(\n",
    "[\"CGCCCCTCTCGGGGGTGTTCAGTAAACGGCCA\",\n",
    "\"GGGCGAGGTATGTGTAAGTGCCAAGGTGCCAG\",\n",
    "\"TAGTACCGAGACCGAAAGAAGTATACAGGCGT\",\n",
    "\"TAGATCAAGTTTCAGGTGCACGTCGGTGAACC\",\n",
    "\"AATCCACCAGCTCCACGTGCAATGTTGGCCTA\"],\n",
    "8, 5)"
   ]
  },
  {
   "source": [
    "### (2G) Implement GIBBSSAMPLER"
   ],
   "cell_type": "markdown",
   "metadata": {}
  },
  {
   "cell_type": "code",
   "execution_count": 19,
   "metadata": {},
   "outputs": [
    {
     "output_type": "stream",
     "name": "stdout",
     "text": [
      "Count: \n {'A': [3, 1, 1, 0, 0, 0, 2, 2], 'C': [0, 0, 0, 1, 1, 2, 2, 1], 'G': [0, 3, 1, 0, 2, 2, 0, 1], 'T': [1, 0, 2, 3, 1, 0, 0, 0]}\nCount: \n {'A': [3, 2, 2, 0, 0, 0, 1, 2], 'C': [0, 0, 0, 2, 1, 1, 3, 2], 'G': [0, 2, 1, 0, 3, 3, 0, 0], 'T': [1, 0, 1, 2, 0, 0, 0, 0]}\nCount: \n {'A': [3, 1, 2, 0, 0, 0, 2, 1], 'C': [0, 0, 0, 2, 1, 1, 2, 3], 'G': [0, 3, 1, 0, 3, 3, 0, 0], 'T': [1, 0, 1, 2, 0, 0, 0, 0]}\nCount: \n {'A': [3, 1, 2, 0, 0, 0, 1, 2], 'C': [0, 0, 0, 2, 1, 1, 3, 2], 'G': [0, 3, 1, 0, 3, 3, 0, 0], 'T': [1, 0, 1, 2, 0, 0, 0, 0]}\nCount: \n {'A': [4, 1, 2, 0, 0, 0, 2, 2], 'C': [0, 0, 0, 2, 1, 2, 2, 2], 'G': [0, 3, 2, 0, 3, 2, 0, 0], 'T': [0, 0, 0, 2, 0, 0, 0, 0]}\nCount: \n {'A': [4, 2, 2, 0, 0, 1, 2, 1], 'C': [0, 0, 0, 3, 2, 1, 2, 3], 'G': [0, 2, 1, 0, 2, 2, 0, 0], 'T': [0, 0, 1, 1, 0, 0, 0, 0]}\nCount: \n {'A': [4, 2, 2, 0, 0, 0, 2, 2], 'C': [0, 0, 0, 2, 1, 2, 2, 2], 'G': [0, 2, 2, 0, 3, 2, 0, 0], 'T': [0, 0, 0, 2, 0, 0, 0, 0]}\nCount: \n {'A': [4, 2, 2, 0, 0, 1, 2, 1], 'C': [0, 0, 0, 3, 2, 1, 2, 3], 'G': [0, 2, 1, 0, 2, 2, 0, 0], 'T': [0, 0, 1, 1, 0, 0, 0, 0]}\nCount: \n {'A': [4, 2, 2, 0, 0, 1, 2, 1], 'C': [0, 0, 0, 3, 2, 1, 2, 3], 'G': [0, 2, 1, 0, 2, 2, 0, 0], 'T': [0, 0, 1, 1, 0, 0, 0, 0]}\nCount: \n {'A': [4, 3, 1, 0, 0, 1, 1, 1], 'C': [0, 0, 0, 2, 1, 2, 3, 3], 'G': [0, 1, 2, 0, 3, 1, 0, 0], 'T': [0, 0, 1, 2, 0, 0, 0, 0]}\nCount: \n {'A': [4, 3, 1, 0, 0, 1, 1, 1], 'C': [0, 0, 0, 2, 1, 2, 3, 3], 'G': [0, 1, 2, 0, 3, 1, 0, 0], 'T': [0, 0, 1, 2, 0, 0, 0, 0]}\nCount: \n {'A': [4, 3, 2, 0, 0, 1, 1, 2], 'C': [0, 0, 0, 3, 2, 1, 3, 2], 'G': [0, 1, 1, 0, 2, 2, 0, 0], 'T': [0, 0, 1, 1, 0, 0, 0, 0]}\nCount: \n {'A': [4, 3, 1, 0, 0, 1, 1, 1], 'C': [0, 0, 0, 2, 1, 2, 3, 3], 'G': [0, 1, 2, 0, 3, 1, 0, 0], 'T': [0, 0, 1, 2, 0, 0, 0, 0]}\nCount: \n {'A': [4, 3, 2, 0, 0, 1, 1, 2], 'C': [0, 0, 0, 3, 2, 1, 3, 2], 'G': [0, 1, 1, 0, 2, 2, 0, 0], 'T': [0, 0, 1, 1, 0, 0, 0, 0]}\nCount: \n {'A': [4, 3, 2, 0, 0, 1, 1, 2], 'C': [0, 0, 0, 3, 2, 1, 3, 2], 'G': [0, 1, 1, 0, 2, 2, 0, 0], 'T': [0, 0, 1, 1, 0, 0, 0, 0]}\nCount: \n {'A': [4, 2, 2, 0, 0, 1, 2, 1], 'C': [0, 0, 0, 3, 2, 1, 2, 3], 'G': [0, 2, 1, 0, 2, 2, 0, 0], 'T': [0, 0, 1, 1, 0, 0, 0, 0]}\nCount: \n {'A': [4, 2, 1, 0, 0, 1, 2, 2], 'C': [0, 0, 0, 2, 2, 2, 2, 2], 'G': [0, 2, 2, 0, 2, 1, 0, 0], 'T': [0, 0, 1, 2, 0, 0, 0, 0]}\nCount: \n {'A': [4, 2, 2, 0, 0, 1, 2, 1], 'C': [0, 0, 0, 3, 2, 1, 2, 3], 'G': [0, 2, 1, 0, 2, 2, 0, 0], 'T': [0, 0, 1, 1, 0, 0, 0, 0]}\nCount: \n {'A': [4, 3, 1, 0, 0, 1, 1, 1], 'C': [0, 0, 0, 2, 1, 2, 3, 3], 'G': [0, 1, 2, 0, 3, 1, 0, 0], 'T': [0, 0, 1, 2, 0, 0, 0, 0]}\nCount: \n {'A': [4, 2, 2, 0, 0, 0, 2, 2], 'C': [0, 0, 0, 2, 1, 2, 2, 2], 'G': [0, 2, 2, 0, 3, 2, 0, 0], 'T': [0, 0, 0, 2, 0, 0, 0, 0]}\nCount: \n {'A': [4, 3, 2, 0, 0, 1, 1, 2], 'C': [0, 0, 0, 3, 2, 1, 3, 2], 'G': [0, 1, 1, 0, 2, 2, 0, 0], 'T': [0, 0, 1, 1, 0, 0, 0, 0]}\nCount: \n {'A': [4, 2, 2, 0, 0, 1, 2, 1], 'C': [0, 0, 0, 3, 2, 1, 2, 3], 'G': [0, 2, 1, 0, 2, 2, 0, 0], 'T': [0, 0, 1, 1, 0, 0, 0, 0]}\nCount: \n {'A': [4, 2, 1, 0, 0, 1, 2, 2], 'C': [0, 0, 0, 2, 2, 2, 2, 2], 'G': [0, 2, 2, 0, 2, 1, 0, 0], 'T': [0, 0, 1, 2, 0, 0, 0, 0]}\nCount: \n {'A': [4, 2, 1, 0, 0, 1, 2, 2], 'C': [0, 0, 0, 2, 2, 2, 2, 2], 'G': [0, 2, 2, 0, 2, 1, 0, 0], 'T': [0, 0, 1, 2, 0, 0, 0, 0]}\nCount: \n {'A': [4, 2, 2, 0, 0, 1, 2, 1], 'C': [0, 0, 0, 3, 2, 1, 2, 3], 'G': [0, 2, 1, 0, 2, 2, 0, 0], 'T': [0, 0, 1, 1, 0, 0, 0, 0]}\nCount: \n {'A': [4, 3, 2, 0, 0, 1, 1, 2], 'C': [0, 0, 0, 3, 2, 1, 3, 2], 'G': [0, 1, 1, 0, 2, 2, 0, 0], 'T': [0, 0, 1, 1, 0, 0, 0, 0]}\nCount: \n {'A': [4, 2, 2, 0, 0, 1, 2, 1], 'C': [0, 0, 0, 3, 2, 1, 2, 3], 'G': [0, 2, 1, 0, 2, 2, 0, 0], 'T': [0, 0, 1, 1, 0, 0, 0, 0]}\nCount: \n {'A': [4, 3, 1, 0, 0, 1, 1, 1], 'C': [0, 0, 0, 2, 1, 2, 3, 3], 'G': [0, 1, 2, 0, 3, 1, 0, 0], 'T': [0, 0, 1, 2, 0, 0, 0, 0]}\nCount: \n {'A': [4, 3, 1, 0, 0, 1, 1, 1], 'C': [0, 0, 0, 2, 1, 2, 3, 3], 'G': [0, 1, 2, 0, 3, 1, 0, 0], 'T': [0, 0, 1, 2, 0, 0, 0, 0]}\nCount: \n {'A': [4, 2, 2, 0, 0, 0, 2, 2], 'C': [0, 0, 0, 2, 1, 2, 2, 2], 'G': [0, 2, 2, 0, 3, 2, 0, 0], 'T': [0, 0, 0, 2, 0, 0, 0, 0]}\nCount: \n {'A': [4, 3, 1, 0, 0, 1, 1, 1], 'C': [0, 0, 0, 2, 1, 2, 3, 3], 'G': [0, 1, 2, 0, 3, 1, 0, 0], 'T': [0, 0, 1, 2, 0, 0, 0, 0]}\nCount: \n {'A': [4, 3, 1, 0, 0, 1, 1, 1], 'C': [0, 0, 0, 2, 1, 2, 3, 3], 'G': [0, 1, 2, 0, 3, 1, 0, 0], 'T': [0, 0, 1, 2, 0, 0, 0, 0]}\nCount: \n {'A': [4, 3, 1, 0, 0, 1, 1, 1], 'C': [0, 0, 0, 2, 1, 2, 3, 3], 'G': [0, 1, 2, 0, 3, 1, 0, 0], 'T': [0, 0, 1, 2, 0, 0, 0, 0]}\nCount: \n {'A': [4, 3, 1, 0, 0, 1, 1, 1], 'C': [0, 0, 0, 2, 1, 2, 3, 3], 'G': [0, 1, 2, 0, 3, 1, 0, 0], 'T': [0, 0, 1, 2, 0, 0, 0, 0]}\nCount: \n {'A': [4, 3, 1, 0, 0, 1, 1, 1], 'C': [0, 0, 0, 2, 1, 2, 3, 3], 'G': [0, 1, 2, 0, 3, 1, 0, 0], 'T': [0, 0, 1, 2, 0, 0, 0, 0]}\nCount: \n {'A': [4, 2, 2, 0, 0, 0, 2, 2], 'C': [0, 0, 0, 2, 1, 2, 2, 2], 'G': [0, 2, 2, 0, 3, 2, 0, 0], 'T': [0, 0, 0, 2, 0, 0, 0, 0]}\nCount: \n {'A': [4, 2, 2, 0, 0, 0, 2, 2], 'C': [0, 0, 0, 2, 1, 2, 2, 2], 'G': [0, 2, 2, 0, 3, 2, 0, 0], 'T': [0, 0, 0, 2, 0, 0, 0, 0]}\nCount: \n {'A': [4, 3, 2, 0, 0, 1, 1, 2], 'C': [0, 0, 0, 3, 2, 1, 3, 2], 'G': [0, 1, 1, 0, 2, 2, 0, 0], 'T': [0, 0, 1, 1, 0, 0, 0, 0]}\nCount: \n {'A': [4, 3, 1, 0, 0, 1, 1, 1], 'C': [0, 0, 0, 2, 1, 2, 3, 3], 'G': [0, 1, 2, 0, 3, 1, 0, 0], 'T': [0, 0, 1, 2, 0, 0, 0, 0]}\nCount: \n {'A': [4, 3, 2, 0, 0, 1, 1, 2], 'C': [0, 0, 0, 3, 2, 1, 3, 2], 'G': [0, 1, 1, 0, 2, 2, 0, 0], 'T': [0, 0, 1, 1, 0, 0, 0, 0]}\nCount: \n {'A': [4, 3, 1, 0, 0, 1, 1, 1], 'C': [0, 0, 0, 2, 1, 2, 3, 3], 'G': [0, 1, 2, 0, 3, 1, 0, 0], 'T': [0, 0, 1, 2, 0, 0, 0, 0]}\nCount: \n {'A': [4, 2, 2, 0, 0, 1, 2, 1], 'C': [0, 0, 0, 3, 2, 1, 2, 3], 'G': [0, 2, 1, 0, 2, 2, 0, 0], 'T': [0, 0, 1, 1, 0, 0, 0, 0]}\nCount: \n {'A': [4, 3, 1, 0, 0, 1, 1, 1], 'C': [0, 0, 0, 2, 1, 2, 3, 3], 'G': [0, 1, 2, 0, 3, 1, 0, 0], 'T': [0, 0, 1, 2, 0, 0, 0, 0]}\nCount: \n {'A': [4, 2, 2, 0, 0, 0, 2, 2], 'C': [0, 0, 0, 2, 1, 2, 2, 2], 'G': [0, 2, 2, 0, 3, 2, 0, 0], 'T': [0, 0, 0, 2, 0, 0, 0, 0]}\nCount: \n {'A': [4, 2, 2, 0, 0, 1, 2, 1], 'C': [0, 0, 0, 3, 2, 1, 2, 3], 'G': [0, 2, 1, 0, 2, 2, 0, 0], 'T': [0, 0, 1, 1, 0, 0, 0, 0]}\nCount: \n {'A': [4, 2, 2, 0, 0, 1, 2, 1], 'C': [0, 0, 0, 3, 2, 1, 2, 3], 'G': [0, 2, 1, 0, 2, 2, 0, 0], 'T': [0, 0, 1, 1, 0, 0, 0, 0]}\nCount: \n {'A': [4, 2, 2, 0, 0, 1, 2, 1], 'C': [0, 0, 0, 3, 2, 1, 2, 3], 'G': [0, 2, 1, 0, 2, 2, 0, 0], 'T': [0, 0, 1, 1, 0, 0, 0, 0]}\nCount: \n {'A': [4, 2, 2, 0, 0, 0, 2, 2], 'C': [0, 0, 0, 2, 1, 2, 2, 2], 'G': [0, 2, 2, 0, 3, 2, 0, 0], 'T': [0, 0, 0, 2, 0, 0, 0, 0]}\nCount: \n {'A': [4, 2, 2, 0, 0, 1, 2, 1], 'C': [0, 0, 0, 3, 2, 1, 2, 3], 'G': [0, 2, 1, 0, 2, 2, 0, 0], 'T': [0, 0, 1, 1, 0, 0, 0, 0]}\nCount: \n {'A': [4, 2, 1, 0, 0, 1, 2, 2], 'C': [0, 0, 0, 2, 2, 2, 2, 2], 'G': [0, 2, 2, 0, 2, 1, 0, 0], 'T': [0, 0, 1, 2, 0, 0, 0, 0]}\nCount: \n {'A': [4, 3, 2, 0, 0, 1, 1, 2], 'C': [0, 0, 0, 3, 2, 1, 3, 2], 'G': [0, 1, 1, 0, 2, 2, 0, 0], 'T': [0, 0, 1, 1, 0, 0, 0, 0]}\nCount: \n {'A': [4, 2, 1, 0, 0, 1, 2, 2], 'C': [0, 0, 0, 2, 2, 2, 2, 2], 'G': [0, 2, 2, 0, 2, 1, 0, 0], 'T': [0, 0, 1, 2, 0, 0, 0, 0]}\nCount: \n {'A': [4, 3, 2, 0, 0, 1, 1, 2], 'C': [0, 0, 0, 3, 2, 1, 3, 2], 'G': [0, 1, 1, 0, 2, 2, 0, 0], 'T': [0, 0, 1, 1, 0, 0, 0, 0]}\nCount: \n {'A': [4, 2, 2, 0, 0, 0, 2, 2], 'C': [0, 0, 0, 2, 1, 2, 2, 2], 'G': [0, 2, 2, 0, 3, 2, 0, 0], 'T': [0, 0, 0, 2, 0, 0, 0, 0]}\nCount: \n {'A': [4, 3, 1, 0, 0, 1, 1, 1], 'C': [0, 0, 0, 2, 1, 2, 3, 3], 'G': [0, 1, 2, 0, 3, 1, 0, 0], 'T': [0, 0, 1, 2, 0, 0, 0, 0]}\nCount: \n {'A': [4, 2, 2, 0, 0, 1, 2, 1], 'C': [0, 0, 0, 3, 2, 1, 2, 3], 'G': [0, 2, 1, 0, 2, 2, 0, 0], 'T': [0, 0, 1, 1, 0, 0, 0, 0]}\nCount: \n {'A': [4, 2, 2, 0, 0, 0, 2, 2], 'C': [0, 0, 0, 2, 1, 2, 2, 2], 'G': [0, 2, 2, 0, 3, 2, 0, 0], 'T': [0, 0, 0, 2, 0, 0, 0, 0]}\nCount: \n {'A': [4, 3, 2, 0, 0, 1, 1, 2], 'C': [0, 0, 0, 3, 2, 1, 3, 2], 'G': [0, 1, 1, 0, 2, 2, 0, 0], 'T': [0, 0, 1, 1, 0, 0, 0, 0]}\nCount: \n {'A': [4, 2, 2, 0, 0, 1, 2, 1], 'C': [0, 0, 0, 3, 2, 1, 2, 3], 'G': [0, 2, 1, 0, 2, 2, 0, 0], 'T': [0, 0, 1, 1, 0, 0, 0, 0]}\nCount: \n {'A': [4, 2, 1, 0, 0, 1, 2, 2], 'C': [0, 0, 0, 2, 2, 2, 2, 2], 'G': [0, 2, 2, 0, 2, 1, 0, 0], 'T': [0, 0, 1, 2, 0, 0, 0, 0]}\nCount: \n {'A': [4, 2, 1, 0, 0, 1, 2, 2], 'C': [0, 0, 0, 2, 2, 2, 2, 2], 'G': [0, 2, 2, 0, 2, 1, 0, 0], 'T': [0, 0, 1, 2, 0, 0, 0, 0]}\nCount: \n {'A': [4, 2, 2, 0, 0, 1, 2, 1], 'C': [0, 0, 0, 3, 2, 1, 2, 3], 'G': [0, 2, 1, 0, 2, 2, 0, 0], 'T': [0, 0, 1, 1, 0, 0, 0, 0]}\nCount: \n {'A': [4, 2, 2, 0, 0, 1, 2, 1], 'C': [0, 0, 0, 3, 2, 1, 2, 3], 'G': [0, 2, 1, 0, 2, 2, 0, 0], 'T': [0, 0, 1, 1, 0, 0, 0, 0]}\nCount: \n {'A': [4, 2, 1, 0, 0, 1, 2, 2], 'C': [0, 0, 0, 2, 2, 2, 2, 2], 'G': [0, 2, 2, 0, 2, 1, 0, 0], 'T': [0, 0, 1, 2, 0, 0, 0, 0]}\nCount: \n {'A': [4, 3, 1, 0, 0, 1, 1, 1], 'C': [0, 0, 0, 2, 1, 2, 3, 3], 'G': [0, 1, 2, 0, 3, 1, 0, 0], 'T': [0, 0, 1, 2, 0, 0, 0, 0]}\nCount: \n {'A': [4, 2, 2, 0, 0, 0, 2, 2], 'C': [0, 0, 0, 2, 1, 2, 2, 2], 'G': [0, 2, 2, 0, 3, 2, 0, 0], 'T': [0, 0, 0, 2, 0, 0, 0, 0]}\nCount: \n {'A': [4, 2, 2, 0, 0, 0, 2, 2], 'C': [0, 0, 0, 2, 1, 2, 2, 2], 'G': [0, 2, 2, 0, 3, 2, 0, 0], 'T': [0, 0, 0, 2, 0, 0, 0, 0]}\nCount: \n {'A': [4, 2, 2, 0, 0, 1, 2, 1], 'C': [0, 0, 0, 3, 2, 1, 2, 3], 'G': [0, 2, 1, 0, 2, 2, 0, 0], 'T': [0, 0, 1, 1, 0, 0, 0, 0]}\nCount: \n {'A': [4, 3, 2, 0, 0, 1, 1, 2], 'C': [0, 0, 0, 3, 2, 1, 3, 2], 'G': [0, 1, 1, 0, 2, 2, 0, 0], 'T': [0, 0, 1, 1, 0, 0, 0, 0]}\nCount: \n {'A': [4, 2, 2, 0, 0, 1, 2, 1], 'C': [0, 0, 0, 3, 2, 1, 2, 3], 'G': [0, 2, 1, 0, 2, 2, 0, 0], 'T': [0, 0, 1, 1, 0, 0, 0, 0]}\nCount: \n {'A': [4, 2, 2, 0, 0, 1, 2, 1], 'C': [0, 0, 0, 3, 2, 1, 2, 3], 'G': [0, 2, 1, 0, 2, 2, 0, 0], 'T': [0, 0, 1, 1, 0, 0, 0, 0]}\nCount: \n {'A': [4, 2, 2, 0, 0, 1, 2, 1], 'C': [0, 0, 0, 3, 2, 1, 2, 3], 'G': [0, 2, 1, 0, 2, 2, 0, 0], 'T': [0, 0, 1, 1, 0, 0, 0, 0]}\nCount: \n {'A': [4, 2, 1, 0, 0, 1, 2, 2], 'C': [0, 0, 0, 2, 2, 2, 2, 2], 'G': [0, 2, 2, 0, 2, 1, 0, 0], 'T': [0, 0, 1, 2, 0, 0, 0, 0]}\nCount: \n {'A': [4, 3, 1, 0, 0, 1, 1, 1], 'C': [0, 0, 0, 2, 1, 2, 3, 3], 'G': [0, 1, 2, 0, 3, 1, 0, 0], 'T': [0, 0, 1, 2, 0, 0, 0, 0]}\nCount: \n {'A': [4, 3, 2, 0, 0, 1, 1, 2], 'C': [0, 0, 0, 3, 2, 1, 3, 2], 'G': [0, 1, 1, 0, 2, 2, 0, 0], 'T': [0, 0, 1, 1, 0, 0, 0, 0]}\nCount: \n {'A': [4, 2, 2, 0, 0, 1, 2, 1], 'C': [0, 0, 0, 3, 2, 1, 2, 3], 'G': [0, 2, 1, 0, 2, 2, 0, 0], 'T': [0, 0, 1, 1, 0, 0, 0, 0]}\nCount: \n {'A': [4, 2, 1, 0, 0, 1, 2, 2], 'C': [0, 0, 0, 2, 2, 2, 2, 2], 'G': [0, 2, 2, 0, 2, 1, 0, 0], 'T': [0, 0, 1, 2, 0, 0, 0, 0]}\nCount: \n {'A': [4, 2, 2, 0, 0, 1, 2, 1], 'C': [0, 0, 0, 3, 2, 1, 2, 3], 'G': [0, 2, 1, 0, 2, 2, 0, 0], 'T': [0, 0, 1, 1, 0, 0, 0, 0]}\nCount: \n {'A': [4, 2, 2, 0, 0, 1, 2, 1], 'C': [0, 0, 0, 3, 2, 1, 2, 3], 'G': [0, 2, 1, 0, 2, 2, 0, 0], 'T': [0, 0, 1, 1, 0, 0, 0, 0]}\nCount: \n {'A': [4, 3, 1, 0, 0, 1, 1, 1], 'C': [0, 0, 0, 2, 1, 2, 3, 3], 'G': [0, 1, 2, 0, 3, 1, 0, 0], 'T': [0, 0, 1, 2, 0, 0, 0, 0]}\nCount: \n {'A': [4, 2, 2, 0, 0, 1, 2, 1], 'C': [0, 0, 0, 3, 2, 1, 2, 3], 'G': [0, 2, 1, 0, 2, 2, 0, 0], 'T': [0, 0, 1, 1, 0, 0, 0, 0]}\nCount: \n {'A': [4, 3, 2, 0, 0, 1, 1, 2], 'C': [0, 0, 0, 3, 2, 1, 3, 2], 'G': [0, 1, 1, 0, 2, 2, 0, 0], 'T': [0, 0, 1, 1, 0, 0, 0, 0]}\nCount: \n {'A': [4, 3, 1, 0, 0, 1, 1, 1], 'C': [0, 0, 0, 2, 1, 2, 3, 3], 'G': [0, 1, 2, 0, 3, 1, 0, 0], 'T': [0, 0, 1, 2, 0, 0, 0, 0]}\nCount: \n {'A': [4, 3, 1, 0, 0, 1, 1, 1], 'C': [0, 0, 0, 2, 1, 2, 3, 3], 'G': [0, 1, 2, 0, 3, 1, 0, 0], 'T': [0, 0, 1, 2, 0, 0, 0, 0]}\nCount: \n {'A': [4, 2, 2, 0, 0, 1, 2, 1], 'C': [0, 0, 0, 3, 2, 1, 2, 3], 'G': [0, 2, 1, 0, 2, 2, 0, 0], 'T': [0, 0, 1, 1, 0, 0, 0, 0]}\nCount: \n {'A': [4, 2, 2, 0, 0, 0, 2, 2], 'C': [0, 0, 0, 2, 1, 2, 2, 2], 'G': [0, 2, 2, 0, 3, 2, 0, 0], 'T': [0, 0, 0, 2, 0, 0, 0, 0]}\nCount: \n {'A': [4, 2, 1, 0, 0, 1, 2, 2], 'C': [0, 0, 0, 2, 2, 2, 2, 2], 'G': [0, 2, 2, 0, 2, 1, 0, 0], 'T': [0, 0, 1, 2, 0, 0, 0, 0]}\nCount: \n {'A': [4, 2, 2, 0, 0, 1, 2, 1], 'C': [0, 0, 0, 3, 2, 1, 2, 3], 'G': [0, 2, 1, 0, 2, 2, 0, 0], 'T': [0, 0, 1, 1, 0, 0, 0, 0]}\nCount: \n {'A': [4, 2, 1, 0, 0, 1, 2, 2], 'C': [0, 0, 0, 2, 2, 2, 2, 2], 'G': [0, 2, 2, 0, 2, 1, 0, 0], 'T': [0, 0, 1, 2, 0, 0, 0, 0]}\nCount: \n {'A': [4, 2, 2, 0, 0, 1, 2, 1], 'C': [0, 0, 0, 3, 2, 1, 2, 3], 'G': [0, 2, 1, 0, 2, 2, 0, 0], 'T': [0, 0, 1, 1, 0, 0, 0, 0]}\nCount: \n {'A': [4, 3, 2, 0, 0, 1, 1, 2], 'C': [0, 0, 0, 3, 2, 1, 3, 2], 'G': [0, 1, 1, 0, 2, 2, 0, 0], 'T': [0, 0, 1, 1, 0, 0, 0, 0]}\nCount: \n {'A': [4, 3, 1, 0, 0, 1, 1, 1], 'C': [0, 0, 0, 2, 1, 2, 3, 3], 'G': [0, 1, 2, 0, 3, 1, 0, 0], 'T': [0, 0, 1, 2, 0, 0, 0, 0]}\nCount: \n {'A': [4, 3, 2, 0, 0, 1, 1, 2], 'C': [0, 0, 0, 3, 2, 1, 3, 2], 'G': [0, 1, 1, 0, 2, 2, 0, 0], 'T': [0, 0, 1, 1, 0, 0, 0, 0]}\nCount: \n {'A': [4, 3, 1, 0, 0, 1, 1, 1], 'C': [0, 0, 0, 2, 1, 2, 3, 3], 'G': [0, 1, 2, 0, 3, 1, 0, 0], 'T': [0, 0, 1, 2, 0, 0, 0, 0]}\nCount: \n {'A': [4, 2, 1, 0, 0, 1, 2, 2], 'C': [0, 0, 0, 2, 2, 2, 2, 2], 'G': [0, 2, 2, 0, 2, 1, 0, 0], 'T': [0, 0, 1, 2, 0, 0, 0, 0]}\nCount: \n {'A': [4, 2, 2, 0, 0, 0, 2, 2], 'C': [0, 0, 0, 2, 1, 2, 2, 2], 'G': [0, 2, 2, 0, 3, 2, 0, 0], 'T': [0, 0, 0, 2, 0, 0, 0, 0]}\nCount: \n {'A': [4, 2, 1, 0, 0, 1, 2, 2], 'C': [0, 0, 0, 2, 2, 2, 2, 2], 'G': [0, 2, 2, 0, 2, 1, 0, 0], 'T': [0, 0, 1, 2, 0, 0, 0, 0]}\nCount: \n {'A': [4, 3, 1, 0, 0, 1, 1, 1], 'C': [0, 0, 0, 2, 1, 2, 3, 3], 'G': [0, 1, 2, 0, 3, 1, 0, 0], 'T': [0, 0, 1, 2, 0, 0, 0, 0]}\nCount: \n {'A': [4, 2, 2, 0, 0, 0, 2, 2], 'C': [0, 0, 0, 2, 1, 2, 2, 2], 'G': [0, 2, 2, 0, 3, 2, 0, 0], 'T': [0, 0, 0, 2, 0, 0, 0, 0]}\nCount: \n {'A': [4, 3, 1, 0, 0, 1, 1, 1], 'C': [0, 0, 0, 2, 1, 2, 3, 3], 'G': [0, 1, 2, 0, 3, 1, 0, 0], 'T': [0, 0, 1, 2, 0, 0, 0, 0]}\n"
     ]
    },
    {
     "output_type": "execute_result",
     "data": {
      "text/plain": [
       "['AAACGGCC', 'AAGTGCCA', 'AGACCGAA', 'AGGTGCAC', 'AATCCACC']"
      ]
     },
     "metadata": {},
     "execution_count": 19
    }
   ],
   "source": [
    "def Profile_randomly_generated_kmer(Text,k,Profile):\n",
    "    \n",
    "    for i in range(len(Text) - k + 1):\n",
    "        return kmer\n",
    "\n",
    "def GibbsSampler(Dna,k,t,N):\n",
    "    motifs = RandomMotifs(Dna,k)\n",
    "    bestMotifs = motifs\n",
    "    for run in range(N):\n",
    "        i = np.random.randint(t)\n",
    "        motifs_except_ith = np.delete(motifs,i)\n",
    "        profile_mat = Profile(motifs_except_ith)\n",
    "        motifs[i] = ProfileMostProbableKmer(Dna[i],k,profile_mat)\n",
    "        if Score(motifs) < Score(bestMotifs):\n",
    "            bestMotifs = motifs\n",
    "    return bestMotifs\n",
    "\n",
    "GibbsSampler(\n",
    "[\"CGCCCCTCTCGGGGGTGTTCAGTAAACGGCCA\",\n",
    "\"GGGCGAGGTATGTGTAAGTGCCAAGGTGCCAG\",\n",
    "\"TAGTACCGAGACCGAAAGAAGTATACAGGCGT\",\n",
    "\"TAGATCAAGTTTCAGGTGCACGTCGGTGAACC\",\n",
    "\"AATCCACCAGCTCCACGTGCAATGTTGGCCTA\"],\n",
    "8, 5, 100)"
   ]
  },
  {
   "source": [
    "### (2H) Implement DISTANCEBETWEENPATTERNANDSTRINGS"
   ],
   "cell_type": "markdown",
   "metadata": {}
  },
  {
   "cell_type": "code",
   "execution_count": 20,
   "metadata": {},
   "outputs": [],
   "source": [
    "def DiffBetweenPatternandStrings(pattern, dna): # minimizes the sum of hamming distances to the given dnas with a pattern\n",
    "    k =  len(pattern)\n",
    "    diff = 0;\n",
    "    for d in dna:\n",
    "        ham_distance = 2 ** 31\n",
    "        for i in range (len(d) - k + 1):\n",
    "            pattern_ = d[i : i+k]\n",
    "            if (HammingDistance(pattern,pattern_) < ham_distance):\n",
    "                ham_distance = HammingDistance(pattern,pattern_)\n",
    "        diff = diff + ham_distance\n",
    "\n",
    "    return diff"
   ]
  }
 ]
}