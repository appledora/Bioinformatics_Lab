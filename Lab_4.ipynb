{
 "metadata": {
  "language_info": {
   "codemirror_mode": {
    "name": "ipython",
    "version": 3
   },
   "file_extension": ".py",
   "mimetype": "text/x-python",
   "name": "python",
   "nbconvert_exporter": "python",
   "pygments_lexer": "ipython3",
   "version": "3.6.9-final"
  },
  "orig_nbformat": 2,
  "kernelspec": {
   "name": "python36964bit96b38543bc524d45aa4022ceee87892b",
   "display_name": "Python 3.6.9 64-bit",
   "language": "python"
  }
 },
 "nbformat": 4,
 "nbformat_minor": 2,
 "cells": [
  {
   "source": [
    "## Helper Utils"
   ],
   "cell_type": "markdown",
   "metadata": {}
  },
  {
   "cell_type": "code",
   "execution_count": 40,
   "metadata": {},
   "outputs": [],
   "source": [
    "import numpy as np\n",
    "import random\n",
    "import collections\n",
    "def Count(Motifs):\n",
    "    count = {} # initializing the count dictionary\n",
    "    k = len(Motifs[0])\n",
    "    count = {'A':[0]*k,'C':[0]*k,'G':[0]*k,'T':[0]*k}\n",
    "    \n",
    "    t = len(Motifs)\n",
    "    for i in range(t):\n",
    "        for j in range(k):\n",
    "            symbol = Motifs[i][j]\n",
    "            count[symbol][j] += 1\n",
    "    return count\n",
    "\n",
    "def Profile(Motifs):\n",
    "    t = len(Motifs)\n",
    "    k = len(Motifs[0])\n",
    "    profile = Count(Motifs)\n",
    "    for i in profile:  \n",
    "        for j in range(k):\n",
    "            profile[i][j] = profile[i][j]//t   \n",
    "    return profile\n",
    "\n",
    "def calculateProbability(pattern, profile_mat):\n",
    "    temp_pr = 1.0\n",
    "    for j in range(len(pattern)):\n",
    "        if(pattern[j] == \"A\"):\n",
    "            temp_pr  = temp_pr * profile_mat [\"A\"][j]\n",
    "        elif(pattern[j] == \"C\"):\n",
    "            temp_pr  = temp_pr * profile_mat [\"C\"][j]\n",
    "        elif(pattern[j] == \"G\"):\n",
    "            temp_pr  = temp_pr * profile_mat [\"G\"][j]\n",
    "        elif(pattern[j] == \"T\"):\n",
    "            temp_pr  = temp_pr * profile_mat [\"T\"][j]\n",
    "    return temp_pr\n",
    "\n",
    "def ProfileMostProbableKmer(text, k, profile):\n",
    "    max_p = -1\n",
    "    most_probable_kmer = ''\n",
    "    for i in range(len(text)-k+1):\n",
    "        pattern = text[i: i+k]\n",
    "        p = calculateProbability(pattern, profile)\n",
    "        if p > max_p:\n",
    "            max_p = p\n",
    "            most_probable_kmer = text[i:i+k]            \n",
    "    return most_probable_kmer\n",
    "\n",
    "def MotifFromProfile(Dna, k, profile):\n",
    "    motifs=[]\n",
    "    for i in range(len(Dna)):\n",
    "        motifs.append(ProfileMostProbableKmer(Dna[i],k,profile))\n",
    "    return motifs\n",
    "\n",
    "def RandomMotifs(Dna, k):\n",
    "    result = []\n",
    "    for string in Dna:\n",
    "        index = np.random.randint(0, len(string) - k)\n",
    "        result.append(string[index:index + k])\n",
    "    return result\n",
    "\n",
    "def Consensus(Motifs):\n",
    "    k = len(Motifs[0])\n",
    "    count = Count(Motifs)\n",
    "    consensus = \"\"\n",
    "    for j in range(k):\n",
    "        m = 0\n",
    "        frequentSymbol = \"\"\n",
    "        for symbol in \"ACGT\":\n",
    "            if count[symbol][j] > m:\n",
    "                m = count[symbol][j]\n",
    "                frequentSymbol = symbol\n",
    "        consensus += frequentSymbol\n",
    "    return consensus\n",
    "\n",
    "def Score(Motifs):\n",
    "    # Insert code here\n",
    "    consensus = Consensus(Motifs) #consensus string\n",
    "    counts = Count(Motifs) # count matrix\n",
    "    score = len(Motifs)*len(consensus) \n",
    "    i = 0\n",
    "    for symbol in consensus:  \n",
    "        score -= counts[symbol][i] \n",
    "        i += 1\n",
    "    return score "
   ]
  },
  {
   "source": [
    "### Randomized Motif Search"
   ],
   "cell_type": "markdown",
   "metadata": {}
  },
  {
   "cell_type": "code",
   "execution_count": 7,
   "metadata": {},
   "outputs": [],
   "source": [
    "def RandomizedMotifSearch(Dna,k, t):\n",
    "    motifs = RandomMotifs(Dna,k)\n",
    "    bestMotifs = motifs\n",
    "    while True:\n",
    "        profile_mat = Profile(motifs)\n",
    "        motifs = MotifFromProfile(Dna,k,profile_mat)\n",
    "        if Score(motifs) < Score(bestMotifs):\n",
    "            bestMotifs = motifs\n",
    "        else:\n",
    "            return bestMotifs"
   ]
  },
  {
   "source": [
    "### Randomized Motif Search with Gibbs Sampler"
   ],
   "cell_type": "markdown",
   "metadata": {}
  },
  {
   "cell_type": "code",
   "execution_count": 1,
   "metadata": {},
   "outputs": [],
   "source": [
    "def GibbsSampler(Dna,k,t,N):\n",
    "    motifs = RandomMotifs(Dna,k)\n",
    "    bestMotifs = motifs\n",
    "    for run in range(N):\n",
    "        i = np.random.randint(t)\n",
    "        motifs_except_ith = np.delete(motifs,i)\n",
    "        profile_mat = Profile(motifs_except_ith)\n",
    "        motifs[i] = ProfileMostProbableKmer(Dna[i],k,profile_mat)\n",
    "        if Score(motifs) < Score(bestMotifs):\n",
    "            bestMotifs = motifs\n",
    "    return bestMotifs"
   ]
  },
  {
   "source": [
    "### Test Code for Motif Search"
   ],
   "cell_type": "markdown",
   "metadata": {}
  },
  {
   "cell_type": "code",
   "execution_count": 22,
   "metadata": {},
   "outputs": [
    {
     "output_type": "error",
     "ename": "ValueError",
     "evalue": "invalid literal for int() with base 10: ''",
     "traceback": [
      "\u001b[0;31m---------------------------------------------------------------------------\u001b[0m",
      "\u001b[0;31mValueError\u001b[0m                                Traceback (most recent call last)",
      "\u001b[0;32m<ipython-input-22-e65096de758c>\u001b[0m in \u001b[0;36m<module>\u001b[0;34m\u001b[0m\n\u001b[1;32m      1\u001b[0m \u001b[0;32mif\u001b[0m \u001b[0m__name__\u001b[0m \u001b[0;34m==\u001b[0m \u001b[0;34m\"__main__\"\u001b[0m\u001b[0;34m:\u001b[0m\u001b[0;34m\u001b[0m\u001b[0;34m\u001b[0m\u001b[0m\n\u001b[0;32m----> 2\u001b[0;31m     \u001b[0mk\u001b[0m\u001b[0;34m,\u001b[0m\u001b[0mt\u001b[0m \u001b[0;34m=\u001b[0m \u001b[0;34m[\u001b[0m\u001b[0mint\u001b[0m\u001b[0;34m(\u001b[0m\u001b[0ma\u001b[0m\u001b[0;34m)\u001b[0m \u001b[0;32mfor\u001b[0m \u001b[0ma\u001b[0m \u001b[0;32min\u001b[0m \u001b[0minput\u001b[0m\u001b[0;34m(\u001b[0m\u001b[0;34m)\u001b[0m\u001b[0;34m.\u001b[0m\u001b[0mstrip\u001b[0m\u001b[0;34m(\u001b[0m\u001b[0;34m)\u001b[0m\u001b[0;34m.\u001b[0m\u001b[0msplit\u001b[0m\u001b[0;34m(\u001b[0m\u001b[0;34m\" \"\u001b[0m\u001b[0;34m)\u001b[0m\u001b[0;34m]\u001b[0m\u001b[0;34m\u001b[0m\u001b[0;34m\u001b[0m\u001b[0m\n\u001b[0m\u001b[1;32m      3\u001b[0m     \u001b[0mDna\u001b[0m \u001b[0;34m=\u001b[0m \u001b[0;34m[\u001b[0m\u001b[0;34m]\u001b[0m\u001b[0;34m\u001b[0m\u001b[0;34m\u001b[0m\u001b[0m\n\u001b[1;32m      4\u001b[0m     \u001b[0;32mfor\u001b[0m \u001b[0m_\u001b[0m \u001b[0;32min\u001b[0m \u001b[0mrange\u001b[0m\u001b[0;34m(\u001b[0m\u001b[0mt\u001b[0m\u001b[0;34m)\u001b[0m\u001b[0;34m:\u001b[0m\u001b[0;34m\u001b[0m\u001b[0;34m\u001b[0m\u001b[0m\n\u001b[1;32m      5\u001b[0m         \u001b[0mDna\u001b[0m\u001b[0;34m.\u001b[0m\u001b[0mappend\u001b[0m\u001b[0;34m(\u001b[0m\u001b[0minput\u001b[0m\u001b[0;34m(\u001b[0m\u001b[0;34m)\u001b[0m\u001b[0;34m)\u001b[0m\u001b[0;34m\u001b[0m\u001b[0;34m\u001b[0m\u001b[0m\n",
      "\u001b[0;32m<ipython-input-22-e65096de758c>\u001b[0m in \u001b[0;36m<listcomp>\u001b[0;34m(.0)\u001b[0m\n\u001b[1;32m      1\u001b[0m \u001b[0;32mif\u001b[0m \u001b[0m__name__\u001b[0m \u001b[0;34m==\u001b[0m \u001b[0;34m\"__main__\"\u001b[0m\u001b[0;34m:\u001b[0m\u001b[0;34m\u001b[0m\u001b[0;34m\u001b[0m\u001b[0m\n\u001b[0;32m----> 2\u001b[0;31m     \u001b[0mk\u001b[0m\u001b[0;34m,\u001b[0m\u001b[0mt\u001b[0m \u001b[0;34m=\u001b[0m \u001b[0;34m[\u001b[0m\u001b[0mint\u001b[0m\u001b[0;34m(\u001b[0m\u001b[0ma\u001b[0m\u001b[0;34m)\u001b[0m \u001b[0;32mfor\u001b[0m \u001b[0ma\u001b[0m \u001b[0;32min\u001b[0m \u001b[0minput\u001b[0m\u001b[0;34m(\u001b[0m\u001b[0;34m)\u001b[0m\u001b[0;34m.\u001b[0m\u001b[0mstrip\u001b[0m\u001b[0;34m(\u001b[0m\u001b[0;34m)\u001b[0m\u001b[0;34m.\u001b[0m\u001b[0msplit\u001b[0m\u001b[0;34m(\u001b[0m\u001b[0;34m\" \"\u001b[0m\u001b[0;34m)\u001b[0m\u001b[0;34m]\u001b[0m\u001b[0;34m\u001b[0m\u001b[0;34m\u001b[0m\u001b[0m\n\u001b[0m\u001b[1;32m      3\u001b[0m     \u001b[0mDna\u001b[0m \u001b[0;34m=\u001b[0m \u001b[0;34m[\u001b[0m\u001b[0;34m]\u001b[0m\u001b[0;34m\u001b[0m\u001b[0;34m\u001b[0m\u001b[0m\n\u001b[1;32m      4\u001b[0m     \u001b[0;32mfor\u001b[0m \u001b[0m_\u001b[0m \u001b[0;32min\u001b[0m \u001b[0mrange\u001b[0m\u001b[0;34m(\u001b[0m\u001b[0mt\u001b[0m\u001b[0;34m)\u001b[0m\u001b[0;34m:\u001b[0m\u001b[0;34m\u001b[0m\u001b[0;34m\u001b[0m\u001b[0m\n\u001b[1;32m      5\u001b[0m         \u001b[0mDna\u001b[0m\u001b[0;34m.\u001b[0m\u001b[0mappend\u001b[0m\u001b[0;34m(\u001b[0m\u001b[0minput\u001b[0m\u001b[0;34m(\u001b[0m\u001b[0;34m)\u001b[0m\u001b[0;34m)\u001b[0m\u001b[0;34m\u001b[0m\u001b[0;34m\u001b[0m\u001b[0m\n",
      "\u001b[0;31mValueError\u001b[0m: invalid literal for int() with base 10: ''"
     ]
    }
   ],
   "source": [
    "if __name__ == \"__main__\":\n",
    "    k,t = [int(a) for a in input().strip().split(\" \")]\n",
    "    Dna = []\n",
    "    for _ in range(t):\n",
    "        Dna.append(input())\n",
    "\n",
    "    N = 1000\n",
    "    BestMotifs = RandomizedMotifSearch(Dna, k, t)\n",
    "    for i in range(N):\n",
    "        m = RandomizedMotifSearch(Dna, k, t)\n",
    "        if Score(m) < Score(BestMotifs):\n",
    "            BestMotifs = m\n",
    "\n",
    "    for i in BestMotifs:\n",
    "        print(i)"
   ]
  },
  {
   "source": [
    "### Generate the k-mer Composition of a String"
   ],
   "cell_type": "markdown",
   "metadata": {}
  },
  {
   "cell_type": "code",
   "execution_count": 26,
   "metadata": {},
   "outputs": [
    {
     "output_type": "stream",
     "name": "stdout",
     "text": [
      "['ABCDE', 'BCDEF', 'CDEFG', 'DEFGH', 'EFGHI', 'FGHIJ', 'GHIJK']\n"
     ]
    }
   ],
   "source": [
    "def KmerComposition(k,Text):\n",
    "    kmers = []\n",
    "    for i in range( len(Text) - k + 1):\n",
    "        kmer = Text[i : i +k]\n",
    "        kmers.append(kmer)\n",
    "\n",
    "    return kmers\n",
    "\n",
    "print(KmerComposition(5, \"ABCDEFGHIJK\"))"
   ]
  },
  {
   "source": [
    "### Reconstruct a String from its Genome Path"
   ],
   "cell_type": "markdown",
   "metadata": {}
  },
  {
   "cell_type": "code",
   "execution_count": 34,
   "metadata": {},
   "outputs": [
    {
     "output_type": "stream",
     "name": "stdout",
     "text": [
      "A\nG\nC\nT\n"
     ]
    },
    {
     "output_type": "execute_result",
     "data": {
      "text/plain": [
       "'ACCGAAGCT'"
      ]
     },
     "metadata": {},
     "execution_count": 34
    }
   ],
   "source": [
    "def geneReconstruct(kmers):\n",
    "    text = kmers[0]\n",
    "    for i in range(1,len(kmers)):\n",
    "        print(kmers[i][-1:])\n",
    "        text += kmers[i][-1:]\n",
    "    return text\n",
    "\n",
    "geneReconstruct([\"ACCGA\",\n",
    "\"CCGAA\",\n",
    "\"CGAAG\",\n",
    "\"GAAGC\",\n",
    "\"AAGCT\"])"
   ]
  },
  {
   "source": [
    "### Construct the Overlap Graph of a Collection of k-mers"
   ],
   "cell_type": "markdown",
   "metadata": {}
  },
  {
   "cell_type": "code",
   "execution_count": 39,
   "metadata": {},
   "outputs": [
    {
     "output_type": "stream",
     "name": "stdout",
     "text": [
      "GCATG  ->  CATGC\nCATGC  ->  ATGCG\nAGGCA  ->  GGCAT\nGGCAT  ->  GCATG\n"
     ]
    }
   ],
   "source": [
    "def get_prefix (pattern):\n",
    "    return pattern[:len(pattern) - 1]\n",
    "def get_suffix (pattern):\n",
    "    return pattern[1:]\n",
    "\n",
    "def overlapGraph(patterns):\n",
    "    adj_matrix = [[0 for i in range(len(patterns))] for j in range(len(patterns))]\n",
    "\n",
    "    for i in range ( len (patterns)):\n",
    "        for j in range (len (patterns)):\n",
    "            if i != j and get_suffix(patterns[i]) == get_prefix(patterns[j]) :\n",
    "                adj_matrix[i][j] = 1\n",
    "\n",
    "    for m in range (len(adj_matrix)):\n",
    "        for n in range (len(adj_matrix)) :\n",
    "            if adj_matrix[m][n] == 1:\n",
    "                print (patterns[m], \" -> \", patterns[n])\n",
    "\n",
    "\n",
    "\n",
    "overlapGraph([\"ATGCG\", \"GCATG\", \"CATGC\", \"AGGCA\", \"GGCAT\"])"
   ]
  },
  {
   "source": [
    "### Construct the De Bruijn Graph of a String"
   ],
   "cell_type": "markdown",
   "metadata": {}
  },
  {
   "cell_type": "code",
   "execution_count": 43,
   "metadata": {},
   "outputs": [
    {
     "output_type": "stream",
     "name": "stdout",
     "text": [
      "AAG -> \nAGA\n\nAGA -> \nGAT\n\nATT -> \nTTC\n\nCTA -> \nTAC\n\nCTC -> \nTCT\n\nGAT -> \nATT\n\nTCT -> \nCTA\n,CTC\nTTC -> \nTCT\n\n"
     ]
    }
   ],
   "source": [
    "\n",
    "def constructDeBruijn(k, Text):\n",
    "    adj_list_pair = {}\n",
    "    for i in range (len(Text) - k + 1):\n",
    "        kmer = Text[i : i +k]\n",
    "        prefix = get_prefix(kmer)\n",
    "        suffix = get_suffix (kmer)\n",
    "        if prefix not in adj_list_pair:\n",
    "            adj_list_pair[prefix] = (suffix,)\n",
    "        else :\n",
    "            adj_list_pair[prefix] += (suffix, )\n",
    "    \n",
    "    od = collections.OrderedDict(sorted(adj_list_pair.items()))\n",
    "    for key in od.keys():\n",
    "        print(str(key) + \" -> \")\n",
    "        if len(adj_list_pair[key]) == 1:\n",
    "            print(adj_list_pair[key][0] + \"\\n\")\n",
    "        else:\n",
    "            adj_list_pair[key] = sorted(adj_list_pair[key])\n",
    "            print(adj_list_pair[key][0])\n",
    "            del adj_list_pair[key][0]\n",
    "            for item in adj_list_pair[key]:\n",
    "                print(\",\" + str(item))\n",
    "\n",
    "constructDeBruijn(4,\"AAGATTCTCTAC\" )\n",
    "        "
   ]
  },
  {
   "source": [
    "### Construct the De Bruijn Graph of a Collection of k-mers"
   ],
   "cell_type": "markdown",
   "metadata": {}
  },
  {
   "cell_type": "code",
   "execution_count": 62,
   "metadata": {},
   "outputs": [
    {
     "output_type": "execute_result",
     "data": {
      "text/plain": [
       "{'GAG': ['AGG'],\n",
       " 'AGG': ['GGG'],\n",
       " 'CAG': ['AGG', 'AGG'],\n",
       " 'GGG': ['GGG', 'GGA'],\n",
       " 'GGA': ['GAG']}"
      ]
     },
     "metadata": {},
     "execution_count": 62
    }
   ],
   "source": [
    "def constructDeBruijnFromKmers (kmers):\n",
    "    adj_list = {}\n",
    "    for kmer in kmers:\n",
    "        suffix = get_suffix(kmer)\n",
    "        prefix = get_prefix(kmer)\n",
    "        adj_list[prefix] = []\n",
    "        adj_list[suffix] = []\n",
    "    for kmer in kmers:\n",
    "        suffix = get_suffix(kmer)\n",
    "        prefix = get_prefix(kmer)\n",
    "        adj_list[prefix].append(suffix)\n",
    "    return adj_list\n",
    "\n",
    "constructDeBruijnFromKmers([\"GAGG\", \"CAGG\",\"GGGG\",\"GGGA\",\"CAGG\",\"AGGG\",\"GGAG\"])"
   ]
  }
 ]
}