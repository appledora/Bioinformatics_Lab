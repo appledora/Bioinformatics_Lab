{
 "metadata": {
  "language_info": {
   "codemirror_mode": {
    "name": "ipython",
    "version": 3
   },
   "file_extension": ".py",
   "mimetype": "text/x-python",
   "name": "python",
   "nbconvert_exporter": "python",
   "pygments_lexer": "ipython3",
   "version": "3.6.9-final"
  },
  "orig_nbformat": 2,
  "kernelspec": {
   "name": "python36964bit96b38543bc524d45aa4022ceee87892b",
   "display_name": "Python 3.6.9 64-bit",
   "language": "python"
  }
 },
 "nbformat": 4,
 "nbformat_minor": 2,
 "cells": [
  {
   "source": [
    "### Helper Utils\n",
    "2,5,6"
   ],
   "cell_type": "markdown",
   "metadata": {}
  },
  {
   "cell_type": "code",
   "execution_count": 220,
   "metadata": {},
   "outputs": [],
   "source": [
    "def generateFragments(peptide):\n",
    "    length = len(peptide)\n",
    "    cycle = [ peptide + peptide[:i] for i in range(length) ]\n",
    "    fragments = [cycle[i][k:k+i+1] for i in range(length-1) for k in range(length)]\n",
    "    fragments.append(peptide)\n",
    "\n",
    "    return fragments\n",
    "def generateSpectrum(peptide, mass_table = masses):\n",
    "    fragments = generateFragments(peptide)\n",
    "    spectrum = []\n",
    "    spectrum.append(0)\n",
    "    for f in fragments :\n",
    "        mass = 0\n",
    "        for i,p in enumerate(f):\n",
    "            mass += mass_table [p]\n",
    "        spectrum.append(mass)\n",
    "    \n",
    "    return spectrum\n",
    "\n",
    "mass_peptide = {\n",
    "        'G':57,'A':71,'S':87,'P':97,'V':99,'T':101,'C':103,\\\n",
    "        'I':113,'N':114,'D':115,'E':129,'K':128, 'M':131,'H':137,\\\n",
    "        'F':147,'R': 156,'Y': 163,'W': 186\n",
    "        }   \n",
    "\n",
    "masses =  {'G': 57, 'A': 71, 'S': 87, 'P': 97, 'V': 99, 'T': 101, 'C': 103, 'I': 113, 'L': 113, 'N': 114, \n",
    "                'D': 115, 'K': 128, 'Q': 128, 'E': 129, 'M':131, 'H': 137, 'F': 147, 'R': 156, 'Y': 163, 'W': 186}    "
   ]
  },
  {
   "source": [
    "### Compute the Score of a Cyclic Peptide Against a Spectrum"
   ],
   "cell_type": "markdown",
   "metadata": {}
  },
  {
   "cell_type": "code",
   "execution_count": 186,
   "metadata": {},
   "outputs": [],
   "source": [
    "def scoreCyclopeptide(peptide, exp_spectrum, mass_table = masses):\n",
    "    # print(\"peptide: \", peptide)\n",
    "    # print(\"exp_spectrum: \",exp_spectrum)\n",
    "    theo_spectrum = generateSpectrum(peptide, mass_table)\n",
    "    # print(\"theo_spectrum: \",theo_spectrum)\n",
    "    lst3 = [value for value in theo_spectrum if value in exp_spectrum] \n",
    "    return len(lst3)"
   ]
  },
  {
   "cell_type": "code",
   "execution_count": 22,
   "metadata": {
    "tags": []
   },
   "outputs": [
    {
     "output_type": "stream",
     "name": "stdout",
     "text": [
      "peptide:  NQEL\nexp_spectrum:  [0, 99, 113, 114, 128, 227, 257, 299, 355, 356, 370, 371, 484]\ntheo_spectrum:  [0, 113, 114, 128, 129, 227, 242, 242, 257, 355, 356, 370, 371, 484]\n"
     ]
    },
    {
     "output_type": "execute_result",
     "data": {
      "text/plain": [
       "11"
      ]
     },
     "metadata": {},
     "execution_count": 22
    }
   ],
   "source": [
    "f= open(\"test.txt\",\"r\")\n",
    "lines = f.readlines()\n",
    "peptide_ = lines[0].strip()\n",
    "ex_spectrum = lines[1].strip().split()\n",
    "ex_spectrum = [int(i) for i in ex_spectrum] \n",
    "scoreCyclopeptide(peptide_, ex_spectrum)"
   ]
  },
  {
   "source": [
    "### Implement LeaderboardCyclopeptideSequencing"
   ],
   "cell_type": "markdown",
   "metadata": {}
  },
  {
   "cell_type": "code",
   "execution_count": 207,
   "metadata": {
    "tags": []
   },
   "outputs": [],
   "source": [
    "def Expand(board, mass_table = masses):\n",
    "    new_peptides = []\n",
    "    for peptide in board:\n",
    "        for acid in mass_table:\n",
    "            new_peptides.append(peptide + acid)\n",
    "    return new_peptides\n",
    "\n",
    "\n",
    "def Mass(Peptide, mass_table = masses):\n",
    "    if Peptide in cyclospectra:\n",
    "        return cyclospectra[Peptide]\n",
    "    else:\n",
    "        spectrum = [0, int(sum(mass_table[aa] for aa in Peptide))]    \n",
    "        cycle = Peptide * 2\n",
    "        for i in range( len( Peptide )):\n",
    "            for j in range( i + 1, i + len( Peptide )):\n",
    "                spectrum.append( sum( mass_table[aa] for aa in cycle[i:j] ))            \n",
    "\n",
    "        cyclospectra[Peptide] = spectrum    \n",
    "        return cyclospectra[Peptide]\n",
    "    \n",
    "cyclospectra = {}\n",
    "\n",
    "def leaderboardCyclopeptideSequencing(Spectrum, N, mass_table = masses):\n",
    "\n",
    "    Parent_Mass = Spectrum[-1]     \n",
    "    \n",
    "    Leaderboard = ['']\n",
    "    LeaderPeptide = ''\n",
    "    \n",
    "    while Leaderboard:\n",
    "\n",
    "        Leaderboard = Expand(Leaderboard, mass_table)\n",
    "        scores = []        \n",
    "\n",
    "        for Peptide in Leaderboard:\n",
    "\n",
    "            score = scoreCyclopeptide(Peptide, Spectrum,mass_table)   \n",
    "            Mass_Peptide = max(Mass(Peptide, mass_table))\n",
    "            if Mass_Peptide == Parent_Mass and score > scoreCyclopeptide(LeaderPeptide, Spectrum,mass_table):\n",
    "                LeaderPeptide = Peptide\n",
    "\n",
    "            elif Mass_Peptide > Parent_Mass:\n",
    "                score = 0\n",
    "\n",
    "            scores.append(score)  \n",
    "\n",
    "        if len(Leaderboard) > N:\n",
    "\n",
    "            cut_off = sorted(scores)[-N]\n",
    "            leaders = []\n",
    "\n",
    "            for i in range(len(Leaderboard)):\n",
    "                if scores[i] >= cut_off and scores[i] > 0:\n",
    "                    leaders.append(Leaderboard[i])\n",
    "\n",
    "            Leaderboard = leaders \n",
    "    \n",
    "    return LeaderPeptide\n",
    "\n",
    "\n"
   ]
  },
  {
   "cell_type": "code",
   "execution_count": 208,
   "metadata": {},
   "outputs": [
    {
     "output_type": "stream",
     "name": "stdout",
     "text": [
      "71-147-113-129\n"
     ]
    }
   ],
   "source": [
    "f = open(\"test.txt\",'r')\n",
    "\n",
    "N = int(f.readline())\n",
    "Spectrum = [int(i) for i in f.readline().split(' ')]\n",
    "\n",
    "Leader = leaderboardCyclopeptideSequencing(Spectrum, N)\n",
    "masses = [str(mass[aa]) for aa in Leader]\n",
    "string = '-'.join(masses)\n",
    "print(string)"
   ]
  },
  {
   "source": [
    "### Generate the Convolution of a Spectrum"
   ],
   "cell_type": "markdown",
   "metadata": {}
  },
  {
   "cell_type": "code",
   "execution_count": 209,
   "metadata": {},
   "outputs": [],
   "source": [
    "import operator\n",
    "def generateSpectralConvolution(Spectrum):\n",
    "    convolution_array = []\n",
    "    for i in Spectrum :\n",
    "        for j in Spectrum:\n",
    "            if i - j > 0:\n",
    "                convolution_array.append(i-j)\n",
    "    \n",
    "\n",
    "    counts = Counter([i for i in convolution_array])\n",
    "    result = []\n",
    "    for k in sorted(counts, key=lambda x: counts[x], reverse=True):\n",
    "            result += [k] * counts[k]\n",
    "    # print(\"generate Spectral convolution: \", result)\n",
    "    tables = dict(counts)\n",
    "\n",
    "    return result,tables"
   ]
  },
  {
   "cell_type": "code",
   "execution_count": 156,
   "metadata": {},
   "outputs": [
    {
     "output_type": "stream",
     "name": "stdout",
     "text": [
      "generate Spectral convolution:  [137, 137, 186, 186, 49, 323]\n"
     ]
    },
    {
     "output_type": "execute_result",
     "data": {
      "text/plain": [
       "{137: 2, 186: 2, 49: 1, 323: 1}"
      ]
     },
     "metadata": {},
     "execution_count": 156
    }
   ],
   "source": [
    "from collections import Counter\n",
    " \n",
    "f = open(\"test.txt\",'r')\n",
    "Spectrum = [int(i) for i in f.readline().split(' ')]\n",
    "convolution, _ = generateSpectralConvolution(Spectrum)\n"
   ]
  },
  {
   "source": [
    "### ConvolutionCyclopeptideSequencing"
   ],
   "cell_type": "markdown",
   "metadata": {}
  },
  {
   "cell_type": "code",
   "execution_count": 222,
   "metadata": {},
   "outputs": [],
   "source": [
    "import copy\n",
    "def trim_spectrum(table,M):\n",
    "    newtable = {}\n",
    "    for k in table.keys():\n",
    "        if k >= 57 and k <= 200:\n",
    "            newtable[k] = table[k]\n",
    "    allValues = sorted(newtable.values(), reverse = True)\n",
    "    if M > len(allValues):\n",
    "        val_to_keep = allValues\n",
    "    else:\n",
    "        thres = allValues[M]\n",
    "        val_to_keep = [k for k in newtable.keys() if newtable[k] >= thres]\n",
    "    return val_to_keep\n",
    "\n",
    "def ConvolutionCyclopeptideSequencing(M, N, Spectrum, mass_table =  masses) :\n",
    "    conv,table = generateSpectralConvolution(Spectrum)\n",
    "    trim = trim_spectrum(table,M)\n",
    "    # print(\"Trimmed_spectrum: \", trim)\n",
    "    simple_table = copy.copy(mass_table)\n",
    "    for k,v in mass_table.items():\n",
    "        if v not in trim:\n",
    "            del simple_table[k]\n",
    "\n",
    "    placeholders = 'abcdefghijklmnopqrstuvwxyz'\n",
    "    start = 0\n",
    "    for v in trim:\n",
    "        if v not in simple_table.values():\n",
    "            simple_table[placeholders[start]] = v\n",
    "            start += 1\n",
    "    print(simple_table)\n",
    "    leader = leaderboardCyclopeptideSequencing(Spectrum, N, simple_table)\n",
    "    print(\"leader: \", leader)\n",
    "    masses = [str(simple_table[aa]) for aa in leader]\n",
    "    string = '-'.join(masses)\n",
    "    print(string)\n"
   ]
  },
  {
   "cell_type": "code",
   "execution_count": 224,
   "metadata": {},
   "outputs": [
    {
     "output_type": "stream",
     "name": "stdout",
     "text": [
      "M:  20 \n",
      "N:  60 \n",
      "Spectrum:  [57, 57, 71, 99, 129, 137, 170, 186, 194, 208, 228, 265, 285, 299, 307, 323, 356, 364, 394, 422, 493]\n",
      "{'G': 57, 'A': 71, 'S': 87, 'V': 99, 'I': 113, 'L': 113, 'D': 115, 'K': 128, 'Q': 128, 'E': 129, 'H': 137, 'R': 156, 'W': 186, 'a': 72, 'b': 58, 'c': 80, 'd': 66, 'e': 123, 'f': 95, 'g': 65, 'h': 151, 'i': 109, 'j': 79, 'k': 171, 'l': 157, 'm': 91, 'n': 194, 'o': 166, 'p': 136, 'q': 148, 'r': 200, 's': 170, 't': 162, 'u': 178}\n",
      "leader:  GEVAbj\n",
      "57-129-99-71-58-79\n"
     ]
    }
   ],
   "source": [
    "with open('test.txt', 'r') as f: \n",
    "    M_ = int(f.readline())\n",
    "    N_ = int(f.readline())\n",
    "    Spectrum_ = [int(i) for i in f.readline().split(' ')]\n",
    "    print(\"M: \", M_,\"\\nN: \", N_,\"\\nSpectrum: \", Spectrum_)\n",
    "ConvolutionCyclopeptideSequencing(M_,N_, Spectrum_)"
   ]
  },
  {
   "source": [
    "### Construct a Trie from a Collection of Patterns"
   ],
   "cell_type": "markdown",
   "metadata": {}
  },
  {
   "cell_type": "code",
   "execution_count": 230,
   "metadata": {},
   "outputs": [],
   "source": [
    "def trieConstruction(Patterns):\n",
    "    trie = {0:{}}\n",
    "    idx = 1\n",
    "    for pattern in patterns:\n",
    "        curr = 0\n",
    "        for base in pattern:\n",
    "            if base not in trie[curr]:\n",
    "                trie[curr][base] = idx\n",
    "                trie[idx] = {}\n",
    "                curr = idx \n",
    "                idx += 1\n",
    "            else:\n",
    "                curr = trie[curr][base]\n",
    "    return trie\n",
    "\n",
    "def printTrie(trie):\n",
    "    for node in trie:\n",
    "        for symbol in trie[node]:\n",
    "            print(str(node)+ '->'+str(trie[node][symbol])+':'+symbol)\n",
    "\n"
   ]
  },
  {
   "cell_type": "code",
   "execution_count": 232,
   "metadata": {},
   "outputs": [
    {
     "output_type": "stream",
     "name": "stdout",
     "text": [
      "0->1:A\n0->7:G\n1->2:T\n2->3:A\n2->6:C\n3->4:G\n4->5:A\n7->8:A\n8->9:T\n"
     ]
    }
   ],
   "source": [
    "with open('test.txt') as f:\n",
    "    patterns = [pattern.strip() for pattern in f.readlines()]\n",
    "\n",
    "trie = trieConstruction(patterns)\n",
    "printTrie(trie)"
   ]
  },
  {
   "source": [
    "### Implement TrieMatching"
   ],
   "cell_type": "markdown",
   "metadata": {}
  },
  {
   "cell_type": "code",
   "execution_count": 234,
   "metadata": {},
   "outputs": [],
   "source": [
    "def prefixMatching(text, trie):\n",
    "    char = text[0]\n",
    "    node = 0\n",
    "    path_length = 0\n",
    "    path = \"\"\n",
    "    while True:\n",
    "        if len(trie[node]) == 0 :\n",
    "            return path\n",
    "        elif char in trie[node]:\n",
    "            path = path + char\n",
    "            node = trie[node][char]\n",
    "            path_length += 1\n",
    "            if path_length < len(text) :\n",
    "                char = text [path_length]\n",
    "            else:\n",
    "                pass\n",
    "        else:\n",
    "            return\n",
    "\n",
    "def trieMatching( patterns, text):\n",
    "    trie = trieConstruction(patterns)\n",
    "    results = []\n",
    "    for i in range(len(text) - 1):\n",
    "        results.append(prefixMatching(text[i:], trie))\n",
    "    return results "
   ]
  },
  {
   "cell_type": "code",
   "execution_count": 239,
   "metadata": {},
   "outputs": [
    {
     "output_type": "stream",
     "name": "stdout",
     "text": [
      "1 4 11 15\n"
     ]
    }
   ],
   "source": [
    "f = open('test.txt', \"r\")\n",
    "text = f.readline().strip()\n",
    "patterns = [line.strip() for line in f.readlines()]\n",
    "\n",
    "result = trieMatching(patterns, text)\n",
    "print (' '.join([str(i) for i in range(len(result)) if result[i] != None]))\n"
   ]
  },
  {
   "source": [
    "### Construct the Suffix Array of a String"
   ],
   "cell_type": "markdown",
   "metadata": {}
  },
  {
   "cell_type": "code",
   "execution_count": 244,
   "metadata": {},
   "outputs": [],
   "source": [
    "def suffixArrayConstruction(text):\n",
    "    ordered_pairs = sorted([(text[i:],i) for i in range(len(text))])\n",
    "    print(ordered_pairs)\n",
    "    suffix_array = [pair[1] for pair in ordered_pairs]\n",
    "    return suffix_array\n",
    "\n"
   ]
  },
  {
   "cell_type": "code",
   "execution_count": 245,
   "metadata": {},
   "outputs": [
    {
     "output_type": "stream",
     "name": "stdout",
     "text": [
      "[('$', 15), ('A$', 14), ('AACGATAGCGGTAGA$', 0), ('ACGATAGCGGTAGA$', 1), ('AGA$', 12), ('AGCGGTAGA$', 6), ('ATAGCGGTAGA$', 4), ('CGATAGCGGTAGA$', 2), ('CGGTAGA$', 8), ('GA$', 13), ('GATAGCGGTAGA$', 3), ('GCGGTAGA$', 7), ('GGTAGA$', 9), ('GTAGA$', 10), ('TAGA$', 11), ('TAGCGGTAGA$', 5)]\n"
     ]
    },
    {
     "output_type": "execute_result",
     "data": {
      "text/plain": [
       "[15, 14, 0, 1, 12, 6, 4, 2, 8, 13, 3, 7, 9, 10, 11, 5]"
      ]
     },
     "metadata": {},
     "execution_count": 245
    }
   ],
   "source": [
    "f = open('test.txt', \"r\")\n",
    "text = f.readline().strip()\n",
    "suffixArrayConstruction(text)"
   ]
  }
 ]
}