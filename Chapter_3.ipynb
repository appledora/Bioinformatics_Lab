{
 "metadata": {
  "language_info": {
   "codemirror_mode": {
    "name": "ipython",
    "version": 3
   },
   "file_extension": ".py",
   "mimetype": "text/x-python",
   "name": "python",
   "nbconvert_exporter": "python",
   "pygments_lexer": "ipython3",
   "version": "3.6.9-final"
  },
  "orig_nbformat": 2,
  "kernelspec": {
   "name": "python36964bit96b38543bc524d45aa4022ceee87892b",
   "display_name": "Python 3.6.9 64-bit",
   "language": "python"
  }
 },
 "nbformat": 4,
 "nbformat_minor": 2,
 "cells": [
  {
   "source": [
    "### (3A) Generate the k-mer Composition of a String"
   ],
   "cell_type": "markdown",
   "metadata": {}
  },
  {
   "cell_type": "code",
   "execution_count": 1,
   "metadata": {},
   "outputs": [
    {
     "output_type": "stream",
     "name": "stdout",
     "text": [
      "['ABCDE', 'BCDEF', 'CDEFG', 'DEFGH', 'EFGHI', 'FGHIJ', 'GHIJK']\n"
     ]
    }
   ],
   "source": [
    "def KmerComposition(k,Text):\n",
    "    kmers = []\n",
    "    for i in range( len(Text) - k + 1):\n",
    "        kmer = Text[i : i +k]\n",
    "        kmers.append(kmer)\n",
    "\n",
    "    return kmers\n",
    "\n",
    "print(KmerComposition(5, \"ABCDEFGHIJK\"))"
   ]
  },
  {
   "source": [
    "### (3B) Reconstruct a String from its Genome Path"
   ],
   "cell_type": "markdown",
   "metadata": {}
  },
  {
   "cell_type": "code",
   "execution_count": 2,
   "metadata": {},
   "outputs": [
    {
     "output_type": "stream",
     "name": "stdout",
     "text": [
      "A\nG\nC\nT\n"
     ]
    },
    {
     "output_type": "execute_result",
     "data": {
      "text/plain": [
       "'ACCGAAGCT'"
      ]
     },
     "metadata": {},
     "execution_count": 2
    }
   ],
   "source": [
    "def geneReconstruct(kmers):\n",
    "    text = kmers[0]\n",
    "    for i in range(1,len(kmers)):\n",
    "        print(kmers[i][-1:])\n",
    "        text += kmers[i][-1:]\n",
    "    return text\n",
    "\n",
    "geneReconstruct([\"ACCGA\",\n",
    "\"CCGAA\",\n",
    "\"CGAAG\",\n",
    "\"GAAGC\",\n",
    "\"AAGCT\"])"
   ]
  },
  {
   "source": [
    "### (3C) Construct the Overlap Graph of a Collection of k-mers"
   ],
   "cell_type": "markdown",
   "metadata": {}
  },
  {
   "cell_type": "code",
   "execution_count": 3,
   "metadata": {},
   "outputs": [
    {
     "output_type": "stream",
     "name": "stdout",
     "text": [
      "GCATG  ->  CATGC\nCATGC  ->  ATGCG\nAGGCA  ->  GGCAT\nGGCAT  ->  GCATG\n"
     ]
    }
   ],
   "source": [
    "def get_prefix (pattern):\n",
    "    return pattern[:len(pattern) - 1]\n",
    "def get_suffix (pattern):\n",
    "    return pattern[1:]\n",
    "\n",
    "def overlapGraph(patterns):\n",
    "    adj_matrix = [[0 for i in range(len(patterns))] for j in range(len(patterns))]\n",
    "\n",
    "    for i in range ( len (patterns)):\n",
    "        for j in range (len (patterns)):\n",
    "            if i != j and get_suffix(patterns[i]) == get_prefix(patterns[j]) :\n",
    "                adj_matrix[i][j] = 1\n",
    "\n",
    "    for m in range (len(adj_matrix)):\n",
    "        for n in range (len(adj_matrix)) :\n",
    "            if adj_matrix[m][n] == 1:\n",
    "                print (patterns[m], \" -> \", patterns[n])\n",
    "\n",
    "\n",
    "\n",
    "overlapGraph([\"ATGCG\", \"GCATG\", \"CATGC\", \"AGGCA\", \"GGCAT\"])"
   ]
  },
  {
   "source": [
    "### (3D) Construct the de Bruijn Graph of a String"
   ],
   "cell_type": "markdown",
   "metadata": {}
  },
  {
   "cell_type": "code",
   "execution_count": 5,
   "metadata": {},
   "outputs": [
    {
     "output_type": "stream",
     "name": "stdout",
     "text": [
      "AAG -> \nAGA\n\nAGA -> \nGAT\n\nATT -> \nTTC\n\nCTA -> \nTAC\n\nCTC -> \nTCT\n\nGAT -> \nATT\n\nTCT -> \nCTA\n,CTC\nTTC -> \nTCT\n\n"
     ]
    }
   ],
   "source": [
    "import collections\n",
    "def constructDeBruijn(k, Text):\n",
    "    adj_list_pair = {}\n",
    "    for i in range (len(Text) - k + 1):\n",
    "        kmer = Text[i : i +k]\n",
    "        prefix = get_prefix(kmer)\n",
    "        suffix = get_suffix (kmer)\n",
    "        if prefix not in adj_list_pair:\n",
    "            adj_list_pair[prefix] = (suffix,)\n",
    "        else :\n",
    "            adj_list_pair[prefix] += (suffix, )\n",
    "    \n",
    "    od = collections.OrderedDict(sorted(adj_list_pair.items()))\n",
    "    for key in od.keys():\n",
    "        print(str(key) + \" -> \")\n",
    "        if len(adj_list_pair[key]) == 1:\n",
    "            print(adj_list_pair[key][0] + \"\\n\")\n",
    "        else:\n",
    "            adj_list_pair[key] = sorted(adj_list_pair[key])\n",
    "            print(adj_list_pair[key][0])\n",
    "            del adj_list_pair[key][0]\n",
    "            for item in adj_list_pair[key]:\n",
    "                print(\",\" + str(item))\n",
    "\n",
    "constructDeBruijn(4,\"AAGATTCTCTAC\" )"
   ]
  },
  {
   "source": [
    "### (3E) Construct the de Bruijn Graph of a Collection of k-mers"
   ],
   "cell_type": "markdown",
   "metadata": {}
  },
  {
   "cell_type": "code",
   "execution_count": 6,
   "metadata": {},
   "outputs": [
    {
     "output_type": "execute_result",
     "data": {
      "text/plain": [
       "{'GAG': ['AGG'],\n",
       " 'AGG': ['GGG'],\n",
       " 'CAG': ['AGG', 'AGG'],\n",
       " 'GGG': ['GGG', 'GGA'],\n",
       " 'GGA': ['GAG']}"
      ]
     },
     "metadata": {},
     "execution_count": 6
    }
   ],
   "source": [
    "def get_prefix (pattern):\n",
    "    return pattern[:len(pattern) - 1]\n",
    "def get_suffix (pattern):\n",
    "    return pattern[1:]\n",
    "\n",
    "def constructDeBruijnFromKmers (kmers):\n",
    "    adj_list = {}\n",
    "    for kmer in kmers:\n",
    "        suffix = get_suffix(kmer)\n",
    "        prefix = get_prefix(kmer)\n",
    "        adj_list[prefix] = []\n",
    "        adj_list[suffix] = []\n",
    "    for kmer in kmers:\n",
    "        suffix = get_suffix(kmer)\n",
    "        prefix = get_prefix(kmer)\n",
    "        adj_list[prefix].append(suffix)\n",
    "    return adj_list\n",
    "\n",
    "constructDeBruijnFromKmers([\"GAGG\",\n",
    "\"CAGG\",\n",
    "\"GGGG\",\n",
    "\"GGGA\",\n",
    "\"CAGG\",\n",
    "\"AGGG\",\n",
    "\"GGAG\"])"
   ]
  },
  {
   "source": [
    "### (3F) Find an Eulerian Cycle in a Graph"
   ],
   "cell_type": "markdown",
   "metadata": {}
  },
  {
   "cell_type": "code",
   "execution_count": 7,
   "metadata": {},
   "outputs": [],
   "source": [
    "def find_cycle(graph, start):\n",
    "    cycle = []\n",
    "    u = graph[start].pop()\n",
    "    while u != start :\n",
    "        cycle.append(u)\n",
    "        u = graph[u].pop()\n",
    "    cycle.append(u)\n",
    "\n",
    "    isolated = [k for k, v in graph.items() if not v]\n",
    "    for k in isolated:\n",
    "        del graph[k]\n",
    "\n",
    "    return cycle\n",
    "\n",
    "def find_eulerian_cycle(graph, start):\n",
    "    cycle = [start] + find_cycle(graph, start)\n",
    "    visited = True\n",
    "    while visited:\n",
    "        visited = False\n",
    "        for i, node in enumerate(cycle):\n",
    "            if node in graph:\n",
    "                visited = True\n",
    "                cycle = cycle[:i+1] + find_cycle(graph, node) + cycle[i+1:]\n",
    "                break\n",
    "    return cycle\n",
    "    \n",
    "with open('test.txt') as inFile:\n",
    "        graph = parse_input(inFile)\n",
    "print('->'.join(map(str, find_eulerian_cycle(graph,0))))"
   ]
  },
  {
   "source": [
    "### (3G) Find an Eulerian Path in a Graph"
   ],
   "cell_type": "markdown",
   "metadata": {}
  },
  {
   "cell_type": "code",
   "execution_count": 8,
   "metadata": {},
   "outputs": [],
   "source": [
    "def eulerian_path(graph, v,path, nodes):\n",
    "\n",
    "    if v not in graph.keys():\n",
    "        path.append(v)\n",
    "        if len(nodes) == 0:\n",
    "            return\n",
    "        else:\n",
    "            eulerian_path(graph, nodes.pop(),path,nodes ) \n",
    "    elif len(graph[v]) == 0:\n",
    "        path.append(v)\n",
    "        if len(nodes) == 0:\n",
    "            return\n",
    "        else:\n",
    "            eulerian_path(graph, nodes.pop(),path, nodes )\n",
    "    else:\n",
    "        nodes.append(v)\n",
    "        eulerian_path( graph, graph[v].pop(0),path, nodes)\n",
    "    return path, nodes"
   ]
  },
  {
   "source": [
    "### (3H) Reconstruct a String from its k-mer Composition"
   ],
   "cell_type": "markdown",
   "metadata": {}
  },
  {
   "cell_type": "code",
   "execution_count": 11,
   "metadata": {},
   "outputs": [],
   "source": [
    "def get_start(adj_list):\n",
    "    deg = {}\n",
    "    for v in adj_list:       \n",
    "        if v not in deg.keys():\n",
    "            deg[v] = -len(adj_list[v])\n",
    "        else:\n",
    "            deg[v] -= len(adj_list[v])   \n",
    "        for u in adj_list[v]:\n",
    "            if u not in deg.keys():\n",
    "                deg[u] = 1\n",
    "            else:\n",
    "                deg[u] += 1   \n",
    "    for v in deg:\n",
    "        if deg[v] == -1:\n",
    "            source = v    \n",
    "    return source\n",
    "\n",
    "\n",
    "\n",
    "def constructSequence(kmers):\n",
    "    dB = constructDeBruijnFromKmers(kmers)\n",
    "    start = get_start(dB)\n",
    "    path_ = []\n",
    "    nodes_ = []\n",
    "    path, nodes = eulerian_path(dB, start, path_,nodes_)\n",
    "    path.reverse()\n",
    "    seq = path[0]\n",
    "    for kmer in path[1:] :\n",
    "        seq += path[-1]\n",
    "    print(seq)\n",
    "\n",
    "# f = open('test.txt', 'r') \n",
    "# k = int(f.readline().strip())\n",
    "# kmers = list(str(l.strip('\\n')) for l in f.readlines())\n",
    "# print(kmers)\n",
    "# constructSequence(kmers)"
   ]
  },
  {
   "source": [
    "### (3J) Reconstruct a String from its Paired Composition"
   ],
   "cell_type": "markdown",
   "metadata": {}
  },
  {
   "source": [
    "### (3K) Generate the Contigs from a Collection of Reads"
   ],
   "cell_type": "markdown",
   "metadata": {}
  },
  {
   "cell_type": "code",
   "execution_count": 12,
   "metadata": {},
   "outputs": [],
   "source": [
    "def count_degree(graph):\n",
    "    nodes = set(list(v for v in graph.keys()))\n",
    "    for v in graph:\n",
    "        nodes.update(graph[v])\n",
    "    nodes = list(nodes)\n",
    "\n",
    "    deg = {}\n",
    "    for v in nodes:\n",
    "            \n",
    "        if v not in deg.keys():\n",
    "            if v in graph.keys():\n",
    "                deg[v] = (0, len(graph[v]))\n",
    "            else:\n",
    "                deg[v] = (0,0)\n",
    "        else:\n",
    "            if v in graph.keys():\n",
    "                deg[v] = (deg[v][0], deg[v][1]+len(graph[v]))\n",
    "        \n",
    "        if v in graph.keys():\n",
    "            for w in graph[v]:\n",
    "                if w not in deg.keys():\n",
    "                    deg[w] = (1,0)\n",
    "                else:\n",
    "                    deg[w] = (deg[w][0]+1,deg[w][1])\n",
    "        \n",
    "    return deg\n",
    "\n",
    "\n",
    "def max_non_branching_paths (graph, degree):\n",
    "    paths = []\n",
    "    for v in degree:\n",
    "        if degree[v] != (1,1):\n",
    "            if degree[v][1] > 0:\n",
    "                for w in graph[v] : \n",
    "                    path = str (v + w[-1])\n",
    "                    while degree[w] == (1,1):\n",
    "                        w = graph[w][0]\n",
    "                        path += w[-1]\n",
    "                    paths.append(path)\n",
    "    return paths\n",
    "\n",
    "def construct_contigs(reads) :\n",
    "    graph = constructDeBruijnFromKmers(reads)\n",
    "    degree = count_degree(graph)\n",
    "    print(degree)\n",
    "    paths = max_non_branching_paths(graph, degree)\n",
    "    print(paths)"
   ]
  },
  {
   "source": [
    "### (3L) Construct a String Spelled by a Gapped Genome Path"
   ],
   "cell_type": "markdown",
   "metadata": {}
  },
  {
   "source": [
    "### (3M) Generate All Maximal Non-Branching Paths in a Graph"
   ],
   "cell_type": "markdown",
   "metadata": {}
  },
  {
   "cell_type": "code",
   "execution_count": null,
   "metadata": {},
   "outputs": [],
   "source": [
    "def max_non_branching_paths (graph, degree):\n",
    "    paths = []\n",
    "    for v in degree:\n",
    "        if degree[v] != (1,1):\n",
    "            if degree[v][1] > 0:\n",
    "                for w in graph[v] : \n",
    "                    path = str (v + w[-1])\n",
    "                    while degree[w] == (1,1):\n",
    "                        w = graph[w][0]\n",
    "                        path += w[-1]\n",
    "                    paths.append(path)\n",
    "    return paths"
   ]
  }
 ]
}