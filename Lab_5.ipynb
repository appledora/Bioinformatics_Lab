{
 "metadata": {
  "language_info": {
   "codemirror_mode": {
    "name": "ipython",
    "version": 3
   },
   "file_extension": ".py",
   "mimetype": "text/x-python",
   "name": "python",
   "nbconvert_exporter": "python",
   "pygments_lexer": "ipython3",
   "version": "3.6.9-final"
  },
  "orig_nbformat": 2,
  "kernelspec": {
   "name": "python36964bit96b38543bc524d45aa4022ceee87892b",
   "display_name": "Python 3.6.9 64-bit",
   "language": "python"
  }
 },
 "nbformat": 4,
 "nbformat_minor": 2,
 "cells": [
  {
   "source": [
    "### Helper Utils"
   ],
   "cell_type": "markdown",
   "metadata": {}
  },
  {
   "cell_type": "code",
   "execution_count": 4,
   "metadata": {},
   "outputs": [],
   "source": [
    "from collections import defaultdict\n",
    "def parse_input(file):\n",
    "    graph =  defaultdict(list)\n",
    "\n",
    "    for line in file.readlines():\n",
    "        x, y = line.strip().split(\" -> \")\n",
    "        u, v = int(x), list( map(int,y.split(\",\")))\n",
    "        graph[u].extend(v)\n",
    "\n",
    "    return graph"
   ]
  },
  {
   "source": [
    "### Find an Eulerian Cycle in a Graph"
   ],
   "cell_type": "markdown",
   "metadata": {}
  },
  {
   "cell_type": "code",
   "execution_count": 2,
   "metadata": {},
   "outputs": [],
   "source": [
    "def find_cycle(graph, start):\n",
    "    cycle = []\n",
    "    u = graph[start].pop()\n",
    "    while u != start :\n",
    "        cycle.append(u)\n",
    "        u = graph[u].pop()\n",
    "    cycle.append(u)\n",
    "\n",
    "    isolated = [k for k, v in graph.items() if not v]\n",
    "    for k in isolated:\n",
    "        del graph[k]\n",
    "\n",
    "    return cycle\n",
    "\n",
    "def find_eulerian_cycle(graph, start):\n",
    "    cycle = [start] + find_cycle(graph, start)\n",
    "    visited = True\n",
    "    while visited:\n",
    "        visited = False\n",
    "        for i, node in enumerate(cycle):\n",
    "            if node in graph:\n",
    "                visited = True\n",
    "                cycle = cycle[:i+1] + find_cycle(graph, node) + cycle[i+1:]\n",
    "                break\n",
    "    return cycle"
   ]
  },
  {
   "cell_type": "code",
   "execution_count": 11,
   "metadata": {},
   "outputs": [
    {
     "output_type": "stream",
     "name": "stdout",
     "text": [
      "0->3->2->6->8->7->9->6->5->4->2->1->0\n"
     ]
    }
   ],
   "source": [
    "with open('test.txt') as inFile:\n",
    "        graph = parse_input(inFile)\n",
    "print('->'.join(map(str, find_eulerian_cycle(graph,0))))"
   ]
  },
  {
   "source": [
    "### Reconstruct a String from its k-mer Composition"
   ],
   "cell_type": "markdown",
   "metadata": {}
  },
  {
   "cell_type": "code",
   "execution_count": 25,
   "metadata": {},
   "outputs": [],
   "source": [
    "def get_prefix (pattern):\n",
    "    return pattern[:len(pattern) - 1]\n",
    "def get_suffix (pattern):\n",
    "    return pattern[1:]\n",
    "\n",
    "def constructDeBruijnFromKmers (kmers):\n",
    "    adj_list = {}\n",
    "    for kmer in kmers:\n",
    "        suffix = get_suffix(kmer)\n",
    "        prefix = get_prefix(kmer)\n",
    "        adj_list[prefix] = []\n",
    "        adj_list[suffix] = []\n",
    "    for kmer in kmers:\n",
    "        suffix = get_suffix(kmer)\n",
    "        prefix = get_prefix(kmer)\n",
    "        adj_list[prefix].append(suffix)\n",
    "    return adj_list\n",
    "\n",
    "def get_start(adj_list):\n",
    "    deg = {}\n",
    "    for v in adj_list:       \n",
    "        if v not in deg.keys():\n",
    "            deg[v] = -len(adj_list[v])\n",
    "        else:\n",
    "            deg[v] -= len(adj_list[v])   \n",
    "        for u in adj_list[v]:\n",
    "            if u not in deg.keys():\n",
    "                deg[u] = 1\n",
    "            else:\n",
    "                deg[u] += 1   \n",
    "    for v in deg:\n",
    "        if deg[v] == -1:\n",
    "            source = v    \n",
    "    return source\n",
    "\n",
    "def eulerian_path(graph, v,path, nodes):\n",
    "\n",
    "    if v not in graph.keys():\n",
    "        path.append(v)\n",
    "        if len(nodes) == 0:\n",
    "            return\n",
    "        else:\n",
    "            eulerian_path(graph, nodes.pop(),path,nodes ) \n",
    "    elif len(graph[v]) == 0:\n",
    "        path.append(v)\n",
    "        if len(nodes) == 0:\n",
    "            return\n",
    "        else:\n",
    "            eulerian_path(graph, nodes.pop(),path, nodes )\n",
    "    else:\n",
    "        nodes.append(v)\n",
    "        eulerian_path( graph, graph[v].pop(0),path, nodes)\n",
    "    return path, nodes\n",
    "\n",
    "\n",
    "def constructSequence(kmers):\n",
    "    seq = kmers[0]\n",
    "    for kmer in kmers[1:] :\n",
    "        seq += kmer[-1]\n",
    "\n",
    "    return seq"
   ]
  },
  {
   "cell_type": "code",
   "execution_count": 28,
   "metadata": {},
   "outputs": [
    {
     "output_type": "stream",
     "name": "stdout",
     "text": [
      "['CTTA', 'ACCA', 'TACC', 'GGCT', 'GCTT', 'TTAC']\n{'CTT': ['TTA'], 'TTA': ['TAC'], 'ACC': ['CCA'], 'CCA': [], 'TAC': ['ACC'], 'GGC': ['GCT'], 'GCT': ['CTT']}\nGGC\n['GGC', 'GCT', 'CTT', 'TTA', 'TAC', 'ACC', 'CCA']\nGGCTTACCA\n"
     ]
    }
   ],
   "source": [
    "f = open('test.txt', 'r') \n",
    "k = int(f.readline().strip())\n",
    "kmers = list(str(l.strip('\\n')) for l in f.readlines())\n",
    "print(kmers)\n",
    "dB = constructDeBruijnFromKmers(kmers)\n",
    "print(dB)\n",
    "start = get_start(dB)\n",
    "print(start)\n",
    "path_ = []\n",
    "nodes_ = []\n",
    "path, nodes = eulerian_path(dB, start, path_,nodes_)\n",
    "path.reverse()\n",
    "print(path)\n",
    "seq = constructSequence(path)\n",
    "print(seq)"
   ]
  },
  {
   "source": [
    "### Generate Contigs from a Collection of Reads"
   ],
   "cell_type": "markdown",
   "metadata": {}
  },
  {
   "cell_type": "code",
   "execution_count": null,
   "metadata": {},
   "outputs": [],
   "source": [
    "def count_degree(graph):\n",
    "    nodes = set(list(v for v in graph.keys()))\n",
    "    for v in graph:\n",
    "        nodes.update(graph[v])\n",
    "    nodes = list(nodes)\n",
    "\n",
    "    for v in nodes:\n",
    "            \n",
    "        if v not in deg.keys():\n",
    "            if v in graph.keys():\n",
    "                deg[v] = (0, len(graph[v]))\n",
    "            else:\n",
    "                deg[v] = (0,0)\n",
    "        else:\n",
    "            if v in graph.keys():\n",
    "                deg[v] = (deg[v][0], deg[v][1]+len(graph[v]))\n",
    "        \n",
    "        if v in graph.keys():\n",
    "            for w in graph[v]:\n",
    "                if w not in deg.keys():\n",
    "                    deg[w] = (1,0)\n",
    "                else:\n",
    "                    deg[w] = (deg[w][0]+1,deg[w][1])\n",
    "        \n",
    "    return deg\n",
    "\n",
    "\n",
    "def max_non_branching_paths (graph, degree):\n",
    "    paths = []\n",
    "    for v in degree:\n",
    "        if degree[v]"
   ]
  }
 ]
}