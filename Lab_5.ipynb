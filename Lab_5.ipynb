{
 "metadata": {
  "language_info": {
   "codemirror_mode": {
    "name": "ipython",
    "version": 3
   },
   "file_extension": ".py",
   "mimetype": "text/x-python",
   "name": "python",
   "nbconvert_exporter": "python",
   "pygments_lexer": "ipython3",
   "version": "3.6.9-final"
  },
  "orig_nbformat": 2,
  "kernelspec": {
   "name": "python36964bit96b38543bc524d45aa4022ceee87892b",
   "display_name": "Python 3.6.9 64-bit",
   "language": "python"
  }
 },
 "nbformat": 4,
 "nbformat_minor": 2,
 "cells": [
  {
   "source": [
    "### Helper Utils"
   ],
   "cell_type": "markdown",
   "metadata": {}
  },
  {
   "cell_type": "code",
   "execution_count": 27,
   "metadata": {},
   "outputs": [],
   "source": [
    "from collections import defaultdict\n",
    "def parse_input(file):\n",
    "    graph =  defaultdict(list)\n",
    "\n",
    "    for line in file.readlines():\n",
    "        x, y = line.strip().split(\" -> \")\n",
    "        u, v = int(x), list( map(int,y.split(\",\")))\n",
    "        graph[u].extend(v)\n",
    "\n",
    "    return graph\n",
    "\n",
    "def reverse_complement(text):\n",
    "    text = text[::-1]\n",
    "    switcher = {\n",
    "        \"A\" : \"T\",\n",
    "        \"T\" : \"A\",\n",
    "        \"G\" : \"C\",\n",
    "        \"C\" : \"G\"}\n",
    "    reversed = \"\"\n",
    "    for i in range(len(text)):\n",
    "        reversed += switcher.get(text[i])\n",
    "    return reversed\n",
    "\n",
    "RNA2PEPTIDE = {\n",
    "    'UUU': 'F',     'CUU': 'L',     'AUU': 'I',     'GUU': 'V',\n",
    "    'UUC': 'F',     'CUC': 'L',     'AUC': 'I',     'GUC': 'V',\n",
    "    'UUA': 'L',     'CUA': 'L',     'AUA': 'I',     'GUA': 'V',\n",
    "    'UUG': 'L',     'CUG': 'L',     'AUG': 'M',     'GUG': 'V',\n",
    "    'UCU': 'S',     'CCU': 'P',     'ACU': 'T',     'GCU': 'A',\n",
    "    'UCC': 'S',     'CCC': 'P',     'ACC': 'T',     'GCC': 'A',\n",
    "    'UCA': 'S',     'CCA': 'P',     'ACA': 'T',     'GCA': 'A',\n",
    "    'UCG': 'S',     'CCG': 'P',     'ACG': 'T',     'GCG': 'A',\n",
    "    'UAU': 'Y',     'CAU': 'H',     'AAU': 'N',     'GAU': 'D',\n",
    "    'UAC': 'Y',     'CAC': 'H',     'AAC': 'N',     'GAC': 'D',\n",
    "    'UAA': 'Stop',  'CAA': 'Q',     'AAA': 'K',     'GAA': 'E',\n",
    "    'UAG': 'Stop',  'CAG': 'Q',     'AAG': 'K',     'GAG': 'E',\n",
    "    'UGU': 'C',     'CGU': 'R',     'AGU': 'S',     'GGU': 'G',\n",
    "    'UGC': 'C',     'CGC': 'R',     'AGC': 'S',     'GGC': 'G',\n",
    "    'UGA': 'Stop',  'CGA': 'R',     'AGA': 'R',     'GGA': 'G',\n",
    "    'UGG': 'W',     'CGG': 'R',     'AGG': 'R',     'GGG': 'G'\n",
    "}\n",
    "\n",
    "DNA2PEPTIDE = {\n",
    "    'TTT': 'F',      'CTT': 'L',      'ATT': 'I',      'GTT': 'V',\n",
    "    'TTC': 'F',      'CTC': 'L',      'ATC': 'I',      'GTC': 'V',\n",
    "    'TTA': 'L',      'CTA': 'L',      'ATA': 'I',      'GTA': 'V',\n",
    "    'TTG': 'L',      'CTG': 'L',      'ATG': 'M',      'GTG': 'V',\n",
    "    'TCT': 'S',      'CCT': 'P',      'ACT': 'T',      'GCT': 'A',\n",
    "    'TCC': 'S',      'CCC': 'P',      'ACC': 'T',      'GCC': 'A',\n",
    "    'TCA': 'S',      'CCA': 'P',      'ACA': 'T',      'GCA': 'A',\n",
    "    'TCG': 'S',      'CCG': 'P',      'ACG': 'T',      'GCG': 'A',\n",
    "    'TAT': 'Y',      'CAT': 'H',      'AAT': 'N',      'GAT': 'D',\n",
    "    'TAC': 'Y',      'CAC': 'H',      'AAC': 'N',      'GAC': 'D',\n",
    "    'TAA': 'Stop',   'CAA': 'Q',      'AAA': 'K',      'GAA': 'E',\n",
    "    'TAG': 'Stop',   'CAG': 'Q',      'AAG': 'K',      'GAG': 'E',\n",
    "    'TGT': 'C',      'CGT': 'R',      'AGT': 'S',      'GGT': 'G',\n",
    "    'TGC': 'C',      'CGC': 'R',      'AGC': 'S',      'GGC': 'G',\n",
    "    'TGA': 'Stop',   'CGA': 'R',      'AGA': 'R',      'GGA': 'G',\n",
    "    'TGG': 'W',      'CGG': 'R',      'AGG': 'R',      'GGG': 'G' \n",
    "}\n",
    "\n",
    "mass_peptide = {'G': 57, 'A': 71, 'S': 87, 'P': 97, 'V': 99, 'T': 101, 'C': 103, 'I': 113, 'L': 113, 'N': 114, \n",
    "                'D': 115, 'K': 128, 'Q': 128, 'E': 129, 'M':131, 'H': 137, 'F': 147, 'R': 156, 'Y': 163, 'W': 186}"
   ]
  },
  {
   "source": [
    "### Find an Eulerian Cycle in a Graph"
   ],
   "cell_type": "markdown",
   "metadata": {}
  },
  {
   "cell_type": "code",
   "execution_count": 2,
   "metadata": {},
   "outputs": [],
   "source": [
    "def find_cycle(graph, start):\n",
    "    cycle = []\n",
    "    u = graph[start].pop()\n",
    "    while u != start :\n",
    "        cycle.append(u)\n",
    "        u = graph[u].pop()\n",
    "    cycle.append(u)\n",
    "\n",
    "    isolated = [k for k, v in graph.items() if not v]\n",
    "    for k in isolated:\n",
    "        del graph[k]\n",
    "\n",
    "    return cycle\n",
    "\n",
    "def find_eulerian_cycle(graph, start):\n",
    "    cycle = [start] + find_cycle(graph, start)\n",
    "    visited = True\n",
    "    while visited:\n",
    "        visited = False\n",
    "        for i, node in enumerate(cycle):\n",
    "            if node in graph:\n",
    "                visited = True\n",
    "                cycle = cycle[:i+1] + find_cycle(graph, node) + cycle[i+1:]\n",
    "                break\n",
    "    return cycle"
   ]
  },
  {
   "cell_type": "code",
   "execution_count": 11,
   "metadata": {},
   "outputs": [
    {
     "output_type": "stream",
     "name": "stdout",
     "text": [
      "0->3->2->6->8->7->9->6->5->4->2->1->0\n"
     ]
    }
   ],
   "source": [
    "with open('test.txt') as inFile:\n",
    "        graph = parse_input(inFile)\n",
    "print('->'.join(map(str, find_eulerian_cycle(graph,0))))"
   ]
  },
  {
   "source": [
    "### Reconstruct a String from its k-mer Composition"
   ],
   "cell_type": "markdown",
   "metadata": {}
  },
  {
   "cell_type": "code",
   "execution_count": 4,
   "metadata": {},
   "outputs": [],
   "source": [
    "def get_prefix (pattern):\n",
    "    return pattern[:len(pattern) - 1]\n",
    "def get_suffix (pattern):\n",
    "    return pattern[1:]\n",
    "\n",
    "def constructDeBruijnFromKmers (kmers):\n",
    "    adj_list = {}\n",
    "    for kmer in kmers:\n",
    "        suffix = get_suffix(kmer)\n",
    "        prefix = get_prefix(kmer)\n",
    "        adj_list[prefix] = []\n",
    "        adj_list[suffix] = []\n",
    "    for kmer in kmers:\n",
    "        suffix = get_suffix(kmer)\n",
    "        prefix = get_prefix(kmer)\n",
    "        adj_list[prefix].append(suffix)\n",
    "    return adj_list\n",
    "\n",
    "def get_start(adj_list):\n",
    "    deg = {}\n",
    "    for v in adj_list:       \n",
    "        if v not in deg.keys():\n",
    "            deg[v] = -len(adj_list[v])\n",
    "        else:\n",
    "            deg[v] -= len(adj_list[v])   \n",
    "        for u in adj_list[v]:\n",
    "            if u not in deg.keys():\n",
    "                deg[u] = 1\n",
    "            else:\n",
    "                deg[u] += 1   \n",
    "    for v in deg:\n",
    "        if deg[v] == -1:\n",
    "            source = v    \n",
    "    return source\n",
    "\n",
    "def eulerian_path(graph, v,path, nodes):\n",
    "\n",
    "    if v not in graph.keys():\n",
    "        path.append(v)\n",
    "        if len(nodes) == 0:\n",
    "            return\n",
    "        else:\n",
    "            eulerian_path(graph, nodes.pop(),path,nodes ) \n",
    "    elif len(graph[v]) == 0:\n",
    "        path.append(v)\n",
    "        if len(nodes) == 0:\n",
    "            return\n",
    "        else:\n",
    "            eulerian_path(graph, nodes.pop(),path, nodes )\n",
    "    else:\n",
    "        nodes.append(v)\n",
    "        eulerian_path( graph, graph[v].pop(0),path, nodes)\n",
    "    return path, nodes\n",
    "\n",
    "\n",
    "def constructSequence(kmers):\n",
    "    dB = constructDeBruijnFromKmers(kmers)\n",
    "    start = get_start(dB)\n",
    "    path_ = []\n",
    "    nodes_ = []\n",
    "    path, nodes = eulerian_path(dB, start, path_,nodes_)\n",
    "    path.reverse()\n",
    "    seq = path[0]\n",
    "    for kmer in path[1:] :\n",
    "        seq += path[-1]\n",
    "    print(seq)"
   ]
  },
  {
   "cell_type": "code",
   "execution_count": 6,
   "metadata": {},
   "outputs": [
    {
     "output_type": "stream",
     "name": "stdout",
     "text": [
      "['ATG', 'ATG', 'TGT', 'TGG', 'CAT', 'GGA', 'GAT', 'AGA']\nAGGTGTGTGTGTGTGT\n"
     ]
    }
   ],
   "source": [
    "f = open('test.txt', 'r') \n",
    "k = int(f.readline().strip())\n",
    "kmers = list(str(l.strip('\\n')) for l in f.readlines())\n",
    "print(kmers)\n",
    "constructSequence(kmers)"
   ]
  },
  {
   "source": [
    "### Generate Contigs from a Collection of Reads"
   ],
   "cell_type": "markdown",
   "metadata": {}
  },
  {
   "cell_type": "code",
   "execution_count": 2,
   "metadata": {},
   "outputs": [],
   "source": [
    "def count_degree(graph):\n",
    "    nodes = set(list(v for v in graph.keys()))\n",
    "    for v in graph:\n",
    "        nodes.update(graph[v])\n",
    "    nodes = list(nodes)\n",
    "\n",
    "    deg = {}\n",
    "    for v in nodes:\n",
    "            \n",
    "        if v not in deg.keys():\n",
    "            if v in graph.keys():\n",
    "                deg[v] = (0, len(graph[v]))\n",
    "            else:\n",
    "                deg[v] = (0,0)\n",
    "        else:\n",
    "            if v in graph.keys():\n",
    "                deg[v] = (deg[v][0], deg[v][1]+len(graph[v]))\n",
    "        \n",
    "        if v in graph.keys():\n",
    "            for w in graph[v]:\n",
    "                if w not in deg.keys():\n",
    "                    deg[w] = (1,0)\n",
    "                else:\n",
    "                    deg[w] = (deg[w][0]+1,deg[w][1])\n",
    "        \n",
    "    return deg\n",
    "\n",
    "\n",
    "def max_non_branching_paths (graph, degree):\n",
    "    paths = []\n",
    "    for v in degree:\n",
    "        if degree[v] != (1,1):\n",
    "            if degree[v][1] > 0:\n",
    "                for w in graph[v] : \n",
    "                    path = str (v + w[-1])\n",
    "                    while degree[w] == (1,1):\n",
    "                        w = graph[w][0]\n",
    "                        path += w[-1]\n",
    "                    paths.append(path)\n",
    "    return paths\n",
    "\n",
    "def construct_contigs(reads) :\n",
    "    graph = constructDeBruijnFromKmers(reads)\n",
    "    degree = count_degree(graph)\n",
    "    print(degree)\n",
    "    paths = max_non_branching_paths(graph, degree)\n",
    "    print(paths)"
   ]
  },
  {
   "cell_type": "code",
   "execution_count": 7,
   "metadata": {},
   "outputs": [
    {
     "output_type": "stream",
     "name": "stdout",
     "text": [
      "{'': (1, 1), 'GG': (1, 1), 'GA': (2, 1), 'TG': (2, 2), 'GT': (1, 0), 'AT': (2, 2), 'AG': (0, 1), 'CA': (0, 1)}\n['GAT', 'TGT', 'TGGA', 'ATG', 'ATG', 'AGA', 'CAT']\n"
     ]
    }
   ],
   "source": [
    "f = open('test.txt', 'r') \n",
    "reads = list(str(l.strip('\\n')) for l in f.readlines())\n",
    "construct_contigs(reads)"
   ]
  },
  {
   "source": [
    "### Translate an RNA String into an Amino Acid String"
   ],
   "cell_type": "markdown",
   "metadata": {}
  },
  {
   "cell_type": "code",
   "execution_count": 12,
   "metadata": {},
   "outputs": [
    {
     "output_type": "execute_result",
     "data": {
      "text/plain": [
       "'MAMAPRTEINSTRING'"
      ]
     },
     "metadata": {},
     "execution_count": 12
    }
   ],
   "source": [
    "def translateRNAtoPeptide(rna):\n",
    "    peptide = \"\"\n",
    "    for i in range(0,len(rna),3):\n",
    "        peptide += RNA2PEPTIDE[rna[i:i+3]]\n",
    "    return peptide\n",
    "\n",
    "translateRNAtoPeptide(\"AUGGCCAUGGCGCCCAGAACUGAGAUCAAUAGUACCCGUAUUAACGGGUGA\")"
   ]
  },
  {
   "source": [
    "### Find Substrings of a Genome Encoding a Given Amino Acid String"
   ],
   "cell_type": "markdown",
   "metadata": {}
  },
  {
   "cell_type": "code",
   "execution_count": 34,
   "metadata": {},
   "outputs": [],
   "source": [
    "def translateDNAtoPeptide(dna):\n",
    "    # print(\"substring -> \", dna)\n",
    "    peptide = \"\"\n",
    "    for i in range(0,len(dna),3):\n",
    "        cur = DNA2PEPTIDE[dna[i:i+3]]\n",
    "        if cur != \"Stop\" :\n",
    "            peptide += cur\n",
    "    return peptide\n",
    "\n",
    "def aminoAcid_to_genome(dna, peptides):\n",
    "    for i in range(len(dna) - 3 * len(peptides)):\n",
    "        substr = dna[i: i+ (3*len(peptides))]\n",
    "        # print(substr)\n",
    "        rev_substr = reverse_complement(substr)\n",
    "        # print(\"---\", rev_substr)\n",
    "        acids = translateDNAtoPeptide(substr)\n",
    "        rev_acids = translateDNAtoPeptide(rev_substr)\n",
    "        if ((acids == peptides) or (rev_acids == peptides)):\n",
    "            print(substr)\n",
    "       "
   ]
  },
  {
   "cell_type": "code",
   "execution_count": 36,
   "metadata": {},
   "outputs": [
    {
     "output_type": "stream",
     "name": "stdout",
     "text": [
      "dna:  ATGGCCATGGCCCCCAGAACTGAGATCAATAGTACCCGTATTAACGGGTGA\npeptide :  MA\nATGGCC\nGGCCAT\nATGGCC\n"
     ]
    }
   ],
   "source": [
    "f = open('test.txt', 'r') \n",
    "lines = f.readlines()\n",
    "dna_ = lines[0].strip()\n",
    "peptide_ = lines[1].strip()\n",
    "print(\"dna: \", dna_)\n",
    "print(\"peptide : \", peptide_)\n",
    "aminoAcid_to_genome(dna_, peptide_)"
   ]
  },
  {
   "source": [
    "### Generate the Theoretical Spectrum of a Cyclic Peptide"
   ],
   "cell_type": "markdown",
   "metadata": {}
  },
  {
   "cell_type": "code",
   "execution_count": 29,
   "metadata": {},
   "outputs": [
    {
     "output_type": "stream",
     "name": "stdout",
     "text": [
      "['L', 'E', 'Q', 'N', 'LE', 'EQ', 'QN', 'NL', 'LEQ', 'EQN', 'QNL', 'NLE', 'LEQN']\n[0, 113, 129, 128, 114, 242, 257, 242, 227, 370, 371, 355, 356, 484]\n"
     ]
    }
   ],
   "source": [
    "test_mass = {\"a\" : 1, \"b\" :2 , \"c\" :3,  \"d\":5}\n",
    "def generateFragments(peptide):\n",
    "    length = len(peptide)\n",
    "    cycle = [ peptide + peptide[:i] for i in range(length) ]\n",
    "    fragments = [cycle[i][k:k+i+1] for i in range(length-1) for k in range(length)]\n",
    "    fragments.append(peptide)\n",
    "\n",
    "    return fragments\n",
    "def generateSpectrum(peptide):\n",
    "    fragments = generateFragments(peptide)\n",
    "    print(fragments)\n",
    "    spectrum = []\n",
    "    spectrum.append(0)\n",
    "    for f in fragments :\n",
    "        mass = 0\n",
    "        for i,p in enumerate(f):\n",
    "            mass += mass_peptide [p]\n",
    "        spectrum.append(mass)\n",
    "    \n",
    "    print(spectrum)\n",
    "\n",
    "generateSpectrum(\"LEQN\")\n",
    "        "
   ]
  }
 ]
}